{
 "cells": [
  {
   "cell_type": "markdown",
   "metadata": {},
   "source": [
    "### Introduction: The Titanic Analytical Case\n",
    "\n",
    "<br>\n",
    "\n",
    "**Context** \n",
    "<br>\n",
    "The data represents information pertaining to the travelers who went on the fateful journey on the RMS Titanic on April 1912. \n",
    "\n",
    "The analysis seeks to understand what sorts of people were likely to survive. In particular, the tools of machine learning are used to predict which passengers survived the tragedy.\n",
    "\n",
    "<br>\n",
    "\n",
    "**Analytical Goals**\n",
    "1. Explore the data via tables and visualizations\n",
    "2. Fit a model and evaluate the accuracy on a test sample\n",
    "\n",
    "Source: [Kaggle](https://www.kaggle.com/c/titanic/overview)\n",
    "\n",
    "***"
   ]
  },
  {
   "cell_type": "code",
   "execution_count": 2,
   "metadata": {},
   "outputs": [],
   "source": [
    "# Importing a set of analytic libraries\n",
    "import pandas as pd\n",
    "import numpy as np\n",
    "import matplotlib\n",
    "import matplotlib.pyplot as plt\n",
    "import sklearn\n",
    "import os\n",
    "\n",
    "# Ignore useless warnings (see SciPy issue #5998)\n",
    "import warnings\n",
    "warnings.filterwarnings(action=\"ignore\", message=\"^internal gelsd\")"
   ]
  },
  {
   "cell_type": "code",
   "execution_count": 77,
   "metadata": {},
   "outputs": [
    {
     "name": "stdout",
     "output_type": "stream",
     "text": [
      "/Users/ramavishwanathan/Desktop/Rama Files/purse/ml_all/ML_Projects\n"
     ]
    }
   ],
   "source": [
    "print(os.getcwd())\n",
    "\n",
    "#Importing data\n",
    "train = pd.read_csv(\"/Users/ramavishwanathan/Desktop/Rama Files/purse/ml_all/ML_Projects/Titanic/train.csv\", )"
   ]
  },
  {
   "cell_type": "markdown",
   "metadata": {},
   "source": [
    "***\n",
    "<br>\n",
    "\n",
    "The next step is to get a **quick look** at the data using the head() and the info() and describe() methods. This *triad* of methods provides a good, initial understanding of any data-set:\n",
    "1. The `head()` method showcases the top 5 rows of the dataset\n",
    "2. The `info()` method provides a quick description of the data, attribute (variable) names, their types and the degree to which these variables are populated (i.e. missing values)\n",
    "3. The `describe()` method provides detailed numerical summary of the numberical attributes *(sample statistics such as mean, median, quartiles, min, max)*\n",
    "\n",
    "<br>"
   ]
  },
  {
   "cell_type": "code",
   "execution_count": 3,
   "metadata": {},
   "outputs": [
    {
     "data": {
      "text/html": [
       "<div>\n",
       "<style scoped>\n",
       "    .dataframe tbody tr th:only-of-type {\n",
       "        vertical-align: middle;\n",
       "    }\n",
       "\n",
       "    .dataframe tbody tr th {\n",
       "        vertical-align: top;\n",
       "    }\n",
       "\n",
       "    .dataframe thead th {\n",
       "        text-align: right;\n",
       "    }\n",
       "</style>\n",
       "<table border=\"1\" class=\"dataframe\">\n",
       "  <thead>\n",
       "    <tr style=\"text-align: right;\">\n",
       "      <th></th>\n",
       "      <th>PassengerId</th>\n",
       "      <th>Survived</th>\n",
       "      <th>Pclass</th>\n",
       "      <th>Name</th>\n",
       "      <th>Sex</th>\n",
       "      <th>Age</th>\n",
       "      <th>SibSp</th>\n",
       "      <th>Parch</th>\n",
       "      <th>Ticket</th>\n",
       "      <th>Fare</th>\n",
       "      <th>Cabin</th>\n",
       "      <th>Embarked</th>\n",
       "    </tr>\n",
       "  </thead>\n",
       "  <tbody>\n",
       "    <tr>\n",
       "      <th>0</th>\n",
       "      <td>1</td>\n",
       "      <td>0</td>\n",
       "      <td>3</td>\n",
       "      <td>Braund, Mr. Owen Harris</td>\n",
       "      <td>male</td>\n",
       "      <td>22.0</td>\n",
       "      <td>1</td>\n",
       "      <td>0</td>\n",
       "      <td>A/5 21171</td>\n",
       "      <td>7.2500</td>\n",
       "      <td>NaN</td>\n",
       "      <td>S</td>\n",
       "    </tr>\n",
       "    <tr>\n",
       "      <th>1</th>\n",
       "      <td>2</td>\n",
       "      <td>1</td>\n",
       "      <td>1</td>\n",
       "      <td>Cumings, Mrs. John Bradley (Florence Briggs Th...</td>\n",
       "      <td>female</td>\n",
       "      <td>38.0</td>\n",
       "      <td>1</td>\n",
       "      <td>0</td>\n",
       "      <td>PC 17599</td>\n",
       "      <td>71.2833</td>\n",
       "      <td>C85</td>\n",
       "      <td>C</td>\n",
       "    </tr>\n",
       "    <tr>\n",
       "      <th>2</th>\n",
       "      <td>3</td>\n",
       "      <td>1</td>\n",
       "      <td>3</td>\n",
       "      <td>Heikkinen, Miss. Laina</td>\n",
       "      <td>female</td>\n",
       "      <td>26.0</td>\n",
       "      <td>0</td>\n",
       "      <td>0</td>\n",
       "      <td>STON/O2. 3101282</td>\n",
       "      <td>7.9250</td>\n",
       "      <td>NaN</td>\n",
       "      <td>S</td>\n",
       "    </tr>\n",
       "    <tr>\n",
       "      <th>3</th>\n",
       "      <td>4</td>\n",
       "      <td>1</td>\n",
       "      <td>1</td>\n",
       "      <td>Futrelle, Mrs. Jacques Heath (Lily May Peel)</td>\n",
       "      <td>female</td>\n",
       "      <td>35.0</td>\n",
       "      <td>1</td>\n",
       "      <td>0</td>\n",
       "      <td>113803</td>\n",
       "      <td>53.1000</td>\n",
       "      <td>C123</td>\n",
       "      <td>S</td>\n",
       "    </tr>\n",
       "    <tr>\n",
       "      <th>4</th>\n",
       "      <td>5</td>\n",
       "      <td>0</td>\n",
       "      <td>3</td>\n",
       "      <td>Allen, Mr. William Henry</td>\n",
       "      <td>male</td>\n",
       "      <td>35.0</td>\n",
       "      <td>0</td>\n",
       "      <td>0</td>\n",
       "      <td>373450</td>\n",
       "      <td>8.0500</td>\n",
       "      <td>NaN</td>\n",
       "      <td>S</td>\n",
       "    </tr>\n",
       "  </tbody>\n",
       "</table>\n",
       "</div>"
      ],
      "text/plain": [
       "   PassengerId  Survived  Pclass  \\\n",
       "0            1         0       3   \n",
       "1            2         1       1   \n",
       "2            3         1       3   \n",
       "3            4         1       1   \n",
       "4            5         0       3   \n",
       "\n",
       "                                                Name     Sex   Age  SibSp  \\\n",
       "0                            Braund, Mr. Owen Harris    male  22.0      1   \n",
       "1  Cumings, Mrs. John Bradley (Florence Briggs Th...  female  38.0      1   \n",
       "2                             Heikkinen, Miss. Laina  female  26.0      0   \n",
       "3       Futrelle, Mrs. Jacques Heath (Lily May Peel)  female  35.0      1   \n",
       "4                           Allen, Mr. William Henry    male  35.0      0   \n",
       "\n",
       "   Parch            Ticket     Fare Cabin Embarked  \n",
       "0      0         A/5 21171   7.2500   NaN        S  \n",
       "1      0          PC 17599  71.2833   C85        C  \n",
       "2      0  STON/O2. 3101282   7.9250   NaN        S  \n",
       "3      0            113803  53.1000  C123        S  \n",
       "4      0            373450   8.0500   NaN        S  "
      ]
     },
     "execution_count": 3,
     "metadata": {},
     "output_type": "execute_result"
    }
   ],
   "source": [
    "#Getting top level characteristics of data\n",
    "train.head()"
   ]
  },
  {
   "cell_type": "code",
   "execution_count": 4,
   "metadata": {},
   "outputs": [
    {
     "name": "stdout",
     "output_type": "stream",
     "text": [
      "<class 'pandas.core.frame.DataFrame'>\n",
      "RangeIndex: 891 entries, 0 to 890\n",
      "Data columns (total 12 columns):\n",
      "PassengerId    891 non-null int64\n",
      "Survived       891 non-null int64\n",
      "Pclass         891 non-null int64\n",
      "Name           891 non-null object\n",
      "Sex            891 non-null object\n",
      "Age            714 non-null float64\n",
      "SibSp          891 non-null int64\n",
      "Parch          891 non-null int64\n",
      "Ticket         891 non-null object\n",
      "Fare           891 non-null float64\n",
      "Cabin          204 non-null object\n",
      "Embarked       889 non-null object\n",
      "dtypes: float64(2), int64(5), object(5)\n",
      "memory usage: 83.6+ KB\n"
     ]
    }
   ],
   "source": [
    "train.info()"
   ]
  },
  {
   "cell_type": "code",
   "execution_count": 5,
   "metadata": {},
   "outputs": [
    {
     "data": {
      "text/html": [
       "<div>\n",
       "<style scoped>\n",
       "    .dataframe tbody tr th:only-of-type {\n",
       "        vertical-align: middle;\n",
       "    }\n",
       "\n",
       "    .dataframe tbody tr th {\n",
       "        vertical-align: top;\n",
       "    }\n",
       "\n",
       "    .dataframe thead th {\n",
       "        text-align: right;\n",
       "    }\n",
       "</style>\n",
       "<table border=\"1\" class=\"dataframe\">\n",
       "  <thead>\n",
       "    <tr style=\"text-align: right;\">\n",
       "      <th></th>\n",
       "      <th>PassengerId</th>\n",
       "      <th>Survived</th>\n",
       "      <th>Pclass</th>\n",
       "      <th>Age</th>\n",
       "      <th>SibSp</th>\n",
       "      <th>Parch</th>\n",
       "      <th>Fare</th>\n",
       "    </tr>\n",
       "  </thead>\n",
       "  <tbody>\n",
       "    <tr>\n",
       "      <th>count</th>\n",
       "      <td>891.000000</td>\n",
       "      <td>891.000000</td>\n",
       "      <td>891.000000</td>\n",
       "      <td>714.000000</td>\n",
       "      <td>891.000000</td>\n",
       "      <td>891.000000</td>\n",
       "      <td>891.000000</td>\n",
       "    </tr>\n",
       "    <tr>\n",
       "      <th>mean</th>\n",
       "      <td>446.000000</td>\n",
       "      <td>0.383838</td>\n",
       "      <td>2.308642</td>\n",
       "      <td>29.699118</td>\n",
       "      <td>0.523008</td>\n",
       "      <td>0.381594</td>\n",
       "      <td>32.204208</td>\n",
       "    </tr>\n",
       "    <tr>\n",
       "      <th>std</th>\n",
       "      <td>257.353842</td>\n",
       "      <td>0.486592</td>\n",
       "      <td>0.836071</td>\n",
       "      <td>14.526497</td>\n",
       "      <td>1.102743</td>\n",
       "      <td>0.806057</td>\n",
       "      <td>49.693429</td>\n",
       "    </tr>\n",
       "    <tr>\n",
       "      <th>min</th>\n",
       "      <td>1.000000</td>\n",
       "      <td>0.000000</td>\n",
       "      <td>1.000000</td>\n",
       "      <td>0.420000</td>\n",
       "      <td>0.000000</td>\n",
       "      <td>0.000000</td>\n",
       "      <td>0.000000</td>\n",
       "    </tr>\n",
       "    <tr>\n",
       "      <th>25%</th>\n",
       "      <td>223.500000</td>\n",
       "      <td>0.000000</td>\n",
       "      <td>2.000000</td>\n",
       "      <td>20.125000</td>\n",
       "      <td>0.000000</td>\n",
       "      <td>0.000000</td>\n",
       "      <td>7.910400</td>\n",
       "    </tr>\n",
       "    <tr>\n",
       "      <th>50%</th>\n",
       "      <td>446.000000</td>\n",
       "      <td>0.000000</td>\n",
       "      <td>3.000000</td>\n",
       "      <td>28.000000</td>\n",
       "      <td>0.000000</td>\n",
       "      <td>0.000000</td>\n",
       "      <td>14.454200</td>\n",
       "    </tr>\n",
       "    <tr>\n",
       "      <th>75%</th>\n",
       "      <td>668.500000</td>\n",
       "      <td>1.000000</td>\n",
       "      <td>3.000000</td>\n",
       "      <td>38.000000</td>\n",
       "      <td>1.000000</td>\n",
       "      <td>0.000000</td>\n",
       "      <td>31.000000</td>\n",
       "    </tr>\n",
       "    <tr>\n",
       "      <th>max</th>\n",
       "      <td>891.000000</td>\n",
       "      <td>1.000000</td>\n",
       "      <td>3.000000</td>\n",
       "      <td>80.000000</td>\n",
       "      <td>8.000000</td>\n",
       "      <td>6.000000</td>\n",
       "      <td>512.329200</td>\n",
       "    </tr>\n",
       "  </tbody>\n",
       "</table>\n",
       "</div>"
      ],
      "text/plain": [
       "       PassengerId    Survived      Pclass         Age       SibSp  \\\n",
       "count   891.000000  891.000000  891.000000  714.000000  891.000000   \n",
       "mean    446.000000    0.383838    2.308642   29.699118    0.523008   \n",
       "std     257.353842    0.486592    0.836071   14.526497    1.102743   \n",
       "min       1.000000    0.000000    1.000000    0.420000    0.000000   \n",
       "25%     223.500000    0.000000    2.000000   20.125000    0.000000   \n",
       "50%     446.000000    0.000000    3.000000   28.000000    0.000000   \n",
       "75%     668.500000    1.000000    3.000000   38.000000    1.000000   \n",
       "max     891.000000    1.000000    3.000000   80.000000    8.000000   \n",
       "\n",
       "            Parch        Fare  \n",
       "count  891.000000  891.000000  \n",
       "mean     0.381594   32.204208  \n",
       "std      0.806057   49.693429  \n",
       "min      0.000000    0.000000  \n",
       "25%      0.000000    7.910400  \n",
       "50%      0.000000   14.454200  \n",
       "75%      0.000000   31.000000  \n",
       "max      6.000000  512.329200  "
      ]
     },
     "execution_count": 5,
     "metadata": {},
     "output_type": "execute_result"
    }
   ],
   "source": [
    "train.describe()"
   ]
  },
  {
   "cell_type": "markdown",
   "metadata": {},
   "source": [
    "We have got the complete list of variables with the added understanding of the missing values in each variable. Refer to [this](https://www.kaggle.com/c/titanic/data) Kaggle link for the explanations of the variables\n",
    "<br>\n",
    "\n",
    "Looking at the above table, categories like `PassengerId`, `Survived` and `Pclass` are coded as numeric variables (whereas they are categorical). The next set of code fragments will **fix** this."
   ]
  },
  {
   "cell_type": "code",
   "execution_count": 6,
   "metadata": {},
   "outputs": [
    {
     "data": {
      "text/html": [
       "<div>\n",
       "<style scoped>\n",
       "    .dataframe tbody tr th:only-of-type {\n",
       "        vertical-align: middle;\n",
       "    }\n",
       "\n",
       "    .dataframe tbody tr th {\n",
       "        vertical-align: top;\n",
       "    }\n",
       "\n",
       "    .dataframe thead th {\n",
       "        text-align: right;\n",
       "    }\n",
       "</style>\n",
       "<table border=\"1\" class=\"dataframe\">\n",
       "  <thead>\n",
       "    <tr style=\"text-align: right;\">\n",
       "      <th></th>\n",
       "      <th>Age</th>\n",
       "      <th>SibSp</th>\n",
       "      <th>Parch</th>\n",
       "      <th>Fare</th>\n",
       "    </tr>\n",
       "  </thead>\n",
       "  <tbody>\n",
       "    <tr>\n",
       "      <th>count</th>\n",
       "      <td>714.000000</td>\n",
       "      <td>891.000000</td>\n",
       "      <td>891.000000</td>\n",
       "      <td>891.000000</td>\n",
       "    </tr>\n",
       "    <tr>\n",
       "      <th>mean</th>\n",
       "      <td>29.699118</td>\n",
       "      <td>0.523008</td>\n",
       "      <td>0.381594</td>\n",
       "      <td>32.204208</td>\n",
       "    </tr>\n",
       "    <tr>\n",
       "      <th>std</th>\n",
       "      <td>14.526497</td>\n",
       "      <td>1.102743</td>\n",
       "      <td>0.806057</td>\n",
       "      <td>49.693429</td>\n",
       "    </tr>\n",
       "    <tr>\n",
       "      <th>min</th>\n",
       "      <td>0.420000</td>\n",
       "      <td>0.000000</td>\n",
       "      <td>0.000000</td>\n",
       "      <td>0.000000</td>\n",
       "    </tr>\n",
       "    <tr>\n",
       "      <th>25%</th>\n",
       "      <td>20.125000</td>\n",
       "      <td>0.000000</td>\n",
       "      <td>0.000000</td>\n",
       "      <td>7.910400</td>\n",
       "    </tr>\n",
       "    <tr>\n",
       "      <th>50%</th>\n",
       "      <td>28.000000</td>\n",
       "      <td>0.000000</td>\n",
       "      <td>0.000000</td>\n",
       "      <td>14.454200</td>\n",
       "    </tr>\n",
       "    <tr>\n",
       "      <th>75%</th>\n",
       "      <td>38.000000</td>\n",
       "      <td>1.000000</td>\n",
       "      <td>0.000000</td>\n",
       "      <td>31.000000</td>\n",
       "    </tr>\n",
       "    <tr>\n",
       "      <th>max</th>\n",
       "      <td>80.000000</td>\n",
       "      <td>8.000000</td>\n",
       "      <td>6.000000</td>\n",
       "      <td>512.329200</td>\n",
       "    </tr>\n",
       "  </tbody>\n",
       "</table>\n",
       "</div>"
      ],
      "text/plain": [
       "              Age       SibSp       Parch        Fare\n",
       "count  714.000000  891.000000  891.000000  891.000000\n",
       "mean    29.699118    0.523008    0.381594   32.204208\n",
       "std     14.526497    1.102743    0.806057   49.693429\n",
       "min      0.420000    0.000000    0.000000    0.000000\n",
       "25%     20.125000    0.000000    0.000000    7.910400\n",
       "50%     28.000000    0.000000    0.000000   14.454200\n",
       "75%     38.000000    1.000000    0.000000   31.000000\n",
       "max     80.000000    8.000000    6.000000  512.329200"
      ]
     },
     "execution_count": 6,
     "metadata": {},
     "output_type": "execute_result"
    }
   ],
   "source": [
    "#convert to categorical\n",
    "train_copy = train.copy()\n",
    "\n",
    "# Survived\n",
    "train[\"Survived\"] = train[\"Survived\"].astype('category')\n",
    "train[\"Survived\"].cat.categories\n",
    "\n",
    "# Pclass\n",
    "train[\"Pclass\"] = train[\"Pclass\"].astype('category')\n",
    "train[\"Pclass\"].cat.categories\n",
    "\n",
    "# Passenger Id\n",
    "train[\"PassengerId\"] = train[\"PassengerId\"].astype('category')\n",
    "train[\"PassengerId\"].cat.categories\n",
    "\n",
    "# Evidence, that the above three variables have been defined as Categorical\n",
    "train.describe()"
   ]
  },
  {
   "cell_type": "markdown",
   "metadata": {},
   "source": [
    "\n",
    "\n",
    "***\n",
    "\n",
    "### Exploratory Analysis\n",
    "\n",
    "#### Univariate Analysis for developing a better understanding of the variables\n",
    "\n",
    "The first set of plots will be to analyze what seem like key variables:\n",
    "* **Gender** split of passengers,\n",
    "* The **class** that they traveled in,\n",
    "* Port of **embankment** *(it'll be surprising if this turns out to be an important variable)* \n",
    "* The **survival** rate: how many passengers made it and how many didn't"
   ]
  },
  {
   "cell_type": "code",
   "execution_count": 7,
   "metadata": {},
   "outputs": [
    {
     "data": {
      "image/png": "[encoded data removed]",
      "text/plain": [
       "<Figure size 432x288 with 1 Axes>"
      ]
     },
     "metadata": {
      "needs_background": "light"
     },
     "output_type": "display_data"
    },
    {
     "data": {
      "image/png": "[encoded data removed]",
      "text/plain": [
       "<Figure size 432x288 with 1 Axes>"
      ]
     },
     "metadata": {
      "needs_background": "light"
     },
     "output_type": "display_data"
    },
    {
     "data": {
      "image/png": "[encoded data removed]",
      "text/plain": [
       "<Figure size 432x288 with 1 Axes>"
      ]
     },
     "metadata": {
      "needs_background": "light"
     },
     "output_type": "display_data"
    },
    {
     "data": {
      "image/png": "[encoded data removed]",
      "text/plain": [
       "<Figure size 432x288 with 1 Axes>"
      ]
     },
     "metadata": {
      "needs_background": "light"
     },
     "output_type": "display_data"
    }
   ],
   "source": [
    "#lets try to do 4 exploratory subplots \n",
    "# IMP: this is how its done for categorical variables\n",
    "\n",
    "plt.figure(1)\n",
    "#Gender Split\n",
    "plt.subplot(2,2,1)\n",
    "train[\"Sex\"].value_counts(normalize = True).plot(kind = \"bar\")\n",
    "plt.title(\"Gender Split in %\")\n",
    "plt.grid()\n",
    "plt.show()\n",
    "\n",
    "\n",
    "#Pasenger Class\n",
    "plt.subplot(2,2,2)\n",
    "train[\"Pclass\"].value_counts(normalize = True).plot(kind = \"bar\")\n",
    "plt.title(\"Passenger Class for Travelers, in %\")\n",
    "plt.grid()\n",
    "plt.show()\n",
    "\n",
    "#Where did they board\n",
    "plt.subplot(2,2,3)\n",
    "train[\"Embarked\"].value_counts(normalize = True).plot(kind = \"bar\")\n",
    "plt.title(\"Boarding Point, in %\")\n",
    "plt.grid()\n",
    "plt.show()\n",
    "\n",
    "#showcasing the above in terms of percentages\n",
    "plt.subplot(2,2,4)\n",
    "train[\"Survived\"].value_counts(normalize = True).plot(kind = \"bar\")\n",
    "plt.title(\"Survival Rates in Percentages\")\n",
    "plt.grid()\n",
    "plt.show()"
   ]
  },
  {
   "cell_type": "markdown",
   "metadata": {},
   "source": [
    "The **key observations** are:\n",
    "1. ~60% of the passengers were male\n",
    "2. ~20% of the passengers traveled first class, ~20% traveled second, while 60% traveled third class\n",
    "3. Almost 75% of the paseengers boarded at Southampton\n",
    "4. ~40% of the passengers survived the incident; which means that a **huge** ~60% of the pasengers did not survive \n",
    "\n",
    "***"
   ]
  },
  {
   "cell_type": "markdown",
   "metadata": {},
   "source": [
    "**Age of the passenger** is seemingly a continous variable. The next set of charts and analysis will explore this variable and convert it into categories, if needed."
   ]
  },
  {
   "cell_type": "code",
   "execution_count": 8,
   "metadata": {},
   "outputs": [
    {
     "data": {
      "image/png": "[encoded data removed]",
      "text/plain": [
       "<Figure size 432x288 with 1 Axes>"
      ]
     },
     "metadata": {
      "needs_background": "light"
     },
     "output_type": "display_data"
    },
    {
     "data": {
      "image/png": "[encoded data removed]",
      "text/plain": [
       "<Figure size 432x288 with 1 Axes>"
      ]
     },
     "metadata": {
      "needs_background": "light"
     },
     "output_type": "display_data"
    },
    {
     "data": {
      "text/html": [
       "<div>\n",
       "<style scoped>\n",
       "    .dataframe tbody tr th:only-of-type {\n",
       "        vertical-align: middle;\n",
       "    }\n",
       "\n",
       "    .dataframe tbody tr th {\n",
       "        vertical-align: top;\n",
       "    }\n",
       "\n",
       "    .dataframe thead th {\n",
       "        text-align: right;\n",
       "    }\n",
       "</style>\n",
       "<table border=\"1\" class=\"dataframe\">\n",
       "  <thead>\n",
       "    <tr style=\"text-align: right;\">\n",
       "      <th></th>\n",
       "      <th>Name</th>\n",
       "    </tr>\n",
       "    <tr>\n",
       "      <th>AgeCat</th>\n",
       "      <th></th>\n",
       "    </tr>\n",
       "  </thead>\n",
       "  <tbody>\n",
       "    <tr>\n",
       "      <th>&lt;10</th>\n",
       "      <td>64</td>\n",
       "    </tr>\n",
       "    <tr>\n",
       "      <th>10-20</th>\n",
       "      <td>115</td>\n",
       "    </tr>\n",
       "    <tr>\n",
       "      <th>20-30</th>\n",
       "      <td>230</td>\n",
       "    </tr>\n",
       "    <tr>\n",
       "      <th>30-40</th>\n",
       "      <td>155</td>\n",
       "    </tr>\n",
       "    <tr>\n",
       "      <th>40-50</th>\n",
       "      <td>86</td>\n",
       "    </tr>\n",
       "    <tr>\n",
       "      <th>50-60</th>\n",
       "      <td>42</td>\n",
       "    </tr>\n",
       "    <tr>\n",
       "      <th>60-70</th>\n",
       "      <td>17</td>\n",
       "    </tr>\n",
       "    <tr>\n",
       "      <th>70+</th>\n",
       "      <td>5</td>\n",
       "    </tr>\n",
       "    <tr>\n",
       "      <th>All</th>\n",
       "      <td>714</td>\n",
       "    </tr>\n",
       "  </tbody>\n",
       "</table>\n",
       "</div>"
      ],
      "text/plain": [
       "        Name\n",
       "AgeCat      \n",
       "<10       64\n",
       "10-20    115\n",
       "20-30    230\n",
       "30-40    155\n",
       "40-50     86\n",
       "50-60     42\n",
       "60-70     17\n",
       "70+        5\n",
       "All      714"
      ]
     },
     "execution_count": 8,
     "metadata": {},
     "output_type": "execute_result"
    }
   ],
   "source": [
    "# This is the way to do a line plot for a continous variable\n",
    "# IMP: This will keep coming up again and again \n",
    "plt.subplot(2,1,1)\n",
    "train['Age'].value_counts().sort_index().plot.line()\n",
    "plt.title(\"Line Plot doesn't make sense: Distribution of Passenger Age\")\n",
    "plt.grid()\n",
    "plt.show()\n",
    "\n",
    "# Creating 'AgeCat' variable; class interval of 10. pd.cut is a very useful functionality for this\n",
    "bins = [0, 10, 20, 30, 40, 50, 60, 70, np.inf]\n",
    "names = ['<10', '10-20', '20-30', '30-40', '40-50', '50-60', '60-70','70+']\n",
    "\n",
    "train['AgeCat'] = pd.cut(train['Age'], bins, labels=names)\n",
    "\n",
    "# Plotting the Categorical age varible (AgeCat)\n",
    "plt.subplot(2,1,2)\n",
    "train[\"AgeCat\"].value_counts(normalize = True).reindex(['<10', '10-20', '20-30', '30-40', '40-50', '50-60', '60-70','70+']).plot(kind = \"bar\")\n",
    "plt.title(\"Categorical Version of Age Variable\")\n",
    "plt.grid()\n",
    "plt.show()\n",
    "\n",
    "# The categorical chart isn't very indicative of the frequency counts for the higher age groups, hence creating a pivot\n",
    "pd.pivot_table(train, index = ['AgeCat'], values = ['Name'],aggfunc=len, margins = True )"
   ]
  },
  {
   "cell_type": "markdown",
   "metadata": {},
   "source": [
    "The **key observations** pertaining to the age variable are:\n",
    "1. a significant 10% are under 10 years in age\n",
    "2. ~50% are between 20-40 years old\n",
    "3. A fraction (~6%) are over 60 years old\n",
    "4. Age variable is not available for all the travelers **(has to be addressed)**\n",
    "\n",
    "***"
   ]
  },
  {
   "cell_type": "markdown",
   "metadata": {},
   "source": [
    "Performing a quick exploration of the `fare` variable. Also figuring out the *degree of association* of this variable with the passenger `class`"
   ]
  },
  {
   "cell_type": "code",
   "execution_count": 9,
   "metadata": {},
   "outputs": [
    {
     "data": {
      "image/png": "[encoded data removed]",
      "text/plain": [
       "<Figure size 432x288 with 1 Axes>"
      ]
     },
     "metadata": {
      "needs_background": "light"
     },
     "output_type": "display_data"
    },
    {
     "data": {
      "text/html": [
       "<div>\n",
       "<style scoped>\n",
       "    .dataframe tbody tr th:only-of-type {\n",
       "        vertical-align: middle;\n",
       "    }\n",
       "\n",
       "    .dataframe tbody tr th {\n",
       "        vertical-align: top;\n",
       "    }\n",
       "\n",
       "    .dataframe thead th {\n",
       "        text-align: right;\n",
       "    }\n",
       "</style>\n",
       "<table border=\"1\" class=\"dataframe\">\n",
       "  <thead>\n",
       "    <tr style=\"text-align: right;\">\n",
       "      <th></th>\n",
       "      <th>Fare</th>\n",
       "    </tr>\n",
       "    <tr>\n",
       "      <th>Pclass</th>\n",
       "      <th></th>\n",
       "    </tr>\n",
       "  </thead>\n",
       "  <tbody>\n",
       "    <tr>\n",
       "      <th>1</th>\n",
       "      <td>84.154687</td>\n",
       "    </tr>\n",
       "    <tr>\n",
       "      <th>2</th>\n",
       "      <td>20.662183</td>\n",
       "    </tr>\n",
       "    <tr>\n",
       "      <th>3</th>\n",
       "      <td>13.675550</td>\n",
       "    </tr>\n",
       "    <tr>\n",
       "      <th>All</th>\n",
       "      <td>32.204208</td>\n",
       "    </tr>\n",
       "  </tbody>\n",
       "</table>\n",
       "</div>"
      ],
      "text/plain": [
       "             Fare\n",
       "Pclass           \n",
       "1       84.154687\n",
       "2       20.662183\n",
       "3       13.675550\n",
       "All     32.204208"
      ]
     },
     "execution_count": 9,
     "metadata": {},
     "output_type": "execute_result"
    },
    {
     "data": {
      "image/png": "[encoded data removed]",
      "text/plain": [
       "<Figure size 432x288 with 1 Axes>"
      ]
     },
     "metadata": {
      "needs_background": "light"
     },
     "output_type": "display_data"
    },
    {
     "data": {
      "image/png": "[encoded data removed]",
      "text/plain": [
       "<Figure size 432x288 with 4 Axes>"
      ]
     },
     "metadata": {
      "needs_background": "light"
     },
     "output_type": "display_data"
    }
   ],
   "source": [
    "# Quick exploration of the fare variable - plotting a line (a line plot doesn't make sense here)\n",
    "plt.subplot(2,2,1)\n",
    "train['Fare'].value_counts().sort_index().plot.line()\n",
    "plt.title(\"Line plot doesn't make sense: Distribution of Passenger Fare\")\n",
    "plt.grid()\n",
    "plt.show()\n",
    "\n",
    "# Quick exploration of the fare variable - plotting a histogram that makes more sense\n",
    "hist = train.hist( column = \"Fare\", by = None, grid = True )\n",
    "\n",
    "#understanding relationship between passenger fare and passenger class - visually **VERY COOL**\n",
    "hist2 = train.hist( column = \"Fare\", by = 'Pclass', grid = True )\n",
    "\n",
    "#A quick pivot that shows the average fares by Pclass\n",
    "pd.pivot_table(train, index = ['Pclass'], values = ['Fare'],aggfunc=np.mean, margins = True )\n"
   ]
  },
  {
   "cell_type": "markdown",
   "metadata": {},
   "source": [
    "There seems to be a definite relationship beween the `Pclass` and the `Fare` variables (as expected). For model building purposes, it probably **doesn't** make sense including this variable in the 1st pass.\n",
    "\n",
    "***"
   ]
  },
  {
   "cell_type": "markdown",
   "metadata": {},
   "source": [
    "There are two variables that still need to be explored:\n",
    "1. `SibSp` number of siblings and spouses (of the pasenger) aboard\n",
    "2. `Parch` number of parents and children (of the passenger) aboard the vessel\n",
    "\n",
    "A couple of discriptive visualizations will be created for these variables"
   ]
  },
  {
   "cell_type": "code",
   "execution_count": 10,
   "metadata": {},
   "outputs": [
    {
     "data": {
      "image/png": "[encoded data removed]",
      "text/plain": [
       "<Figure size 432x288 with 1 Axes>"
      ]
     },
     "metadata": {
      "needs_background": "light"
     },
     "output_type": "display_data"
    },
    {
     "data": {
      "image/png": "[encoded data removed]",
      "text/plain": [
       "<Figure size 432x288 with 1 Axes>"
      ]
     },
     "metadata": {
      "needs_background": "light"
     },
     "output_type": "display_data"
    }
   ],
   "source": [
    "# Quick exploration of the SibSp variable - plotting a histogram that makes more sense\n",
    "hist = train.hist( column = \"SibSp\", by = None, grid = True, bins = np.arange(10) - 0.5 )\n",
    "\n",
    "# Quick exploration of the Parch variable - plotting a histogram that makes more sense\n",
    "hist = train.hist( column = \"Parch\", by = None, grid = True, bins = np.arange(10) - 0.5 )\n"
   ]
  },
  {
   "cell_type": "markdown",
   "metadata": {},
   "source": [
    "Both `SibSp` and `Parch` variables have low frequency counts. I **won't** be analysing/including them in the 1st pass of the model\n",
    "\n",
    "***"
   ]
  },
  {
   "cell_type": "markdown",
   "metadata": {},
   "source": [
    "#### Developing and testing hypotheses\n",
    "\n",
    "In this section, the goal is develop and test out hypothesis i.e. understand which factors are indicative of a fatality in the Titanic disaster. Couple of examples include:\n",
    "* are women more likely to survive the incident?\n",
    "* are people traveling on a higher class ticket more likely to survive the accident?\n",
    "* Is there any association between survival rate and the port of boarding (embarkment) of the passenger?\n",
    "\n",
    "These set of analyses will help in building an intuitive understanding of the key variables from an analytic perspective. These variables will then be used for buiding the machine learning models\n",
    "<br>"
   ]
  },
  {
   "cell_type": "code",
   "execution_count": 11,
   "metadata": {},
   "outputs": [
    {
     "data": {
      "text/html": [
       "<div>\n",
       "<style scoped>\n",
       "    .dataframe tbody tr th:only-of-type {\n",
       "        vertical-align: middle;\n",
       "    }\n",
       "\n",
       "    .dataframe tbody tr th {\n",
       "        vertical-align: top;\n",
       "    }\n",
       "\n",
       "    .dataframe thead th {\n",
       "        text-align: right;\n",
       "    }\n",
       "</style>\n",
       "<table border=\"1\" class=\"dataframe\">\n",
       "  <thead>\n",
       "    <tr style=\"text-align: right;\">\n",
       "      <th></th>\n",
       "      <th>Name</th>\n",
       "    </tr>\n",
       "    <tr>\n",
       "      <th>Survived</th>\n",
       "      <th></th>\n",
       "    </tr>\n",
       "  </thead>\n",
       "  <tbody>\n",
       "    <tr>\n",
       "      <th>0</th>\n",
       "      <td>549</td>\n",
       "    </tr>\n",
       "    <tr>\n",
       "      <th>1</th>\n",
       "      <td>342</td>\n",
       "    </tr>\n",
       "    <tr>\n",
       "      <th>All</th>\n",
       "      <td>891</td>\n",
       "    </tr>\n",
       "  </tbody>\n",
       "</table>\n",
       "</div>"
      ],
      "text/plain": [
       "          Name\n",
       "Survived      \n",
       "0          549\n",
       "1          342\n",
       "All        891"
      ]
     },
     "execution_count": 11,
     "metadata": {},
     "output_type": "execute_result"
    }
   ],
   "source": [
    "# How many died, and how many survived?\n",
    "pd.pivot_table(train, index = ['Survived'], values = ['Name'],aggfunc=len, margins = True )"
   ]
  },
  {
   "cell_type": "markdown",
   "metadata": {},
   "source": [
    "***\n",
    "##### Hyp 1: Were women more likely to survive the disaster when compared to men?"
   ]
  },
  {
   "cell_type": "code",
   "execution_count": 12,
   "metadata": {},
   "outputs": [
    {
     "data": {
      "text/html": [
       "<div>\n",
       "<style scoped>\n",
       "    .dataframe tbody tr th:only-of-type {\n",
       "        vertical-align: middle;\n",
       "    }\n",
       "\n",
       "    .dataframe tbody tr th {\n",
       "        vertical-align: top;\n",
       "    }\n",
       "\n",
       "    .dataframe thead tr th {\n",
       "        text-align: left;\n",
       "    }\n",
       "\n",
       "    .dataframe thead tr:last-of-type th {\n",
       "        text-align: right;\n",
       "    }\n",
       "</style>\n",
       "<table border=\"1\" class=\"dataframe\">\n",
       "  <thead>\n",
       "    <tr>\n",
       "      <th></th>\n",
       "      <th colspan=\"3\" halign=\"left\">Name</th>\n",
       "    </tr>\n",
       "    <tr>\n",
       "      <th>Survived</th>\n",
       "      <th>0</th>\n",
       "      <th>1</th>\n",
       "      <th>All</th>\n",
       "    </tr>\n",
       "    <tr>\n",
       "      <th>Sex</th>\n",
       "      <th></th>\n",
       "      <th></th>\n",
       "      <th></th>\n",
       "    </tr>\n",
       "  </thead>\n",
       "  <tbody>\n",
       "    <tr>\n",
       "      <th>female</th>\n",
       "      <td>81</td>\n",
       "      <td>233</td>\n",
       "      <td>314</td>\n",
       "    </tr>\n",
       "    <tr>\n",
       "      <th>male</th>\n",
       "      <td>468</td>\n",
       "      <td>109</td>\n",
       "      <td>577</td>\n",
       "    </tr>\n",
       "    <tr>\n",
       "      <th>All</th>\n",
       "      <td>549</td>\n",
       "      <td>342</td>\n",
       "      <td>891</td>\n",
       "    </tr>\n",
       "  </tbody>\n",
       "</table>\n",
       "</div>"
      ],
      "text/plain": [
       "         Name          \n",
       "Survived    0    1  All\n",
       "Sex                    \n",
       "female     81  233  314\n",
       "male      468  109  577\n",
       "All       549  342  891"
      ]
     },
     "execution_count": 12,
     "metadata": {},
     "output_type": "execute_result"
    }
   ],
   "source": [
    "pd.pivot_table(train, index = ['Sex'], values = ['Name'], columns = ['Survived'],aggfunc=len, margins = True )"
   ]
  },
  {
   "cell_type": "markdown",
   "metadata": {},
   "source": [
    "A quick look at the above table informs the following:\n",
    "* Overall Survival Rate = 38%\n",
    "* Survival Rate for Men = 19%\n",
    "* Survival Rate for Women = 74%\n",
    "\n",
    "So, **yes, women were 4 times likely to survive the disaster when compared with women**\n",
    "\n",
    "***\n",
    "\n",
    "##### Hyp 2: Are upper class passengers more likely to survive the disaster?"
   ]
  },
  {
   "cell_type": "code",
   "execution_count": 13,
   "metadata": {},
   "outputs": [
    {
     "data": {
      "text/html": [
       "<div>\n",
       "<style scoped>\n",
       "    .dataframe tbody tr th:only-of-type {\n",
       "        vertical-align: middle;\n",
       "    }\n",
       "\n",
       "    .dataframe tbody tr th {\n",
       "        vertical-align: top;\n",
       "    }\n",
       "\n",
       "    .dataframe thead tr th {\n",
       "        text-align: left;\n",
       "    }\n",
       "\n",
       "    .dataframe thead tr:last-of-type th {\n",
       "        text-align: right;\n",
       "    }\n",
       "</style>\n",
       "<table border=\"1\" class=\"dataframe\">\n",
       "  <thead>\n",
       "    <tr>\n",
       "      <th></th>\n",
       "      <th colspan=\"3\" halign=\"left\">Name</th>\n",
       "    </tr>\n",
       "    <tr>\n",
       "      <th>Survived</th>\n",
       "      <th>0</th>\n",
       "      <th>1</th>\n",
       "      <th>All</th>\n",
       "    </tr>\n",
       "    <tr>\n",
       "      <th>Pclass</th>\n",
       "      <th></th>\n",
       "      <th></th>\n",
       "      <th></th>\n",
       "    </tr>\n",
       "  </thead>\n",
       "  <tbody>\n",
       "    <tr>\n",
       "      <th>1</th>\n",
       "      <td>80</td>\n",
       "      <td>136</td>\n",
       "      <td>216</td>\n",
       "    </tr>\n",
       "    <tr>\n",
       "      <th>2</th>\n",
       "      <td>97</td>\n",
       "      <td>87</td>\n",
       "      <td>184</td>\n",
       "    </tr>\n",
       "    <tr>\n",
       "      <th>3</th>\n",
       "      <td>372</td>\n",
       "      <td>119</td>\n",
       "      <td>491</td>\n",
       "    </tr>\n",
       "    <tr>\n",
       "      <th>All</th>\n",
       "      <td>549</td>\n",
       "      <td>342</td>\n",
       "      <td>891</td>\n",
       "    </tr>\n",
       "  </tbody>\n",
       "</table>\n",
       "</div>"
      ],
      "text/plain": [
       "         Name          \n",
       "Survived    0    1  All\n",
       "Pclass                 \n",
       "1          80  136  216\n",
       "2          97   87  184\n",
       "3         372  119  491\n",
       "All       549  342  891"
      ]
     },
     "execution_count": 13,
     "metadata": {},
     "output_type": "execute_result"
    }
   ],
   "source": [
    "pd.pivot_table(train, index = ['Pclass'], values = ['Name'], columns = ['Survived'],aggfunc=len, margins = True )"
   ]
  },
  {
   "cell_type": "markdown",
   "metadata": {},
   "source": [
    "Quick Observations:\n",
    "* Overall Survival Rate = 38%\n",
    "* Survival Rate of First Class = 63%\n",
    "* Survival Rate of Second Class = 47%\n",
    "* Survival Rate of Third Class = 25%\n",
    "\n",
    "So, **yes, higher class passengers were much more likely to survive the disaster**\n",
    "\n",
    "***\n",
    "\n",
    "##### Hyp 3: Is there any association between survival rate and the port of embarkment?\n"
   ]
  },
  {
   "cell_type": "code",
   "execution_count": 78,
   "metadata": {},
   "outputs": [
    {
     "data": {
      "text/html": [
       "<div>\n",
       "<style scoped>\n",
       "    .dataframe tbody tr th:only-of-type {\n",
       "        vertical-align: middle;\n",
       "    }\n",
       "\n",
       "    .dataframe tbody tr th {\n",
       "        vertical-align: top;\n",
       "    }\n",
       "\n",
       "    .dataframe thead tr th {\n",
       "        text-align: left;\n",
       "    }\n",
       "\n",
       "    .dataframe thead tr:last-of-type th {\n",
       "        text-align: right;\n",
       "    }\n",
       "</style>\n",
       "<table border=\"1\" class=\"dataframe\">\n",
       "  <thead>\n",
       "    <tr>\n",
       "      <th></th>\n",
       "      <th colspan=\"3\" halign=\"left\">Name</th>\n",
       "    </tr>\n",
       "    <tr>\n",
       "      <th>Survived</th>\n",
       "      <th>0</th>\n",
       "      <th>1</th>\n",
       "      <th>All</th>\n",
       "    </tr>\n",
       "    <tr>\n",
       "      <th>Embarked</th>\n",
       "      <th></th>\n",
       "      <th></th>\n",
       "      <th></th>\n",
       "    </tr>\n",
       "  </thead>\n",
       "  <tbody>\n",
       "    <tr>\n",
       "      <th>C</th>\n",
       "      <td>75</td>\n",
       "      <td>93</td>\n",
       "      <td>168</td>\n",
       "    </tr>\n",
       "    <tr>\n",
       "      <th>Q</th>\n",
       "      <td>47</td>\n",
       "      <td>30</td>\n",
       "      <td>77</td>\n",
       "    </tr>\n",
       "    <tr>\n",
       "      <th>S</th>\n",
       "      <td>427</td>\n",
       "      <td>217</td>\n",
       "      <td>644</td>\n",
       "    </tr>\n",
       "    <tr>\n",
       "      <th>All</th>\n",
       "      <td>549</td>\n",
       "      <td>340</td>\n",
       "      <td>889</td>\n",
       "    </tr>\n",
       "  </tbody>\n",
       "</table>\n",
       "</div>"
      ],
      "text/plain": [
       "         Name          \n",
       "Survived    0    1  All\n",
       "Embarked               \n",
       "C          75   93  168\n",
       "Q          47   30   77\n",
       "S         427  217  644\n",
       "All       549  340  889"
      ]
     },
     "execution_count": 78,
     "metadata": {},
     "output_type": "execute_result"
    }
   ],
   "source": [
    "pd.pivot_table(train, index = ['Embarked'], values = ['Name'], columns = ['Survived'],aggfunc=len, margins = True )"
   ]
  },
  {
   "cell_type": "markdown",
   "metadata": {},
   "source": [
    "Prima Facie,`Embarked` looks to be a **meaningful variable** as theere is a difference in survival rates depending on the port of boarding."
   ]
  },
  {
   "cell_type": "markdown",
   "metadata": {},
   "source": [
    "##### Hyp 4 : Does having more relatives on-board result in a better survival rate?"
   ]
  },
  {
   "cell_type": "code",
   "execution_count": 176,
   "metadata": {},
   "outputs": [],
   "source": [
    "#TBD\n",
    "\n"
   ]
  },
  {
   "cell_type": "markdown",
   "metadata": {},
   "source": [
    "##### Hyp 5 : Are younger passengers more likely to survive the disaster?"
   ]
  },
  {
   "cell_type": "code",
   "execution_count": 14,
   "metadata": {},
   "outputs": [
    {
     "data": {
      "image/png": "[encoded data removed]",
      "text/plain": [
       "<Figure size 432x288 with 1 Axes>"
      ]
     },
     "metadata": {
      "needs_background": "light"
     },
     "output_type": "display_data"
    }
   ],
   "source": [
    "temp = pd.pivot_table(train, index = ['AgeCat'], values = ['Name'], columns = ['Survived'],aggfunc=len, margins = True )\n",
    "#print(temp.info())\n",
    "#print('\\n')\n",
    "#print(temp)\n",
    "#print('\\n')\n",
    "\n",
    "#creating user friendly column name as the current one is complex\n",
    "temp.columns = [\"zero\",\"one\",\"all\"]\n",
    "#print(temp.info()) # this name is much better now\n",
    "\n",
    "#adding the % column\n",
    "temp.eval(\"all2 = one + zero\",inplace = True)\n",
    "temp.eval(\"per_survived = one/all2\",inplace = True)\n",
    "\n",
    "#plotting this information\n",
    "temp['per_survived'].plot(kind = \"bar\")\n",
    "plt.title(\"Survival Rates by Age Group\")\n",
    "plt.grid()\n"
   ]
  },
  {
   "cell_type": "markdown",
   "metadata": {},
   "source": [
    "Observations:\n",
    "* Young children *(less than 10 years old)* have the highest survival rates (~60%) while people older than 60 years have the lowest (~20%)\n",
    "\n",
    "Conclusion: There is **some degree of association between age and survival rates**\n",
    "\n",
    "Now, that three important hypothesis have been evaluated. The next task is to start building the model.\n",
    "\n",
    "***"
   ]
  },
  {
   "cell_type": "markdown",
   "metadata": {},
   "source": [
    "### Data Preperation\n",
    "\n",
    "The data will be split into `training` and `validation` sets.\n",
    "\n",
    "Data pipleines are a nifty way of automating data preperation. This section is focused on building one such pipeline\n",
    "\n",
    "#### Splitting Data into Training and Validation Sets\n",
    "\n",
    "I'll be setting aside a small sample for validating the final model. Will be using `Stratefied Sampling` to split the data to ensure that the `validation set` is representative.\n",
    "\n",
    "The stratefied sampling will be performed on the `Embarked` attribute since since the frequency count of one of the classes of the variable is very low."
   ]
  },
  {
   "cell_type": "code",
   "execution_count": 69,
   "metadata": {},
   "outputs": [
    {
     "data": {
      "text/html": [
       "<div>\n",
       "<style scoped>\n",
       "    .dataframe tbody tr th:only-of-type {\n",
       "        vertical-align: middle;\n",
       "    }\n",
       "\n",
       "    .dataframe tbody tr th {\n",
       "        vertical-align: top;\n",
       "    }\n",
       "\n",
       "    .dataframe thead th {\n",
       "        text-align: right;\n",
       "    }\n",
       "</style>\n",
       "<table border=\"1\" class=\"dataframe\">\n",
       "  <thead>\n",
       "    <tr style=\"text-align: right;\">\n",
       "      <th></th>\n",
       "      <th>Name</th>\n",
       "    </tr>\n",
       "    <tr>\n",
       "      <th>Pclass_cat</th>\n",
       "      <th></th>\n",
       "    </tr>\n",
       "  </thead>\n",
       "  <tbody>\n",
       "    <tr>\n",
       "      <th>1</th>\n",
       "      <td>216</td>\n",
       "    </tr>\n",
       "    <tr>\n",
       "      <th>2</th>\n",
       "      <td>184</td>\n",
       "    </tr>\n",
       "    <tr>\n",
       "      <th>3</th>\n",
       "      <td>491</td>\n",
       "    </tr>\n",
       "    <tr>\n",
       "      <th>All</th>\n",
       "      <td>891</td>\n",
       "    </tr>\n",
       "  </tbody>\n",
       "</table>\n",
       "</div>"
      ],
      "text/plain": [
       "            Name\n",
       "Pclass_cat      \n",
       "1            216\n",
       "2            184\n",
       "3            491\n",
       "All          891"
      ]
     },
     "execution_count": 69,
     "metadata": {},
     "output_type": "execute_result"
    }
   ],
   "source": [
    "#Importing data\n",
    "train = pd.read_csv(\"/Users/ramavishwanathan/Desktop/Rama Files/purse/ml_all/ML_Projects/Titanic/train.csv\", )\n",
    "\n",
    "#Creating a categorical version of the passenger class variable\n",
    "train['Pclass_cat'] = pd.cut(\n",
    "    train['Pclass'],\n",
    "    bins = [0,1,2,3],\n",
    "    labels = [1,2,3]\n",
    ")\n",
    "\n",
    "#checking out the newly created variable\n",
    "pd.pivot_table(train, index = ['Pclass_cat'], values = ['Name'],aggfunc=len, margins = True )\n",
    "\n",
    "#print(train.info())"
   ]
  },
  {
   "cell_type": "code",
   "execution_count": 70,
   "metadata": {},
   "outputs": [
    {
     "name": "stdout",
     "output_type": "stream",
     "text": [
      "<class 'pandas.core.frame.DataFrame'>\n",
      "Int64Index: 757 entries, 63 to 417\n",
      "Data columns (total 12 columns):\n",
      "PassengerId    757 non-null int64\n",
      "Survived       757 non-null int64\n",
      "Pclass         757 non-null int64\n",
      "Name           757 non-null object\n",
      "Sex            757 non-null object\n",
      "Age            609 non-null float64\n",
      "SibSp          757 non-null int64\n",
      "Parch          757 non-null int64\n",
      "Ticket         757 non-null object\n",
      "Fare           757 non-null float64\n",
      "Cabin          171 non-null object\n",
      "Embarked       755 non-null object\n",
      "dtypes: float64(2), int64(5), object(5)\n",
      "memory usage: 76.9+ KB\n",
      "None\n",
      "\n",
      "\n",
      "<class 'pandas.core.frame.DataFrame'>\n",
      "Int64Index: 134 entries, 627 to 62\n",
      "Data columns (total 12 columns):\n",
      "PassengerId    134 non-null int64\n",
      "Survived       134 non-null int64\n",
      "Pclass         134 non-null int64\n",
      "Name           134 non-null object\n",
      "Sex            134 non-null object\n",
      "Age            105 non-null float64\n",
      "SibSp          134 non-null int64\n",
      "Parch          134 non-null int64\n",
      "Ticket         134 non-null object\n",
      "Fare           134 non-null float64\n",
      "Cabin          33 non-null object\n",
      "Embarked       134 non-null object\n",
      "dtypes: float64(2), int64(5), object(5)\n",
      "memory usage: 13.6+ KB\n",
      "None\n"
     ]
    }
   ],
   "source": [
    "from sklearn.model_selection import StratifiedShuffleSplit\n",
    "split = StratifiedShuffleSplit(n_splits=1, test_size=0.15, random_state=42)\n",
    "\n",
    "for train_index, test_index in split.split(train, train[\"Pclass_cat\"]):\n",
    "    strat_train_set = train.loc[train_index]\n",
    "    strat_val_set = train.loc[test_index]\n",
    "\n",
    "#quickly dropping the Pclass_cat variable\n",
    "for i in (strat_train_set,strat_val_set):\n",
    "    i.drop(\"Pclass_cat\",axis = 1,inplace = True) #this is the stadard format for deleting the column of a df\n",
    "\n",
    "print(strat_train_set.info())\n",
    "print('\\n')\n",
    "print(strat_val_set.info())\n",
    "\n"
   ]
  },
  {
   "cell_type": "code",
   "execution_count": 71,
   "metadata": {},
   "outputs": [],
   "source": [
    "# seperating the features and the label for both train and val sets\n",
    "X_train = strat_train_set.drop(\"Survived\",axis = 1, inplace = False)\n",
    "y_train = strat_train_set[[\"Survived\"]].copy()\n",
    "\n",
    "X_val = strat_val_set.drop(\"Survived\",axis = 1, inplace = False)\n",
    "y_val = strat_val_set[[\"Survived\"]].copy()\n",
    "\n",
    "#print(train.info())\n",
    "#print(val.info())"
   ]
  },
  {
   "cell_type": "markdown",
   "metadata": {},
   "source": [
    "#### Building a Transformer Pipeline\n",
    "\n",
    "This is going to be a great hack, stay tuned.\n",
    "\n",
    "The following `numeric variables` will be considered:\n",
    "1. Age\n",
    "2. Fare\n",
    "\n",
    "The following `categorical variables` will be considered:\n",
    "1. Pclass\n",
    "2. Sex\n",
    "3. Embarked"
   ]
  },
  {
   "cell_type": "code",
   "execution_count": 72,
   "metadata": {},
   "outputs": [
    {
     "name": "stdout",
     "output_type": "stream",
     "text": [
      "5 6 7\n"
     ]
    }
   ],
   "source": [
    "num_features = ['Fare','Age']\n",
    "cat2_features = ['Pclass','Sex','Embarked']\n",
    "\n",
    "\"\"\"\n",
    "Function Transformers to:\n",
    "    - add new features\n",
    "    #- convert age to categorical variable\n",
    "\"\"\"\n",
    "\n",
    "from numpy import c_ #c_ helps in concatenating 2 arrays along columns\n",
    "\n",
    "from sklearn.preprocessing import FunctionTransformer\n",
    "\n",
    "#Getting the indexes of the needed variables\n",
    "Age_ix, SibSp_ix, Parch_ix = [\n",
    "    list(train.columns).index(col)\n",
    "    for col in (\"Age\", \"SibSp\", \"Parch\")]\n",
    "\n",
    "print(Age_ix,SibSp_ix, Parch_ix) #this works very well\n",
    "\n",
    "#function definition - add new features\n",
    "# def add_extra_features(X, add_total_relatives = True):\n",
    "    \n",
    "#     if add_total_relatives == True:\n",
    "#         NumRelatives = X[:,SibSp_ix] + X[:,Parch_ix]\n",
    "#         return np.c_[X, NumRelatives]\n",
    "#     else:\n",
    "#         return X    \n",
    "\n",
    "# Convert age to categorical variable\n",
    "# def age_to_categorical(X):\n",
    "    \n",
    "#     bins = [0,5, 10, 20, 30, 40, 50, 60, 70, np.inf]\n",
    "#     names = ['<5','5-10', '10-20', '20-30', '30-40', '40-50', '50-60', '60-70','70+']\n",
    "#     X['AgeCat'] = pd.cut(X[Age_ix], bins, labels=names)\n",
    "    \n",
    "#     X.drop(\"Age\",axis = 1,inplace = True) \n",
    "#     X['Age'] = X['AgeCat']\n",
    "#     X.drop(\"AgeCat\",axis = 1,inplace = True) \n",
    "    \n",
    "#     return X\n",
    "    \n",
    "    \n",
    "\n",
    "\"\"\"\n",
    "Numeric Transformer\n",
    "\"\"\"\n",
    "from sklearn.pipeline import Pipeline\n",
    "from sklearn.preprocessing import StandardScaler\n",
    "from sklearn.impute import SimpleImputer\n",
    "\n",
    "\n",
    "num_transformer = Pipeline([\n",
    "    ('imputer',SimpleImputer(strategy = \"median\")),\n",
    "    #('attribs_adder',FunctionTransformer(add_extra_features, validate = False, kw_args = {\"add_total_relatives\":True})),\n",
    "    ('std_scaler', StandardScaler())\n",
    "])\n",
    "\n",
    "\n",
    "\n",
    "\"\"\"\n",
    "Cat1 Transformer\n",
    "\"\"\"\n",
    "# from sklearn.pipeline import Pipeline\n",
    "# from sklearn.preprocessing import StandardScaler\n",
    "# from sklearn.impute import SimpleImputer\n",
    "\n",
    "# cat1_transformer = Pipeline([\n",
    "#     ('inputer_cat',SimpleImputer(strategy = \"most_frequent\")),\n",
    "#     ('attribs_adder2',FunctionTransformer(age_to_categorical, validate = False)),\n",
    "#     ('encoder', OneHotEncoder()),\n",
    "# ])\n",
    "\n",
    "    \n",
    "    \n",
    "\"\"\"\n",
    "Cat2 Transformer\n",
    "\"\"\"\n",
    "\n",
    "from sklearn.preprocessing import OneHotEncoder\n",
    "\n",
    "cat2_transformer = Pipeline([\n",
    "    ('inputer_cat',SimpleImputer(strategy = \"most_frequent\")),\n",
    "    ('encoder2', OneHotEncoder()),\n",
    "])\n",
    "\n",
    "\n",
    "\"\"\"\n",
    "Column Tranformer:: Implementing the full pipeline\n",
    "\"\"\"\n",
    "\n",
    "from sklearn.compose import ColumnTransformer\n",
    "\n",
    "full_pipeline = ColumnTransformer([\n",
    "    (\"num\",num_transformer,num_features),\n",
    "    (\"cat2\",cat2_transformer,cat2_features)\n",
    "])"
   ]
  },
  {
   "cell_type": "code",
   "execution_count": 73,
   "metadata": {},
   "outputs": [
    {
     "name": "stdout",
     "output_type": "stream",
     "text": [
      "(757, 10)\n",
      "(134, 10)\n"
     ]
    }
   ],
   "source": [
    "#Implementing the pipeline\n",
    "\n",
    "X_train_prep = full_pipeline.fit_transform(X_train)\n",
    "X_val_prep = full_pipeline.fit_transform(X_val)\n",
    "\n",
    "print(X_train_prep.shape)\n",
    "print(X_val_prep.shape)"
   ]
  },
  {
   "cell_type": "markdown",
   "metadata": {},
   "source": [
    "### Training Model and Measuring Performance\n",
    "\n",
    "I will be trying out a combination of 2 methods, 2 approaches and 4 KPIs to arrive at the best classifier for the Titanic case study\n",
    "\n",
    "<br>\n",
    "\n",
    " **Training Algorithams**:\n",
    "1. Stochastic Gradient Descent (SGD)\n",
    "2. Random Forest Classifier\n",
    "\n",
    "Approaches to **Model Evaluation**:\n",
    "1. Confusion Matrix\n",
    "1. Cross Validation\n",
    "2. Measuring Performance on Validation Set\n",
    "\n",
    "KPIs for evaluating **Model Performance**:\n",
    "1. Precision\n",
    "2. Recall\n",
    "3. F1\n",
    "4. ROC AUC\n",
    "\n"
   ]
  },
  {
   "cell_type": "code",
   "execution_count": 74,
   "metadata": {},
   "outputs": [
    {
     "name": "stderr",
     "output_type": "stream",
     "text": [
      "/anaconda3/lib/python3.7/site-packages/sklearn/linear_model/stochastic_gradient.py:166: FutureWarning: max_iter and tol parameters have been added in SGDClassifier in 0.19. If both are left unset, they default to max_iter=5 and tol=None. If tol is not None, max_iter defaults to max_iter=1000. From 0.21, default max_iter will be 1000, and default tol will be 1e-3.\n",
      "  FutureWarning)\n",
      "/anaconda3/lib/python3.7/site-packages/sklearn/utils/validation.py:761: DataConversionWarning: A column-vector y was passed when a 1d array was expected. Please change the shape of y to (n_samples, ), for example using ravel().\n",
      "  y = column_or_1d(y, warn=True)\n"
     ]
    },
    {
     "data": {
      "text/plain": [
       "array([[324, 143],\n",
       "       [ 56, 234]])"
      ]
     },
     "execution_count": 74,
     "metadata": {},
     "output_type": "execute_result"
    }
   ],
   "source": [
    "#Trying out SGD\n",
    "from sklearn.linear_model import SGDClassifier\n",
    "sgd_model = SGDClassifier(random_state = 42)\n",
    "sgd_model.fit(X_train_prep, y_train)\n",
    "\n",
    "#Generating Predictions\n",
    "Y_train_sgd = sgd_model.predict(X_train_prep)\n",
    "\n",
    "#Confusion Matrix\n",
    "from sklearn.metrics import confusion_matrix\n",
    "confusion_matrix(y_train, Y_train_sgd)"
   ]
  },
  {
   "cell_type": "code",
   "execution_count": 75,
   "metadata": {},
   "outputs": [
    {
     "name": "stdout",
     "output_type": "stream",
     "text": [
      "model performance scores:  \n",
      "\n",
      "Precision =  0.6206896551724138\n",
      "Recall =  0.8068965517241379\n",
      "F1 =  0.7016491754122939\n",
      "\n",
      "\n"
     ]
    }
   ],
   "source": [
    "# quickly defining a function that will help in calculating key assessment KPI\n",
    "\n",
    "from sklearn.metrics import precision_score, recall_score, f1_score\n",
    "\n",
    "def model_performance_scores(train,predicted):\n",
    "    precision_kpi = precision_score(train,predicted)\n",
    "    recall_kpi = recall_score(train, predicted)\n",
    "    f1_kpi = f1_score(train,predicted)\n",
    "    \n",
    "    print(\"model performance scores: \",\"\\n\")\n",
    "    print(\"Precision = \", precision_kpi)\n",
    "    print(\"Recall = \", recall_kpi)\n",
    "    print(\"F1 = \", f1_kpi)\n",
    "    \n",
    "    print(\"\\n\")\n",
    "\n",
    "model_performance_scores(y_train,Y_train_sgd)\n"
   ]
  },
  {
   "cell_type": "markdown",
   "metadata": {},
   "source": [
    "A quick interpretation of hese KPI:\n",
    "1. `Precision` of 62% denotes that the model is able to identify survivers correctly in 62/100 cases. `True Positive / (True Positive + False Positive) \n",
    "2. `Recall` of 80% denotes that model is able to identify 80 out of 100 survivers. `True Positive / (True Positive + False Negative) `"
   ]
  },
  {
   "cell_type": "code",
   "execution_count": 76,
   "metadata": {},
   "outputs": [
    {
     "name": "stdout",
     "output_type": "stream",
     "text": [
      "Cross Validation Scores for SGD:  [0.75657895 0.68421053 0.77483444 0.63576159 0.76821192]\n",
      "Mean of Cross Val Scores for SGD:  0.7239194841408156\n"
     ]
    },
    {
     "name": "stderr",
     "output_type": "stream",
     "text": [
      "/anaconda3/lib/python3.7/site-packages/sklearn/linear_model/stochastic_gradient.py:166: FutureWarning: max_iter and tol parameters have been added in SGDClassifier in 0.19. If both are left unset, they default to max_iter=5 and tol=None. If tol is not None, max_iter defaults to max_iter=1000. From 0.21, default max_iter will be 1000, and default tol will be 1e-3.\n",
      "  FutureWarning)\n",
      "/anaconda3/lib/python3.7/site-packages/sklearn/utils/validation.py:761: DataConversionWarning: A column-vector y was passed when a 1d array was expected. Please change the shape of y to (n_samples, ), for example using ravel().\n",
      "  y = column_or_1d(y, warn=True)\n",
      "/anaconda3/lib/python3.7/site-packages/sklearn/linear_model/stochastic_gradient.py:166: FutureWarning: max_iter and tol parameters have been added in SGDClassifier in 0.19. If both are left unset, they default to max_iter=5 and tol=None. If tol is not None, max_iter defaults to max_iter=1000. From 0.21, default max_iter will be 1000, and default tol will be 1e-3.\n",
      "  FutureWarning)\n",
      "/anaconda3/lib/python3.7/site-packages/sklearn/utils/validation.py:761: DataConversionWarning: A column-vector y was passed when a 1d array was expected. Please change the shape of y to (n_samples, ), for example using ravel().\n",
      "  y = column_or_1d(y, warn=True)\n",
      "/anaconda3/lib/python3.7/site-packages/sklearn/linear_model/stochastic_gradient.py:166: FutureWarning: max_iter and tol parameters have been added in SGDClassifier in 0.19. If both are left unset, they default to max_iter=5 and tol=None. If tol is not None, max_iter defaults to max_iter=1000. From 0.21, default max_iter will be 1000, and default tol will be 1e-3.\n",
      "  FutureWarning)\n",
      "/anaconda3/lib/python3.7/site-packages/sklearn/utils/validation.py:761: DataConversionWarning: A column-vector y was passed when a 1d array was expected. Please change the shape of y to (n_samples, ), for example using ravel().\n",
      "  y = column_or_1d(y, warn=True)\n",
      "/anaconda3/lib/python3.7/site-packages/sklearn/linear_model/stochastic_gradient.py:166: FutureWarning: max_iter and tol parameters have been added in SGDClassifier in 0.19. If both are left unset, they default to max_iter=5 and tol=None. If tol is not None, max_iter defaults to max_iter=1000. From 0.21, default max_iter will be 1000, and default tol will be 1e-3.\n",
      "  FutureWarning)\n",
      "/anaconda3/lib/python3.7/site-packages/sklearn/utils/validation.py:761: DataConversionWarning: A column-vector y was passed when a 1d array was expected. Please change the shape of y to (n_samples, ), for example using ravel().\n",
      "  y = column_or_1d(y, warn=True)\n",
      "/anaconda3/lib/python3.7/site-packages/sklearn/linear_model/stochastic_gradient.py:166: FutureWarning: max_iter and tol parameters have been added in SGDClassifier in 0.19. If both are left unset, they default to max_iter=5 and tol=None. If tol is not None, max_iter defaults to max_iter=1000. From 0.21, default max_iter will be 1000, and default tol will be 1e-3.\n",
      "  FutureWarning)\n",
      "/anaconda3/lib/python3.7/site-packages/sklearn/utils/validation.py:761: DataConversionWarning: A column-vector y was passed when a 1d array was expected. Please change the shape of y to (n_samples, ), for example using ravel().\n",
      "  y = column_or_1d(y, warn=True)\n"
     ]
    }
   ],
   "source": [
    "# Cross Validation to get a better understanding of the model performance\n",
    "\n",
    "from sklearn.model_selection import cross_val_score\n",
    "\n",
    "cross_val_score_sgd = cross_val_score(sgd_model,X_train_prep, y_train, cv=5, scoring = \"accuracy\")\n",
    "\n",
    "print(\"Cross Validation Scores for SGD: \",cross_val_score_sgd)\n",
    "print(\"Mean of Cross Val Scores for SGD: \",cross_val_score_sgd.mean())"
   ]
  },
  {
   "cell_type": "markdown",
   "metadata": {},
   "source": [
    "We are still getting accuracy in the range of 63-77% with an average of 72%. \n",
    "\n",
    "The next step is to get predictions via Cross Validation and then compute the KPIs - Precision, Recall and F1."
   ]
  },
  {
   "cell_type": "code",
   "execution_count": 78,
   "metadata": {
    "scrolled": true
   },
   "outputs": [
    {
     "name": "stderr",
     "output_type": "stream",
     "text": [
      "/anaconda3/lib/python3.7/site-packages/sklearn/linear_model/stochastic_gradient.py:166: FutureWarning: max_iter and tol parameters have been added in SGDClassifier in 0.19. If both are left unset, they default to max_iter=5 and tol=None. If tol is not None, max_iter defaults to max_iter=1000. From 0.21, default max_iter will be 1000, and default tol will be 1e-3.\n",
      "  FutureWarning)\n",
      "/anaconda3/lib/python3.7/site-packages/sklearn/utils/validation.py:761: DataConversionWarning: A column-vector y was passed when a 1d array was expected. Please change the shape of y to (n_samples, ), for example using ravel().\n",
      "  y = column_or_1d(y, warn=True)\n",
      "/anaconda3/lib/python3.7/site-packages/sklearn/linear_model/stochastic_gradient.py:166: FutureWarning: max_iter and tol parameters have been added in SGDClassifier in 0.19. If both are left unset, they default to max_iter=5 and tol=None. If tol is not None, max_iter defaults to max_iter=1000. From 0.21, default max_iter will be 1000, and default tol will be 1e-3.\n",
      "  FutureWarning)\n",
      "/anaconda3/lib/python3.7/site-packages/sklearn/utils/validation.py:761: DataConversionWarning: A column-vector y was passed when a 1d array was expected. Please change the shape of y to (n_samples, ), for example using ravel().\n",
      "  y = column_or_1d(y, warn=True)\n",
      "/anaconda3/lib/python3.7/site-packages/sklearn/linear_model/stochastic_gradient.py:166: FutureWarning: max_iter and tol parameters have been added in SGDClassifier in 0.19. If both are left unset, they default to max_iter=5 and tol=None. If tol is not None, max_iter defaults to max_iter=1000. From 0.21, default max_iter will be 1000, and default tol will be 1e-3.\n",
      "  FutureWarning)\n",
      "/anaconda3/lib/python3.7/site-packages/sklearn/utils/validation.py:761: DataConversionWarning: A column-vector y was passed when a 1d array was expected. Please change the shape of y to (n_samples, ), for example using ravel().\n",
      "  y = column_or_1d(y, warn=True)\n",
      "/anaconda3/lib/python3.7/site-packages/sklearn/linear_model/stochastic_gradient.py:166: FutureWarning: max_iter and tol parameters have been added in SGDClassifier in 0.19. If both are left unset, they default to max_iter=5 and tol=None. If tol is not None, max_iter defaults to max_iter=1000. From 0.21, default max_iter will be 1000, and default tol will be 1e-3.\n",
      "  FutureWarning)\n",
      "/anaconda3/lib/python3.7/site-packages/sklearn/utils/validation.py:761: DataConversionWarning: A column-vector y was passed when a 1d array was expected. Please change the shape of y to (n_samples, ), for example using ravel().\n",
      "  y = column_or_1d(y, warn=True)\n",
      "/anaconda3/lib/python3.7/site-packages/sklearn/linear_model/stochastic_gradient.py:166: FutureWarning: max_iter and tol parameters have been added in SGDClassifier in 0.19. If both are left unset, they default to max_iter=5 and tol=None. If tol is not None, max_iter defaults to max_iter=1000. From 0.21, default max_iter will be 1000, and default tol will be 1e-3.\n",
      "  FutureWarning)\n",
      "/anaconda3/lib/python3.7/site-packages/sklearn/utils/validation.py:761: DataConversionWarning: A column-vector y was passed when a 1d array was expected. Please change the shape of y to (n_samples, ), for example using ravel().\n",
      "  y = column_or_1d(y, warn=True)\n"
     ]
    },
    {
     "ename": "NameError",
     "evalue": "name 'train_label' is not defined",
     "output_type": "error",
     "traceback": [
      "\u001b[0;31m---------------------------------------------------------------------------\u001b[0m",
      "\u001b[0;31mNameError\u001b[0m                                 Traceback (most recent call last)",
      "\u001b[0;32m<ipython-input-78-1b97bd2ea137>\u001b[0m in \u001b[0;36m<module>\u001b[0;34m()\u001b[0m\n\u001b[1;32m      3\u001b[0m \u001b[0msgd_train_predict_cv\u001b[0m \u001b[0;34m=\u001b[0m \u001b[0mcross_val_predict\u001b[0m\u001b[0;34m(\u001b[0m\u001b[0msgd_model\u001b[0m\u001b[0;34m,\u001b[0m\u001b[0mX_train_prep\u001b[0m\u001b[0;34m,\u001b[0m \u001b[0my_train\u001b[0m\u001b[0;34m,\u001b[0m \u001b[0mcv\u001b[0m\u001b[0;34m=\u001b[0m\u001b[0;36m5\u001b[0m\u001b[0;34m)\u001b[0m\u001b[0;34m\u001b[0m\u001b[0;34m\u001b[0m\u001b[0m\n\u001b[1;32m      4\u001b[0m \u001b[0;34m\u001b[0m\u001b[0m\n\u001b[0;32m----> 5\u001b[0;31m \u001b[0mconfusion_matrix\u001b[0m\u001b[0;34m(\u001b[0m\u001b[0mtrain_label\u001b[0m\u001b[0;34m,\u001b[0m\u001b[0msgd_train_predict_cv\u001b[0m\u001b[0;34m)\u001b[0m\u001b[0;34m\u001b[0m\u001b[0;34m\u001b[0m\u001b[0m\n\u001b[0m\u001b[1;32m      6\u001b[0m \u001b[0;34m\u001b[0m\u001b[0m\n\u001b[1;32m      7\u001b[0m \u001b[0;31m# evaluating the model performance\u001b[0m\u001b[0;34m\u001b[0m\u001b[0;34m\u001b[0m\u001b[0;34m\u001b[0m\u001b[0m\n",
      "\u001b[0;31mNameError\u001b[0m: name 'train_label' is not defined"
     ]
    }
   ],
   "source": [
    "from sklearn.model_selection import cross_val_predict\n",
    "\n",
    "sgd_train_predict_cv = cross_val_predict(sgd_model,X_train_prep, y_train, cv=5)\n",
    "\n",
    "confusion_matrix(train_label,sgd_train_predict_cv)\n",
    "\n",
    "# evaluating the model performance\n",
    "model_performance_scores(train_label,sgd_train_predict_cv)"
   ]
  },
  {
   "cell_type": "markdown",
   "metadata": {},
   "source": [
    "Interestingly, this throws a better picture. The low `recall` value suggests that the model is performing poorly in identifying all the survivors.\n",
    "\n",
    "So, at the moment, we have one model `sgd_model` and 2 sets of predictions:\n",
    "1. `sgd_predict` Predictions generated via Stochastic Gradient Descent (SGD), F1 score of 70%\n",
    "2. `sgd_train_predict_cv` Predictions generated vis SGD and Cross Validation (CV), F1 score of 69% with a poor recall value of 63%\n",
    "\n",
    "The second version (SGD + CV) portrays a more reliable picture regarding the accuracy of an SGD model.\n",
    "\n"
   ]
  },
  {
   "cell_type": "markdown",
   "metadata": {},
   "source": [
    "***\n",
    "\n",
    "Implementing a **Random Forest Classifier**"
   ]
  },
  {
   "cell_type": "code",
   "execution_count": 79,
   "metadata": {},
   "outputs": [
    {
     "name": "stderr",
     "output_type": "stream",
     "text": [
      "/anaconda3/lib/python3.7/site-packages/ipykernel_launcher.py:3: DataConversionWarning: A column-vector y was passed when a 1d array was expected. Please change the shape of y to (n_samples,), for example using ravel().\n",
      "  This is separate from the ipykernel package so we can avoid doing imports until\n",
      "/anaconda3/lib/python3.7/site-packages/sklearn/model_selection/_validation.py:528: DataConversionWarning: A column-vector y was passed when a 1d array was expected. Please change the shape of y to (n_samples,), for example using ravel().\n",
      "  estimator.fit(X_train, y_train, **fit_params)\n",
      "/anaconda3/lib/python3.7/site-packages/sklearn/model_selection/_validation.py:528: DataConversionWarning: A column-vector y was passed when a 1d array was expected. Please change the shape of y to (n_samples,), for example using ravel().\n",
      "  estimator.fit(X_train, y_train, **fit_params)\n",
      "/anaconda3/lib/python3.7/site-packages/sklearn/model_selection/_validation.py:528: DataConversionWarning: A column-vector y was passed when a 1d array was expected. Please change the shape of y to (n_samples,), for example using ravel().\n",
      "  estimator.fit(X_train, y_train, **fit_params)\n",
      "/anaconda3/lib/python3.7/site-packages/sklearn/model_selection/_validation.py:528: DataConversionWarning: A column-vector y was passed when a 1d array was expected. Please change the shape of y to (n_samples,), for example using ravel().\n",
      "  estimator.fit(X_train, y_train, **fit_params)\n",
      "/anaconda3/lib/python3.7/site-packages/sklearn/model_selection/_validation.py:528: DataConversionWarning: A column-vector y was passed when a 1d array was expected. Please change the shape of y to (n_samples,), for example using ravel().\n",
      "  estimator.fit(X_train, y_train, **fit_params)\n"
     ]
    },
    {
     "name": "stdout",
     "output_type": "stream",
     "text": [
      "Cross Validation Scores for Forest:  [0.80921053 0.84210526 0.81456954 0.80794702 0.77483444]\n",
      "Mean of Cross Val Scores for Forest:  0.8097333565702336\n"
     ]
    }
   ],
   "source": [
    "from sklearn.ensemble import RandomForestClassifier\n",
    "forest_model = RandomForestClassifier(n_estimators = 100, random_state = 42)\n",
    "forest_model.fit(X_train_prep,y_train)\n",
    "\n",
    "#cross validation scores\n",
    "cross_val_score_forest = cross_val_score(forest_model,X_train_prep, y_train, cv=5, scoring = \"accuracy\")\n",
    "\n",
    "print(\"Cross Validation Scores for Forest: \",cross_val_score_forest)\n",
    "print(\"Mean of Cross Val Scores for Forest: \",cross_val_score_forest.mean())"
   ]
  },
  {
   "cell_type": "code",
   "execution_count": 208,
   "metadata": {},
   "outputs": [
    {
     "name": "stderr",
     "output_type": "stream",
     "text": [
      "/anaconda3/lib/python3.7/site-packages/sklearn/model_selection/_validation.py:850: DataConversionWarning: A column-vector y was passed when a 1d array was expected. Please change the shape of y to (n_samples,), for example using ravel().\n",
      "  estimator.fit(X_train, y_train, **fit_params)\n",
      "/anaconda3/lib/python3.7/site-packages/sklearn/model_selection/_validation.py:850: DataConversionWarning: A column-vector y was passed when a 1d array was expected. Please change the shape of y to (n_samples,), for example using ravel().\n",
      "  estimator.fit(X_train, y_train, **fit_params)\n",
      "/anaconda3/lib/python3.7/site-packages/sklearn/model_selection/_validation.py:850: DataConversionWarning: A column-vector y was passed when a 1d array was expected. Please change the shape of y to (n_samples,), for example using ravel().\n",
      "  estimator.fit(X_train, y_train, **fit_params)\n",
      "/anaconda3/lib/python3.7/site-packages/sklearn/model_selection/_validation.py:850: DataConversionWarning: A column-vector y was passed when a 1d array was expected. Please change the shape of y to (n_samples,), for example using ravel().\n",
      "  estimator.fit(X_train, y_train, **fit_params)\n"
     ]
    },
    {
     "name": "stdout",
     "output_type": "stream",
     "text": [
      "model performance scores:  \n",
      "\n",
      "Precision =  0.7739463601532567\n",
      "Recall =  0.696551724137931\n",
      "F1 =  0.7332123411978222\n",
      "\n",
      "\n"
     ]
    },
    {
     "name": "stderr",
     "output_type": "stream",
     "text": [
      "/anaconda3/lib/python3.7/site-packages/sklearn/model_selection/_validation.py:850: DataConversionWarning: A column-vector y was passed when a 1d array was expected. Please change the shape of y to (n_samples,), for example using ravel().\n",
      "  estimator.fit(X_train, y_train, **fit_params)\n"
     ]
    }
   ],
   "source": [
    "#generating predictions using cross validation\n",
    "Y_train_forest_cv = cross_val_predict(forest_model,X_train_prep, y_train, cv=5)\n",
    "\n",
    "#model performance scores \n",
    "model_performance_scores(y_train,Y_train_forest_cv)"
   ]
  },
  {
   "cell_type": "markdown",
   "metadata": {},
   "source": [
    "**Random Forest Classifier** performs considerably better than the **SGD Classifier**\n",
    "\n",
    "The next task is to quickly generate the prediction scores, which in-turn will be used to generate the `ROC AUC` value. "
   ]
  },
  {
   "cell_type": "code",
   "execution_count": 209,
   "metadata": {},
   "outputs": [
    {
     "name": "stderr",
     "output_type": "stream",
     "text": [
      "/anaconda3/lib/python3.7/site-packages/sklearn/preprocessing/label.py:235: DataConversionWarning: A column-vector y was passed when a 1d array was expected. Please change the shape of y to (n_samples, ), for example using ravel().\n",
      "  y = column_or_1d(y, warn=True)\n",
      "/anaconda3/lib/python3.7/site-packages/sklearn/linear_model/stochastic_gradient.py:166: FutureWarning: max_iter and tol parameters have been added in SGDClassifier in 0.19. If both are left unset, they default to max_iter=5 and tol=None. If tol is not None, max_iter defaults to max_iter=1000. From 0.21, default max_iter will be 1000, and default tol will be 1e-3.\n",
      "  FutureWarning)\n",
      "/anaconda3/lib/python3.7/site-packages/sklearn/linear_model/stochastic_gradient.py:166: FutureWarning: max_iter and tol parameters have been added in SGDClassifier in 0.19. If both are left unset, they default to max_iter=5 and tol=None. If tol is not None, max_iter defaults to max_iter=1000. From 0.21, default max_iter will be 1000, and default tol will be 1e-3.\n",
      "  FutureWarning)\n",
      "/anaconda3/lib/python3.7/site-packages/sklearn/linear_model/stochastic_gradient.py:166: FutureWarning: max_iter and tol parameters have been added in SGDClassifier in 0.19. If both are left unset, they default to max_iter=5 and tol=None. If tol is not None, max_iter defaults to max_iter=1000. From 0.21, default max_iter will be 1000, and default tol will be 1e-3.\n",
      "  FutureWarning)\n",
      "/anaconda3/lib/python3.7/site-packages/sklearn/model_selection/_validation.py:850: DataConversionWarning: A column-vector y was passed when a 1d array was expected. Please change the shape of y to (n_samples,), for example using ravel().\n",
      "  estimator.fit(X_train, y_train, **fit_params)\n",
      "/anaconda3/lib/python3.7/site-packages/sklearn/model_selection/_validation.py:850: DataConversionWarning: A column-vector y was passed when a 1d array was expected. Please change the shape of y to (n_samples,), for example using ravel().\n",
      "  estimator.fit(X_train, y_train, **fit_params)\n"
     ]
    },
    {
     "name": "stdout",
     "output_type": "stream",
     "text": [
      "ROC AUC for SGD is:  0.8252344384552905\n",
      "ROC AUC for Random Forest Classifier is:  0.7862327401609688\n"
     ]
    },
    {
     "name": "stderr",
     "output_type": "stream",
     "text": [
      "/anaconda3/lib/python3.7/site-packages/sklearn/model_selection/_validation.py:850: DataConversionWarning: A column-vector y was passed when a 1d array was expected. Please change the shape of y to (n_samples,), for example using ravel().\n",
      "  estimator.fit(X_train, y_train, **fit_params)\n"
     ]
    }
   ],
   "source": [
    "Y_scores_sgd = cross_val_predict(sgd_model, X_train_prep, y_train, cv=3,\n",
    "                             method=\"decision_function\")\n",
    "\n",
    "Y_scores_forest = cross_val_predict(forest_model, X_train_prep, y_train, cv=3)\n",
    "\n",
    "from sklearn.metrics import roc_auc_score\n",
    "\n",
    "print(\"ROC AUC for SGD is: \",roc_auc_score(y_train, Y_scores_sgd))\n",
    "print(\"ROC AUC for Random Forest Classifier is: \",roc_auc_score(y_train, Y_scores_forest))\n"
   ]
  },
  {
   "cell_type": "markdown",
   "metadata": {},
   "source": [
    "**The Verdict**:\n",
    "\n",
    "***\n",
    "\n",
    "### Executing the model on the test set"
   ]
  },
  {
   "cell_type": "code",
   "execution_count": 210,
   "metadata": {},
   "outputs": [
    {
     "name": "stdout",
     "output_type": "stream",
     "text": [
      "model performance scores:  \n",
      "\n",
      "Precision =  0.6197183098591549\n",
      "Recall =  0.8461538461538461\n",
      "F1 =  0.7154471544715447\n",
      "\n",
      "\n"
     ]
    }
   ],
   "source": [
    "# Model performance on validation set -- SGD\n",
    "\n",
    "Y_val_sgd = sgd_model.predict(X_val_prep)\n",
    "\n",
    "model_performance_scores(y_val, Y_val_sgd) #SGD performs poorly from a precision standpoint"
   ]
  },
  {
   "cell_type": "code",
   "execution_count": 211,
   "metadata": {},
   "outputs": [
    {
     "name": "stdout",
     "output_type": "stream",
     "text": [
      "model performance scores:  \n",
      "\n",
      "Precision =  0.8444444444444444\n",
      "Recall =  0.7307692307692307\n",
      "F1 =  0.7835051546391751\n",
      "\n",
      "\n"
     ]
    }
   ],
   "source": [
    "# Model performance on validation set -- Random Forest\n",
    "\n",
    "Y_val_forest = forest_model.predict(X_val_prep)\n",
    "\n",
    "model_performance_scores(y_val, Y_val_forest) #SGD performs poorly from a recall standpoint"
   ]
  },
  {
   "cell_type": "code",
   "execution_count": 55,
   "metadata": {},
   "outputs": [
    {
     "data": {
      "text/plain": [
       "(418, 10)"
      ]
     },
     "execution_count": 55,
     "metadata": {},
     "output_type": "execute_result"
    }
   ],
   "source": [
    "#Importing data\n",
    "test = pd.read_csv(\"/Users/ramavishwanathan/Desktop/Rama Files/purse/ml_all/ML_Projects/Titanic/test.csv\" )\n",
    "\n",
    "#data preperation\n",
    "X_test_prep= full_pipeline.fit_transform(test)\n",
    "\n",
    "X_test_prep.shape"
   ]
  },
  {
   "cell_type": "code",
   "execution_count": 220,
   "metadata": {},
   "outputs": [],
   "source": [
    "Y_test = sgd_model.predict(X_test_prep)\n",
    "\n",
    "output = pd.DataFrame({'PassengerId': test['PassengerId'],'Survived': Y_test})\n",
    "\n",
    "#output.head()\n",
    "#output.info()\n",
    "#print(os.getcwd())\n",
    "\n",
    "#write out this dataframe as CSV\n",
    "output.to_csv(\"out_sg2.csv\")\n"
   ]
  },
  {
   "cell_type": "markdown",
   "metadata": {},
   "source": [
    "Summary of all the attempts and experiements:\n",
    "1. SGD with `Age, Fare, Pclass, Sex, Embarked` performed poorly with a score of 66%\n",
    "2. Random Forest *(n_est = 100)* with `Age, Fare, Pclass, Sex, Embarked` performed well with a score of 72%\n",
    "\n",
    "#### Next Step \n",
    "\n",
    "SGD and Random Forest with a categorical variant of Age variable `AgeCat`, plus a `NumRelatives` var which is sum of `SibSp` and `Parch`\n",
    "\n",
    "To achieve this goal, we need to create a new **pipeline**\n",
    "\n",
    "#### A more elegant pipleine that does more "
   ]
  },
  {
   "cell_type": "code",
   "execution_count": 82,
   "metadata": {},
   "outputs": [],
   "source": [
    "\"\"\"\n",
    "Nice Kickass Pipeline\n",
    "\"\"\"\n",
    "\n",
    "\n",
    "\n",
    "# Input: X_train, y_train, X_val, y_val\n",
    "\n",
    "def add_extra_features(X, add_relatives = True):\n",
    "    \n",
    "    X['NumRelatives'] = X['SibSp'] + X['Parch']\n",
    "        \n",
    "    bins = [0, 5, 10, 20, 30, 40, 50, 60, 70, np.inf]\n",
    "    names = ['0-5','5-10', '10-20', '20-30', '30-40', '40-50', '50-60', '60-70','70+']\n",
    "    \n",
    "    X['AgeCat'] = pd.cut(X['Age'], bins, labels=names)\n",
    "    \n",
    "        \n",
    "    return X\n",
    "\n",
    "\n",
    "X_train_mod = add_extra_features(X_train)\n",
    "X_val_mod = add_extra_features(X_val)\n",
    "X_test_mod = add_extra_features(test)\n",
    "\n",
    "# print(X_train_prep.info())\n",
    "# print(X_val_prep.info())\n",
    "# print(X_test_prep.info())\n",
    "\n",
    "num_features = ['Fare','NumRelatives']\n",
    "cat_features = ['Pclass','Embarked','Sex','AgeCat']\n",
    "\n",
    "\n",
    "\"\"\"\n",
    "Individual Transformers for Num and Cat\n",
    "\"\"\"\n",
    "\n",
    "num_transformer = Pipeline([\n",
    "    ('imputer',SimpleImputer(strategy = \"median\")),\n",
    "    ('std_scaler', StandardScaler()),\n",
    "])\n",
    "\n",
    "\n",
    "cat_transformer = Pipeline([\n",
    "    ('inputer_cat',SimpleImputer(strategy = \"most_frequent\")),\n",
    "    ('encoder', OneHotEncoder()),\n",
    "])\n",
    "\n",
    "\n",
    "\"\"\"\n",
    "Column Tranformer:: Implementing the full pipeline\n",
    "\"\"\"\n",
    "\n",
    "from sklearn.compose import ColumnTransformer\n",
    "\n",
    "full_pipeline3 = ColumnTransformer([\n",
    "    (\"num\",num_transformer,num_features),\n",
    "    (\"cat\",cat_transformer,cat_features)\n",
    "])"
   ]
  },
  {
   "cell_type": "code",
   "execution_count": 88,
   "metadata": {},
   "outputs": [
    {
     "name": "stdout",
     "output_type": "stream",
     "text": [
      "(757, 19)\n",
      "(757, 1)\n"
     ]
    }
   ],
   "source": [
    "#Implementing the pipelines\n",
    "\n",
    "X_train_prep = full_pipeline3.fit_transform(X_train_mod)\n",
    "X_val_prep = full_pipeline3.fit_transform(X_val_mod)\n",
    "X_test_prep = full_pipeline3.fit_transform(X_test_mod)\n",
    "\n",
    "\n",
    "print(X_train_prep.shape)\n",
    "print(y_train.shape)"
   ]
  },
  {
   "cell_type": "code",
   "execution_count": 92,
   "metadata": {},
   "outputs": [
    {
     "name": "stdout",
     "output_type": "stream",
     "text": [
      "model performance scores:  \n",
      "\n",
      "Precision =  0.9602888086642599\n",
      "Recall =  0.9172413793103448\n",
      "F1 =  0.9382716049382716\n",
      "\n",
      "\n",
      "model performance scores:  \n",
      "\n",
      "Precision =  0.8372093023255814\n",
      "Recall =  0.6923076923076923\n",
      "F1 =  0.7578947368421053\n",
      "\n",
      "\n"
     ]
    },
    {
     "name": "stderr",
     "output_type": "stream",
     "text": [
      "/anaconda3/lib/python3.7/site-packages/ipykernel_launcher.py:5: DataConversionWarning: A column-vector y was passed when a 1d array was expected. Please change the shape of y to (n_samples,), for example using ravel().\n",
      "  \"\"\"\n"
     ]
    }
   ],
   "source": [
    "#Implementing Random Forest Model\n",
    "from sklearn.ensemble import RandomForestClassifier\n",
    "\n",
    "forest_model2 = RandomForestClassifier(n_estimators = 100, random_state = 42)\n",
    "forest_model2.fit(X_train_prep,y_train)\n",
    "\n",
    "\n",
    "Y_train_forest = forest_model2.predict(X_train_prep)\n",
    "\n",
    "model_performance_scores(y_train,Y_train_forest)\n",
    "\n",
    "\n",
    "#quickly generating val set accuracy\n",
    "Y_val_forest = forest_model2.predict(X_val_prep)\n",
    "model_performance_scores(y_val,Y_val_forest)\n"
   ]
  },
  {
   "cell_type": "code",
   "execution_count": 93,
   "metadata": {},
   "outputs": [],
   "source": [
    "Y_test = forest_model2.predict(X_test_prep)\n",
    "\n",
    "output = pd.DataFrame({'PassengerId': test['PassengerId'],'Survived': Y_test})\n",
    "\n",
    "#output.head()\n",
    "#output.info()\n",
    "#print(os.getcwd())\n",
    "\n",
    "#write out this dataframe as CSV\n",
    "output.to_csv(\"out_rf2.csv\")\n"
   ]
  },
  {
   "cell_type": "markdown",
   "metadata": {},
   "source": [
    "This version performs reasonably well and yields an accuracy of ~73%. I'll be attempting SGD next up"
   ]
  },
  {
   "cell_type": "code",
   "execution_count": 94,
   "metadata": {},
   "outputs": [
    {
     "name": "stdout",
     "output_type": "stream",
     "text": [
      "model performance scores:  \n",
      "\n",
      "Precision =  0.46357615894039733\n",
      "Recall =  0.7241379310344828\n",
      "F1 =  0.5652759084791386\n",
      "\n",
      "\n",
      "model performance scores:  \n",
      "\n",
      "Precision =  0.47126436781609193\n",
      "Recall =  0.7884615384615384\n",
      "F1 =  0.5899280575539568\n",
      "\n",
      "\n"
     ]
    },
    {
     "name": "stderr",
     "output_type": "stream",
     "text": [
      "/anaconda3/lib/python3.7/site-packages/sklearn/linear_model/stochastic_gradient.py:166: FutureWarning: max_iter and tol parameters have been added in SGDClassifier in 0.19. If both are left unset, they default to max_iter=5 and tol=None. If tol is not None, max_iter defaults to max_iter=1000. From 0.21, default max_iter will be 1000, and default tol will be 1e-3.\n",
      "  FutureWarning)\n",
      "/anaconda3/lib/python3.7/site-packages/sklearn/utils/validation.py:761: DataConversionWarning: A column-vector y was passed when a 1d array was expected. Please change the shape of y to (n_samples, ), for example using ravel().\n",
      "  y = column_or_1d(y, warn=True)\n"
     ]
    }
   ],
   "source": [
    "#Implementing SGD Model\n",
    "from sklearn.linear_model import SGDClassifier\n",
    "\n",
    "\n",
    "sgd_model2 = SGDClassifier()\n",
    "sgd_model2.fit(X_train_prep,y_train)\n",
    "\n",
    "\n",
    "Y_train_sgd = sgd_model2.predict(X_train_prep)\n",
    "\n",
    "model_performance_scores(y_train,Y_train_sgd)\n",
    "\n",
    "\n",
    "#quickly generating val set accuracy\n",
    "Y_val_sgd = sgd_model2.predict(X_val_prep)\n",
    "model_performance_scores(y_val,Y_val_sgd)"
   ]
  },
  {
   "cell_type": "markdown",
   "metadata": {},
   "source": [
    "The model performs very poorly, not moving ahead with this"
   ]
  },
  {
   "cell_type": "code",
   "execution_count": 97,
   "metadata": {},
   "outputs": [
    {
     "name": "stdout",
     "output_type": "stream",
     "text": [
      "model performance scores:  \n",
      "\n",
      "Precision =  0.8208333333333333\n",
      "Recall =  0.6793103448275862\n",
      "F1 =  0.7433962264150944\n",
      "\n",
      "\n",
      "model performance scores:  \n",
      "\n",
      "Precision =  0.7\n",
      "Recall =  0.6730769230769231\n",
      "F1 =  0.6862745098039216\n",
      "\n",
      "\n"
     ]
    },
    {
     "name": "stderr",
     "output_type": "stream",
     "text": [
      "/anaconda3/lib/python3.7/site-packages/sklearn/utils/validation.py:761: DataConversionWarning: A column-vector y was passed when a 1d array was expected. Please change the shape of y to (n_samples, ), for example using ravel().\n",
      "  y = column_or_1d(y, warn=True)\n"
     ]
    }
   ],
   "source": [
    "#attempting SVMClassifier\n",
    "\n",
    "from sklearn.svm import SVC\n",
    "\n",
    "svm_clf = SVC(gamma=\"auto\")\n",
    "svm_clf.fit(X_train_prep, y_train)\n",
    "\n",
    "Y_train_svc = svm_clf.predict(X_train_prep)\n",
    "\n",
    "model_performance_scores(y_train,Y_train_svc)\n",
    "\n",
    "\n",
    "#quickly generating val set accuracy\n",
    "Y_val_svc = svm_clf.predict(X_val_prep)\n",
    "model_performance_scores(y_val,Y_val_svc)\n"
   ]
  }
 ],
 "metadata": {
  "kernelspec": {
   "display_name": "Python 3",
   "language": "python",
   "name": "python3"
  },
  "language_info": {
   "codemirror_mode": {
    "name": "ipython",
    "version": 3
   },
   "file_extension": ".py",
   "mimetype": "text/x-python",
   "name": "python",
   "nbconvert_exporter": "python",
   "pygments_lexer": "ipython3",
   "version": "3.7.2"
  },
  "toc": {
   "base_numbering": 1,
   "nav_menu": {},
   "number_sections": true,
   "sideBar": true,
   "skip_h1_title": false,
   "title_cell": "Table of Contents",
   "title_sidebar": "Contents",
   "toc_cell": false,
   "toc_position": {},
   "toc_section_display": true,
   "toc_window_display": false
  }
 },
 "nbformat": 4,
 "nbformat_minor": 2
}
