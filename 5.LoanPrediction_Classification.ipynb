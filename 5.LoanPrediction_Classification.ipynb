{
 "cells": [
  {
   "cell_type": "markdown",
   "metadata": {},
   "source": [
    "# Loan Prediction\n",
    "\n",
    "## Summary/ Abstract\n",
    "\n",
    "The task is to predict if a loan will get approved or not based on a set of parameters. The set of parameters include demographic varibles such as education level, employment and gender. `Logistic Regression` and `Linear SVC` approaches were used to build the models. Logistic Regression was the best performing model with an ou  \n",
    "\n",
    "\n",
    "\n",
    "## Table of Contents:\n",
    "1. Introduction & Initial Housekeeping\n",
    "2. Getting Data\n",
    "3. Exploring Data\n",
    "4. Data Fixes & Feature Engineering\n",
    "5. The Analytical Dataset *(ideally, using a pipeline)*\n",
    "6. Training Models\n",
    "7. The Best Model\n",
    "\n",
    "<br>\n",
    "\n",
    "***\n",
    "\n",
    "## 1. Introduction & Initial Housekeeping\n",
    "\n",
    "I'll be setting up the environment and shall import some of the standard packages"
   ]
  },
  {
   "cell_type": "code",
   "execution_count": 3,
   "metadata": {},
   "outputs": [],
   "source": [
    "# Importing Packages \n",
    "\n",
    "# To support both python 2 and python 3\n",
    "from __future__ import division, print_function, unicode_literals\n",
    "\n",
    "# Common imports\n",
    "import numpy as np\n",
    "import os\n",
    "\n",
    "# to make this notebook's output stable across runs\n",
    "np.random.seed(42)\n",
    "\n",
    "# To plot pretty figures\n",
    "%matplotlib inline\n",
    "import matplotlib as mpl\n",
    "import matplotlib.pyplot as plt\n",
    "mpl.rc('axes', labelsize=14)\n",
    "mpl.rc('xtick', labelsize=12)\n",
    "mpl.rc('ytick', labelsize=12)\n",
    "\n",
    "# Where to save the figures\n",
    "PROJECT_ROOT_DIR = \".\"\n",
    "CHAPTER_ID = \"Loan_Prediction\"\n",
    "IMAGES_PATH = os.path.join(PROJECT_ROOT_DIR, \"images\", CHAPTER_ID)\n",
    "\n",
    "#create the reqired folders if they don't already exist\n",
    "os.makedirs(IMAGES_PATH, exist_ok=True)\n",
    "\n",
    "# A simple function that helps save images\n",
    "def save_fig(fig_id, tight_layout=True):\n",
    "    path = os.path.join(PROJECT_ROOT_DIR, \"images\", CHAPTER_ID, fig_id + \".png\")\n",
    "    print(\"Saving figure\", fig_id)\n",
    "    if tight_layout:\n",
    "        plt.tight_layout()\n",
    "    plt.savefig(path, format='png', dpi=300)"
   ]
  },
  {
   "cell_type": "code",
   "execution_count": 4,
   "metadata": {},
   "outputs": [
    {
     "data": {
      "text/plain": [
       "'/Users/ramavishwanathan/Desktop/Rama Files/purse/ml_all/ML_Projects/ML_Projects_git'"
      ]
     },
     "execution_count": 4,
     "metadata": {},
     "output_type": "execute_result"
    }
   ],
   "source": [
    "import os\n",
    "os.getcwd()"
   ]
  },
  {
   "cell_type": "markdown",
   "metadata": {},
   "source": [
    "***\n",
    "\n",
    "## 2. Getting Data\n",
    "\n",
    "Goals:\n",
    "1. Reading Data\n",
    "2. Dividing the data into Training, Validation and Testing sets (70:15:15)\n",
    "\n",
    "Testing set is to evaluate the *final model* i.e the model that perfoms the best across the training and validation sets"
   ]
  },
  {
   "cell_type": "code",
   "execution_count": 30,
   "metadata": {},
   "outputs": [
    {
     "name": "stdout",
     "output_type": "stream",
     "text": [
      "<class 'pandas.core.frame.DataFrame'>\n",
      "RangeIndex: 614 entries, 0 to 613\n",
      "Data columns (total 13 columns):\n",
      "Loan_ID              614 non-null object\n",
      "Gender               601 non-null object\n",
      "Married              611 non-null object\n",
      "Dependents           599 non-null object\n",
      "Education            614 non-null object\n",
      "Self_Employed        582 non-null object\n",
      "ApplicantIncome      614 non-null int64\n",
      "CoapplicantIncome    614 non-null float64\n",
      "LoanAmount           592 non-null float64\n",
      "Loan_Amount_Term     600 non-null float64\n",
      "Credit_History       564 non-null float64\n",
      "Property_Area        614 non-null object\n",
      "Loan_Status          614 non-null object\n",
      "dtypes: float64(4), int64(1), object(8)\n",
      "memory usage: 62.4+ KB\n"
     ]
    }
   ],
   "source": [
    "import pandas as pd\n",
    "data = pd.read_csv(\"/Users/ramavishwanathan/Desktop/Rama Files/purse/ml_all/ML_Projects/datasets/loan_prediction/train.csv\")\n",
    "\n",
    "data.info()"
   ]
  },
  {
   "cell_type": "code",
   "execution_count": 32,
   "metadata": {},
   "outputs": [],
   "source": [
    "# Splitting the data into training, testing and validation sets (70:15:15)\n",
    "\n",
    "from sklearn.model_selection import train_test_split\n",
    "\n",
    "train, other = train_test_split(data,test_size = 0.3, random_state = 42)\n",
    "val, test = train_test_split(other,test_size = 0.5, random_state = 42)\n"
   ]
  },
  {
   "cell_type": "code",
   "execution_count": 33,
   "metadata": {},
   "outputs": [
    {
     "name": "stdout",
     "output_type": "stream",
     "text": [
      "size of training set  (429, 13)\n",
      "size of validation set  (92, 13)\n",
      "size of training set  (93, 13)\n"
     ]
    }
   ],
   "source": [
    "print(\"size of training set \", train.shape)\n",
    "print(\"size of validation set \", val.shape)\n",
    "print(\"size of training set \", test.shape)"
   ]
  },
  {
   "cell_type": "markdown",
   "metadata": {},
   "source": [
    "<br>\n",
    "\n",
    "***\n",
    "\n",
    "## 3. Exploring Data\n",
    "\n",
    "Goals:\n",
    "1. Developing familarity with variables and extent of missing values\n",
    "2. Univariate Analysis to understand the distribution of variables\n",
    "3. Bi-variate Analysis to determine the relationships between key variables\n",
    "\n"
   ]
  },
  {
   "cell_type": "code",
   "execution_count": 10,
   "metadata": {},
   "outputs": [
    {
     "data": {
      "text/html": [
       "<div>\n",
       "<style scoped>\n",
       "    .dataframe tbody tr th:only-of-type {\n",
       "        vertical-align: middle;\n",
       "    }\n",
       "\n",
       "    .dataframe tbody tr th {\n",
       "        vertical-align: top;\n",
       "    }\n",
       "\n",
       "    .dataframe thead th {\n",
       "        text-align: right;\n",
       "    }\n",
       "</style>\n",
       "<table border=\"1\" class=\"dataframe\">\n",
       "  <thead>\n",
       "    <tr style=\"text-align: right;\">\n",
       "      <th></th>\n",
       "      <th>Loan_ID</th>\n",
       "      <th>Gender</th>\n",
       "      <th>Married</th>\n",
       "      <th>Dependents</th>\n",
       "      <th>Education</th>\n",
       "      <th>Self_Employed</th>\n",
       "      <th>ApplicantIncome</th>\n",
       "      <th>CoapplicantIncome</th>\n",
       "      <th>LoanAmount</th>\n",
       "      <th>Loan_Amount_Term</th>\n",
       "      <th>Credit_History</th>\n",
       "      <th>Property_Area</th>\n",
       "      <th>Loan_Status</th>\n",
       "    </tr>\n",
       "  </thead>\n",
       "  <tbody>\n",
       "    <tr>\n",
       "      <th>0</th>\n",
       "      <td>LP001002</td>\n",
       "      <td>Male</td>\n",
       "      <td>No</td>\n",
       "      <td>0</td>\n",
       "      <td>Graduate</td>\n",
       "      <td>No</td>\n",
       "      <td>5849</td>\n",
       "      <td>0.0</td>\n",
       "      <td>NaN</td>\n",
       "      <td>360.0</td>\n",
       "      <td>1.0</td>\n",
       "      <td>Urban</td>\n",
       "      <td>Y</td>\n",
       "    </tr>\n",
       "    <tr>\n",
       "      <th>1</th>\n",
       "      <td>LP001003</td>\n",
       "      <td>Male</td>\n",
       "      <td>Yes</td>\n",
       "      <td>1</td>\n",
       "      <td>Graduate</td>\n",
       "      <td>No</td>\n",
       "      <td>4583</td>\n",
       "      <td>1508.0</td>\n",
       "      <td>128.0</td>\n",
       "      <td>360.0</td>\n",
       "      <td>1.0</td>\n",
       "      <td>Rural</td>\n",
       "      <td>N</td>\n",
       "    </tr>\n",
       "    <tr>\n",
       "      <th>2</th>\n",
       "      <td>LP001005</td>\n",
       "      <td>Male</td>\n",
       "      <td>Yes</td>\n",
       "      <td>0</td>\n",
       "      <td>Graduate</td>\n",
       "      <td>Yes</td>\n",
       "      <td>3000</td>\n",
       "      <td>0.0</td>\n",
       "      <td>66.0</td>\n",
       "      <td>360.0</td>\n",
       "      <td>1.0</td>\n",
       "      <td>Urban</td>\n",
       "      <td>Y</td>\n",
       "    </tr>\n",
       "    <tr>\n",
       "      <th>3</th>\n",
       "      <td>LP001006</td>\n",
       "      <td>Male</td>\n",
       "      <td>Yes</td>\n",
       "      <td>0</td>\n",
       "      <td>Not Graduate</td>\n",
       "      <td>No</td>\n",
       "      <td>2583</td>\n",
       "      <td>2358.0</td>\n",
       "      <td>120.0</td>\n",
       "      <td>360.0</td>\n",
       "      <td>1.0</td>\n",
       "      <td>Urban</td>\n",
       "      <td>Y</td>\n",
       "    </tr>\n",
       "    <tr>\n",
       "      <th>4</th>\n",
       "      <td>LP001008</td>\n",
       "      <td>Male</td>\n",
       "      <td>No</td>\n",
       "      <td>0</td>\n",
       "      <td>Graduate</td>\n",
       "      <td>No</td>\n",
       "      <td>6000</td>\n",
       "      <td>0.0</td>\n",
       "      <td>141.0</td>\n",
       "      <td>360.0</td>\n",
       "      <td>1.0</td>\n",
       "      <td>Urban</td>\n",
       "      <td>Y</td>\n",
       "    </tr>\n",
       "  </tbody>\n",
       "</table>\n",
       "</div>"
      ],
      "text/plain": [
       "    Loan_ID Gender Married Dependents     Education Self_Employed  \\\n",
       "0  LP001002   Male      No          0      Graduate            No   \n",
       "1  LP001003   Male     Yes          1      Graduate            No   \n",
       "2  LP001005   Male     Yes          0      Graduate           Yes   \n",
       "3  LP001006   Male     Yes          0  Not Graduate            No   \n",
       "4  LP001008   Male      No          0      Graduate            No   \n",
       "\n",
       "   ApplicantIncome  CoapplicantIncome  LoanAmount  Loan_Amount_Term  \\\n",
       "0             5849                0.0         NaN             360.0   \n",
       "1             4583             1508.0       128.0             360.0   \n",
       "2             3000                0.0        66.0             360.0   \n",
       "3             2583             2358.0       120.0             360.0   \n",
       "4             6000                0.0       141.0             360.0   \n",
       "\n",
       "   Credit_History Property_Area Loan_Status  \n",
       "0             1.0         Urban           Y  \n",
       "1             1.0         Rural           N  \n",
       "2             1.0         Urban           Y  \n",
       "3             1.0         Urban           Y  \n",
       "4             1.0         Urban           Y  "
      ]
     },
     "execution_count": 10,
     "metadata": {},
     "output_type": "execute_result"
    }
   ],
   "source": [
    "train.head(5)"
   ]
  },
  {
   "cell_type": "markdown",
   "metadata": {},
   "source": [
    "### Univariate Plots"
   ]
  },
  {
   "cell_type": "code",
   "execution_count": 34,
   "metadata": {},
   "outputs": [
    {
     "data": {
      "image/png": "[encoded data removed]",
      "text/plain": [
       "<Figure size 432x288 with 1 Axes>"
      ]
     },
     "metadata": {
      "needs_background": "light"
     },
     "output_type": "display_data"
    },
    {
     "data": {
      "image/png": "[encoded data removed]",
      "text/plain": [
       "<Figure size 432x288 with 1 Axes>"
      ]
     },
     "metadata": {
      "needs_background": "light"
     },
     "output_type": "display_data"
    },
    {
     "data": {
      "image/png": "[encoded data removed]",
      "text/plain": [
       "<Figure size 432x288 with 1 Axes>"
      ]
     },
     "metadata": {
      "needs_background": "light"
     },
     "output_type": "display_data"
    },
    {
     "data": {
      "image/png": "[encoded data removed]",
      "text/plain": [
       "<Figure size 432x288 with 1 Axes>"
      ]
     },
     "metadata": {
      "needs_background": "light"
     },
     "output_type": "display_data"
    },
    {
     "data": {
      "image/png": "[encoded data removed]",
      "text/plain": [
       "<Figure size 432x288 with 1 Axes>"
      ]
     },
     "metadata": {
      "needs_background": "light"
     },
     "output_type": "display_data"
    },
    {
     "data": {
      "image/png": "[encoded data removed]",
      "text/plain": [
       "<Figure size 432x288 with 1 Axes>"
      ]
     },
     "metadata": {
      "needs_background": "light"
     },
     "output_type": "display_data"
    },
    {
     "name": "stdout",
     "output_type": "stream",
     "text": [
      "Saving figure Univariates for Categorical Variables\n"
     ]
    },
    {
     "data": {
      "text/plain": [
       "<Figure size 432x288 with 0 Axes>"
      ]
     },
     "metadata": {},
     "output_type": "display_data"
    }
   ],
   "source": [
    "# Exploratory Univariate Plots for Categorical Variables\n",
    "\n",
    "plt.figure(1)\n",
    "\n",
    "plt.subplot(3,2,1)\n",
    "train[\"Gender\"].value_counts(normalize = True).plot(kind = \"bar\")\n",
    "plt.title(\"Gender Split in %\")\n",
    "plt.grid()\n",
    "plt.ylim(0,1)\n",
    "plt.show()\n",
    "\n",
    "\n",
    "\n",
    "plt.subplot(3,2,2)\n",
    "train[\"Married\"].value_counts(normalize = True).plot(kind = \"bar\")\n",
    "plt.title(\"Marital Status, in %\")\n",
    "plt.grid()\n",
    "plt.ylim(0,1)\n",
    "plt.show()\n",
    "\n",
    "\n",
    "plt.subplot(3,2,3)\n",
    "train[\"Education\"].value_counts(normalize = True).plot(kind = \"bar\")\n",
    "plt.title(\"Education Level, in %\")\n",
    "plt.grid()\n",
    "plt.ylim(0,1)\n",
    "plt.show()\n",
    "\n",
    "\n",
    "plt.subplot(3,2,4)\n",
    "train[\"Self_Employed\"].value_counts(normalize = True).plot(kind = \"bar\")\n",
    "plt.title(\"Self Employed or not, Percentages\")\n",
    "plt.grid()\n",
    "plt.ylim(0,1)\n",
    "plt.show()\n",
    "\n",
    "plt.subplot(3,2,5)\n",
    "train[\"Property_Area\"].value_counts(normalize = True).plot(kind = \"bar\")\n",
    "plt.title(\"Property Location, in Percentages\")\n",
    "plt.grid()\n",
    "plt.ylim(0,0.6)\n",
    "plt.show()\n",
    "\n",
    "#Finally a split of the target variable\n",
    "plt.subplot(3,2,6)\n",
    "train[\"Loan_Status\"].value_counts(normalize = True).plot(kind = \"bar\")\n",
    "plt.title(\"Target Variable Splits, in Percentages\")\n",
    "plt.grid()\n",
    "plt.ylim(0,1)\n",
    "plt.show()\n",
    "\n",
    "save_fig('Univariates for Categorical Variables', tight_layout = False)"
   ]
  },
  {
   "cell_type": "code",
   "execution_count": 6,
   "metadata": {},
   "outputs": [
    {
     "data": {
      "image/png": "[encoded data removed]",
      "text/plain": [
       "<Figure size 432x288 with 1 Axes>"
      ]
     },
     "metadata": {
      "needs_background": "light"
     },
     "output_type": "display_data"
    },
    {
     "name": "stdout",
     "output_type": "stream",
     "text": [
      "Saving figure No. of Dependents\n"
     ]
    },
    {
     "data": {
      "text/plain": [
       "<Figure size 432x288 with 0 Axes>"
      ]
     },
     "metadata": {},
     "output_type": "display_data"
    }
   ],
   "source": [
    "# Exploring 'Dependents' Variables\n",
    "\n",
    "train[\"Dependents\"].value_counts(normalize = True).plot(kind = \"bar\")\n",
    "plt.title(\"No. of Dependents, in Percentages\")\n",
    "plt.grid()\n",
    "plt.show()\n",
    "\n",
    "save_fig('No. of Dependents', tight_layout = False)"
   ]
  },
  {
   "cell_type": "code",
   "execution_count": 12,
   "metadata": {},
   "outputs": [
    {
     "data": {
      "text/html": [
       "<div>\n",
       "<style scoped>\n",
       "    .dataframe tbody tr th:only-of-type {\n",
       "        vertical-align: middle;\n",
       "    }\n",
       "\n",
       "    .dataframe tbody tr th {\n",
       "        vertical-align: top;\n",
       "    }\n",
       "\n",
       "    .dataframe thead th {\n",
       "        text-align: right;\n",
       "    }\n",
       "</style>\n",
       "<table border=\"1\" class=\"dataframe\">\n",
       "  <thead>\n",
       "    <tr style=\"text-align: right;\">\n",
       "      <th></th>\n",
       "      <th>ApplicantIncome</th>\n",
       "      <th>CoapplicantIncome</th>\n",
       "      <th>LoanAmount</th>\n",
       "      <th>Loan_Amount_Term</th>\n",
       "      <th>Credit_History</th>\n",
       "    </tr>\n",
       "  </thead>\n",
       "  <tbody>\n",
       "    <tr>\n",
       "      <th>count</th>\n",
       "      <td>614.000000</td>\n",
       "      <td>614.000000</td>\n",
       "      <td>592.000000</td>\n",
       "      <td>600.00000</td>\n",
       "      <td>564.000000</td>\n",
       "    </tr>\n",
       "    <tr>\n",
       "      <th>mean</th>\n",
       "      <td>5403.459283</td>\n",
       "      <td>1621.245798</td>\n",
       "      <td>146.412162</td>\n",
       "      <td>342.00000</td>\n",
       "      <td>0.842199</td>\n",
       "    </tr>\n",
       "    <tr>\n",
       "      <th>std</th>\n",
       "      <td>6109.041673</td>\n",
       "      <td>2926.248369</td>\n",
       "      <td>85.587325</td>\n",
       "      <td>65.12041</td>\n",
       "      <td>0.364878</td>\n",
       "    </tr>\n",
       "    <tr>\n",
       "      <th>min</th>\n",
       "      <td>150.000000</td>\n",
       "      <td>0.000000</td>\n",
       "      <td>9.000000</td>\n",
       "      <td>12.00000</td>\n",
       "      <td>0.000000</td>\n",
       "    </tr>\n",
       "    <tr>\n",
       "      <th>25%</th>\n",
       "      <td>2877.500000</td>\n",
       "      <td>0.000000</td>\n",
       "      <td>100.000000</td>\n",
       "      <td>360.00000</td>\n",
       "      <td>1.000000</td>\n",
       "    </tr>\n",
       "    <tr>\n",
       "      <th>50%</th>\n",
       "      <td>3812.500000</td>\n",
       "      <td>1188.500000</td>\n",
       "      <td>128.000000</td>\n",
       "      <td>360.00000</td>\n",
       "      <td>1.000000</td>\n",
       "    </tr>\n",
       "    <tr>\n",
       "      <th>75%</th>\n",
       "      <td>5795.000000</td>\n",
       "      <td>2297.250000</td>\n",
       "      <td>168.000000</td>\n",
       "      <td>360.00000</td>\n",
       "      <td>1.000000</td>\n",
       "    </tr>\n",
       "    <tr>\n",
       "      <th>max</th>\n",
       "      <td>81000.000000</td>\n",
       "      <td>41667.000000</td>\n",
       "      <td>700.000000</td>\n",
       "      <td>480.00000</td>\n",
       "      <td>1.000000</td>\n",
       "    </tr>\n",
       "  </tbody>\n",
       "</table>\n",
       "</div>"
      ],
      "text/plain": [
       "       ApplicantIncome  CoapplicantIncome  LoanAmount  Loan_Amount_Term  \\\n",
       "count       614.000000         614.000000  592.000000         600.00000   \n",
       "mean       5403.459283        1621.245798  146.412162         342.00000   \n",
       "std        6109.041673        2926.248369   85.587325          65.12041   \n",
       "min         150.000000           0.000000    9.000000          12.00000   \n",
       "25%        2877.500000           0.000000  100.000000         360.00000   \n",
       "50%        3812.500000        1188.500000  128.000000         360.00000   \n",
       "75%        5795.000000        2297.250000  168.000000         360.00000   \n",
       "max       81000.000000       41667.000000  700.000000         480.00000   \n",
       "\n",
       "       Credit_History  \n",
       "count      564.000000  \n",
       "mean         0.842199  \n",
       "std          0.364878  \n",
       "min          0.000000  \n",
       "25%          1.000000  \n",
       "50%          1.000000  \n",
       "75%          1.000000  \n",
       "max          1.000000  "
      ]
     },
     "execution_count": 12,
     "metadata": {},
     "output_type": "execute_result"
    }
   ],
   "source": [
    "# Exploring applicant income and co-applicant income variables\n",
    "# both these variables have no missing values\n",
    "\n",
    "train.describe()"
   ]
  },
  {
   "cell_type": "code",
   "execution_count": 7,
   "metadata": {},
   "outputs": [
    {
     "name": "stdout",
     "output_type": "stream",
     "text": [
      "Saving figure Distributions of Applicant and Coapplicant Incomes\n"
     ]
    },
    {
     "data": {
      "image/png": "[encoded data removed]",
      "text/plain": [
       "<Figure size 432x288 with 1 Axes>"
      ]
     },
     "metadata": {
      "needs_background": "light"
     },
     "output_type": "display_data"
    }
   ],
   "source": [
    "# Exploring applicant income and co-applicant income variables\n",
    "# both these variables have no missing values\n",
    "\n",
    "plt.figure(1)\n",
    "\n",
    "plt.title('Distributions of Applicant and Coapplicant Incomes')\n",
    "plt.hist(train['ApplicantIncome'], bins =20, alpha = 0.5, color = 'blue',histtype='stepfilled')\n",
    "plt.hist(train['CoapplicantIncome'], bins =20, alpha = 0.5, color = 'green',histtype='stepfilled')\n",
    "\n",
    "save_fig('Distributions of Applicant and Coapplicant Incomes', tight_layout = False)"
   ]
  },
  {
   "cell_type": "code",
   "execution_count": 8,
   "metadata": {},
   "outputs": [
    {
     "name": "stdout",
     "output_type": "stream",
     "text": [
      "Saving figure Distributions of Loan Amounts\n"
     ]
    },
    {
     "data": {
      "image/png": "[encoded data removed]",
      "text/plain": [
       "<Figure size 432x288 with 1 Axes>"
      ]
     },
     "metadata": {
      "needs_background": "light"
     },
     "output_type": "display_data"
    }
   ],
   "source": [
    "# Exploring the loan amount variable\n",
    "# IMP: There are NA values so they need to be first handled\n",
    "\n",
    "sample = train['LoanAmount'].replace(np.nan, -100)\n",
    "\n",
    "plt.title('Distributions of Loan Amounts (NaN coded as -100)')\n",
    "plt.hist(sample, alpha = 0.5, color = 'steelblue')\n",
    "save_fig('Distributions of Loan Amounts', tight_layout = False)"
   ]
  },
  {
   "cell_type": "code",
   "execution_count": 9,
   "metadata": {},
   "outputs": [
    {
     "name": "stdout",
     "output_type": "stream",
     "text": [
      "Saving figure Distributions of Loan Amount Term\n"
     ]
    },
    {
     "data": {
      "image/png": "[encoded data removed]",
      "text/plain": [
       "<Figure size 432x288 with 1 Axes>"
      ]
     },
     "metadata": {
      "needs_background": "light"
     },
     "output_type": "display_data"
    }
   ],
   "source": [
    "# Exploring the loan amount term variable\n",
    "# IMP: There are NA values so they need to be first handled\n",
    "\n",
    "sample2 = train['Loan_Amount_Term'].replace(np.nan, -100)\n",
    "\n",
    "plt.title('Distributions of Loan Amount Term (NaN coded as -100)')\n",
    "plt.hist(sample2, alpha = 0.5, color = 'steelblue')\n",
    "save_fig('Distributions of Loan Amount Term', tight_layout = False)"
   ]
  },
  {
   "cell_type": "code",
   "execution_count": 10,
   "metadata": {},
   "outputs": [
    {
     "data": {
      "image/png": "[encoded data removed]",
      "text/plain": [
       "<Figure size 432x288 with 1 Axes>"
      ]
     },
     "metadata": {
      "needs_background": "light"
     },
     "output_type": "display_data"
    },
    {
     "name": "stdout",
     "output_type": "stream",
     "text": [
      "Saving figure Distribution of Credit History Variable\n"
     ]
    },
    {
     "data": {
      "text/plain": [
       "<Figure size 432x288 with 0 Axes>"
      ]
     },
     "metadata": {},
     "output_type": "display_data"
    }
   ],
   "source": [
    "# Exploring the credit history variable\n",
    "# IMP: There are NA values which need to be handled later on\n",
    "\n",
    "\n",
    "train[\"Credit_History\"].value_counts(normalize = True).plot(kind = \"bar\")\n",
    "plt.title(\"Distribution of Credit History Variable\")\n",
    "plt.grid()\n",
    "plt.show()\n",
    "\n",
    "\n",
    "save_fig('Distribution of Credit History Variable', tight_layout = False)"
   ]
  },
  {
   "cell_type": "code",
   "execution_count": 13,
   "metadata": {},
   "outputs": [
    {
     "data": {
      "image/png": "[encoded data removed]",
      "text/plain": [
       "<Figure size 432x288 with 1 Axes>"
      ]
     },
     "metadata": {
      "needs_background": "light"
     },
     "output_type": "display_data"
    },
    {
     "name": "stdout",
     "output_type": "stream",
     "text": [
      "Saving figure Distribution of the Target Variable {Loan_Status}\n"
     ]
    },
    {
     "data": {
      "text/plain": [
       "<Figure size 432x288 with 0 Axes>"
      ]
     },
     "metadata": {},
     "output_type": "display_data"
    }
   ],
   "source": [
    "# Exploring the Target variable (Loan Status)\n",
    "\n",
    "\n",
    "train[\"Loan_Status\"].value_counts(normalize = True).plot(kind = \"bar\")\n",
    "plt.title(\"Distribution of the Target Variable {Loan_Status}\")\n",
    "plt.grid()\n",
    "plt.show()\n",
    "\n",
    "\n",
    "save_fig('Distribution of the Target Variable {Loan_Status}', tight_layout = False)"
   ]
  },
  {
   "cell_type": "markdown",
   "metadata": {},
   "source": [
    "#### Quick Summary\n",
    "* `Gender`: 80% of the sample comprises males\n",
    "* `Marital Status`: 60% of the people are married \n",
    "* `Dependents`: 60% have chldren\n",
    "* `Education`: 70% are graduates\n",
    "* `Self Employed` : Miniscule <10%\n",
    "* `Applicant Income` :(2800, 3800, 5800) corresponding to 25th, 50th and 75th percentile\n",
    "* `Co-Applicant Income` : (0, 1188, 2300) corresponding to 25th, 50th and 75th percentile\n",
    "* `Loan Amount` : (100, 128, 168) corresponding to 25th, 50th and 75th percentile\n",
    "* `Loan Amount term` : 30 years for most\n",
    "* `Credit History` : 80% of the applicants have a credit history\n",
    "* `Property Area` : Almost equal mix of Semi-Uban, Urban and Rural\n",
    "* `Loan_Status` (Target Variable): 70% of the applicants had their loans approved\n",
    "\n",
    "\n",
    "### Bivariate Analysis\n",
    "\n",
    "for the purposes of bi-variate analysis, we will be working on a version of the training set that does not have any missing values."
   ]
  },
  {
   "cell_type": "code",
   "execution_count": 49,
   "metadata": {},
   "outputs": [],
   "source": [
    "train_copy = train.copy()"
   ]
  },
  {
   "cell_type": "code",
   "execution_count": 50,
   "metadata": {},
   "outputs": [
    {
     "name": "stdout",
     "output_type": "stream",
     "text": [
      "size of train:  (429, 13)\n"
     ]
    }
   ],
   "source": [
    "print(\"size of train: \", train.shape)"
   ]
  },
  {
   "cell_type": "code",
   "execution_count": 51,
   "metadata": {},
   "outputs": [
    {
     "name": "stdout",
     "output_type": "stream",
     "text": [
      "size of train with NAs removed:  (339, 13)\n"
     ]
    }
   ],
   "source": [
    "train_copy = train_copy.dropna()\n",
    "print(\"size of train with NAs removed: \", train_copy.shape)"
   ]
  },
  {
   "cell_type": "code",
   "execution_count": 83,
   "metadata": {},
   "outputs": [
    {
     "name": "stdout",
     "output_type": "stream",
     "text": [
      "Saving figure Applicant Income vs. CoApplicant Income\n"
     ]
    },
    {
     "data": {
      "image/png": "[encoded data removed]",
      "text/plain": [
       "<Figure size 432x288 with 2 Axes>"
      ]
     },
     "metadata": {
      "needs_background": "light"
     },
     "output_type": "display_data"
    }
   ],
   "source": [
    "train_copy.plot(kind = \"scatter\", x = \"ApplicantIncome\", y = \"CoapplicantIncome\", c= \"Loan_Status\", cmap='viridis', alpha = 1 )\n",
    "plt.xlabel(train_copy.ApplicantIncome)\n",
    "\n",
    "plt.xlim(0, 20000) # a good way to eliminate outliers\n",
    "plt.ylim(0, 10000) # a good way to eliminate outliers\n",
    "\n",
    "save_fig('Applicant Income vs. CoApplicant Income', tight_layout = False)"
   ]
  },
  {
   "cell_type": "code",
   "execution_count": 84,
   "metadata": {},
   "outputs": [
    {
     "name": "stdout",
     "output_type": "stream",
     "text": [
      "Saving figure Applicant Income vs. Loan Amount\n"
     ]
    },
    {
     "data": {
      "image/png": "[encoded data removed]",
      "text/plain": [
       "<Figure size 432x288 with 2 Axes>"
      ]
     },
     "metadata": {
      "needs_background": "light"
     },
     "output_type": "display_data"
    }
   ],
   "source": [
    "train_copy.plot(kind = \"scatter\", x = \"ApplicantIncome\", y = \"LoanAmount\", c= \"Loan_Status\", cmap='viridis', alpha = 1)\n",
    "\n",
    "plt.xlim(0, 20000) # a good way to eliminate outliers\n",
    "plt.ylim(0, 500) # a good way to eliminate outliers\n",
    "\n",
    "save_fig('Applicant Income vs. Loan Amount', tight_layout = False)"
   ]
  },
  {
   "cell_type": "code",
   "execution_count": 66,
   "metadata": {},
   "outputs": [
    {
     "data": {
      "text/html": [
       "<div>\n",
       "<style scoped>\n",
       "    .dataframe tbody tr th:only-of-type {\n",
       "        vertical-align: middle;\n",
       "    }\n",
       "\n",
       "    .dataframe tbody tr th {\n",
       "        vertical-align: top;\n",
       "    }\n",
       "\n",
       "    .dataframe thead th {\n",
       "        text-align: right;\n",
       "    }\n",
       "</style>\n",
       "<table border=\"1\" class=\"dataframe\">\n",
       "  <thead>\n",
       "    <tr style=\"text-align: right;\">\n",
       "      <th>Loan_Status</th>\n",
       "      <th>0</th>\n",
       "      <th>1</th>\n",
       "    </tr>\n",
       "    <tr>\n",
       "      <th>Gender</th>\n",
       "      <th></th>\n",
       "      <th></th>\n",
       "    </tr>\n",
       "  </thead>\n",
       "  <tbody>\n",
       "    <tr>\n",
       "      <th>Female</th>\n",
       "      <td>22</td>\n",
       "      <td>43</td>\n",
       "    </tr>\n",
       "    <tr>\n",
       "      <th>Male</th>\n",
       "      <td>77</td>\n",
       "      <td>197</td>\n",
       "    </tr>\n",
       "  </tbody>\n",
       "</table>\n",
       "</div>"
      ],
      "text/plain": [
       "Loan_Status   0    1\n",
       "Gender              \n",
       "Female       22   43\n",
       "Male         77  197"
      ]
     },
     "execution_count": 66,
     "metadata": {},
     "output_type": "execute_result"
    }
   ],
   "source": [
    "#creatng a counter for pivot table variables\n",
    "train_copy['counter'] = 1\n",
    "\n",
    "train_copy.pivot_table('counter', index='Gender', columns='Loan_Status', aggfunc = sum)"
   ]
  },
  {
   "cell_type": "code",
   "execution_count": 67,
   "metadata": {},
   "outputs": [
    {
     "data": {
      "text/html": [
       "<div>\n",
       "<style scoped>\n",
       "    .dataframe tbody tr th:only-of-type {\n",
       "        vertical-align: middle;\n",
       "    }\n",
       "\n",
       "    .dataframe tbody tr th {\n",
       "        vertical-align: top;\n",
       "    }\n",
       "\n",
       "    .dataframe thead th {\n",
       "        text-align: right;\n",
       "    }\n",
       "</style>\n",
       "<table border=\"1\" class=\"dataframe\">\n",
       "  <thead>\n",
       "    <tr style=\"text-align: right;\">\n",
       "      <th>Loan_Status</th>\n",
       "      <th>0</th>\n",
       "      <th>1</th>\n",
       "    </tr>\n",
       "    <tr>\n",
       "      <th>Married</th>\n",
       "      <th></th>\n",
       "      <th></th>\n",
       "    </tr>\n",
       "  </thead>\n",
       "  <tbody>\n",
       "    <tr>\n",
       "      <th>No</th>\n",
       "      <td>47</td>\n",
       "      <td>81</td>\n",
       "    </tr>\n",
       "    <tr>\n",
       "      <th>Yes</th>\n",
       "      <td>52</td>\n",
       "      <td>159</td>\n",
       "    </tr>\n",
       "  </tbody>\n",
       "</table>\n",
       "</div>"
      ],
      "text/plain": [
       "Loan_Status   0    1\n",
       "Married             \n",
       "No           47   81\n",
       "Yes          52  159"
      ]
     },
     "execution_count": 67,
     "metadata": {},
     "output_type": "execute_result"
    }
   ],
   "source": [
    "train_copy.pivot_table('counter', index='Married', columns='Loan_Status', aggfunc = sum)"
   ]
  },
  {
   "cell_type": "code",
   "execution_count": 70,
   "metadata": {},
   "outputs": [
    {
     "data": {
      "text/html": [
       "<div>\n",
       "<style scoped>\n",
       "    .dataframe tbody tr th:only-of-type {\n",
       "        vertical-align: middle;\n",
       "    }\n",
       "\n",
       "    .dataframe tbody tr th {\n",
       "        vertical-align: top;\n",
       "    }\n",
       "\n",
       "    .dataframe thead th {\n",
       "        text-align: right;\n",
       "    }\n",
       "</style>\n",
       "<table border=\"1\" class=\"dataframe\">\n",
       "  <thead>\n",
       "    <tr style=\"text-align: right;\">\n",
       "      <th>Loan_Status</th>\n",
       "      <th>0</th>\n",
       "      <th>1</th>\n",
       "    </tr>\n",
       "    <tr>\n",
       "      <th>Dependents</th>\n",
       "      <th></th>\n",
       "      <th></th>\n",
       "    </tr>\n",
       "  </thead>\n",
       "  <tbody>\n",
       "    <tr>\n",
       "      <th>0</th>\n",
       "      <td>57</td>\n",
       "      <td>137</td>\n",
       "    </tr>\n",
       "    <tr>\n",
       "      <th>1</th>\n",
       "      <td>23</td>\n",
       "      <td>35</td>\n",
       "    </tr>\n",
       "    <tr>\n",
       "      <th>2</th>\n",
       "      <td>13</td>\n",
       "      <td>45</td>\n",
       "    </tr>\n",
       "    <tr>\n",
       "      <th>3+</th>\n",
       "      <td>6</td>\n",
       "      <td>23</td>\n",
       "    </tr>\n",
       "  </tbody>\n",
       "</table>\n",
       "</div>"
      ],
      "text/plain": [
       "Loan_Status   0    1\n",
       "Dependents          \n",
       "0            57  137\n",
       "1            23   35\n",
       "2            13   45\n",
       "3+            6   23"
      ]
     },
     "execution_count": 70,
     "metadata": {},
     "output_type": "execute_result"
    }
   ],
   "source": [
    "train_copy.pivot_table('counter', index='Dependents', columns='Loan_Status', aggfunc = sum)"
   ]
  },
  {
   "cell_type": "code",
   "execution_count": 71,
   "metadata": {},
   "outputs": [
    {
     "data": {
      "text/html": [
       "<div>\n",
       "<style scoped>\n",
       "    .dataframe tbody tr th:only-of-type {\n",
       "        vertical-align: middle;\n",
       "    }\n",
       "\n",
       "    .dataframe tbody tr th {\n",
       "        vertical-align: top;\n",
       "    }\n",
       "\n",
       "    .dataframe thead th {\n",
       "        text-align: right;\n",
       "    }\n",
       "</style>\n",
       "<table border=\"1\" class=\"dataframe\">\n",
       "  <thead>\n",
       "    <tr style=\"text-align: right;\">\n",
       "      <th>Loan_Status</th>\n",
       "      <th>0</th>\n",
       "      <th>1</th>\n",
       "    </tr>\n",
       "    <tr>\n",
       "      <th>Education</th>\n",
       "      <th></th>\n",
       "      <th></th>\n",
       "    </tr>\n",
       "  </thead>\n",
       "  <tbody>\n",
       "    <tr>\n",
       "      <th>Graduate</th>\n",
       "      <td>77</td>\n",
       "      <td>193</td>\n",
       "    </tr>\n",
       "    <tr>\n",
       "      <th>Not Graduate</th>\n",
       "      <td>22</td>\n",
       "      <td>47</td>\n",
       "    </tr>\n",
       "  </tbody>\n",
       "</table>\n",
       "</div>"
      ],
      "text/plain": [
       "Loan_Status    0    1\n",
       "Education            \n",
       "Graduate      77  193\n",
       "Not Graduate  22   47"
      ]
     },
     "execution_count": 71,
     "metadata": {},
     "output_type": "execute_result"
    }
   ],
   "source": [
    "train_copy.pivot_table('counter', index='Education', columns='Loan_Status', aggfunc = sum)"
   ]
  },
  {
   "cell_type": "code",
   "execution_count": 72,
   "metadata": {},
   "outputs": [
    {
     "data": {
      "text/html": [
       "<div>\n",
       "<style scoped>\n",
       "    .dataframe tbody tr th:only-of-type {\n",
       "        vertical-align: middle;\n",
       "    }\n",
       "\n",
       "    .dataframe tbody tr th {\n",
       "        vertical-align: top;\n",
       "    }\n",
       "\n",
       "    .dataframe thead th {\n",
       "        text-align: right;\n",
       "    }\n",
       "</style>\n",
       "<table border=\"1\" class=\"dataframe\">\n",
       "  <thead>\n",
       "    <tr style=\"text-align: right;\">\n",
       "      <th>Loan_Status</th>\n",
       "      <th>0</th>\n",
       "      <th>1</th>\n",
       "    </tr>\n",
       "    <tr>\n",
       "      <th>Self_Employed</th>\n",
       "      <th></th>\n",
       "      <th></th>\n",
       "    </tr>\n",
       "  </thead>\n",
       "  <tbody>\n",
       "    <tr>\n",
       "      <th>No</th>\n",
       "      <td>82</td>\n",
       "      <td>208</td>\n",
       "    </tr>\n",
       "    <tr>\n",
       "      <th>Yes</th>\n",
       "      <td>17</td>\n",
       "      <td>32</td>\n",
       "    </tr>\n",
       "  </tbody>\n",
       "</table>\n",
       "</div>"
      ],
      "text/plain": [
       "Loan_Status     0    1\n",
       "Self_Employed         \n",
       "No             82  208\n",
       "Yes            17   32"
      ]
     },
     "execution_count": 72,
     "metadata": {},
     "output_type": "execute_result"
    }
   ],
   "source": [
    "train_copy.pivot_table('counter', index='Self_Employed', columns='Loan_Status', aggfunc = sum)"
   ]
  },
  {
   "cell_type": "code",
   "execution_count": 73,
   "metadata": {},
   "outputs": [
    {
     "data": {
      "text/html": [
       "<div>\n",
       "<style scoped>\n",
       "    .dataframe tbody tr th:only-of-type {\n",
       "        vertical-align: middle;\n",
       "    }\n",
       "\n",
       "    .dataframe tbody tr th {\n",
       "        vertical-align: top;\n",
       "    }\n",
       "\n",
       "    .dataframe thead th {\n",
       "        text-align: right;\n",
       "    }\n",
       "</style>\n",
       "<table border=\"1\" class=\"dataframe\">\n",
       "  <thead>\n",
       "    <tr style=\"text-align: right;\">\n",
       "      <th>Loan_Status</th>\n",
       "      <th>0</th>\n",
       "      <th>1</th>\n",
       "    </tr>\n",
       "    <tr>\n",
       "      <th>Credit_History</th>\n",
       "      <th></th>\n",
       "      <th></th>\n",
       "    </tr>\n",
       "  </thead>\n",
       "  <tbody>\n",
       "    <tr>\n",
       "      <th>0.0</th>\n",
       "      <td>42</td>\n",
       "      <td>5</td>\n",
       "    </tr>\n",
       "    <tr>\n",
       "      <th>1.0</th>\n",
       "      <td>57</td>\n",
       "      <td>235</td>\n",
       "    </tr>\n",
       "  </tbody>\n",
       "</table>\n",
       "</div>"
      ],
      "text/plain": [
       "Loan_Status      0    1\n",
       "Credit_History         \n",
       "0.0             42    5\n",
       "1.0             57  235"
      ]
     },
     "execution_count": 73,
     "metadata": {},
     "output_type": "execute_result"
    }
   ],
   "source": [
    "train_copy.pivot_table('counter', index='Credit_History', columns='Loan_Status', aggfunc = sum)"
   ]
  },
  {
   "cell_type": "code",
   "execution_count": 74,
   "metadata": {},
   "outputs": [
    {
     "data": {
      "text/html": [
       "<div>\n",
       "<style scoped>\n",
       "    .dataframe tbody tr th:only-of-type {\n",
       "        vertical-align: middle;\n",
       "    }\n",
       "\n",
       "    .dataframe tbody tr th {\n",
       "        vertical-align: top;\n",
       "    }\n",
       "\n",
       "    .dataframe thead th {\n",
       "        text-align: right;\n",
       "    }\n",
       "</style>\n",
       "<table border=\"1\" class=\"dataframe\">\n",
       "  <thead>\n",
       "    <tr style=\"text-align: right;\">\n",
       "      <th>Loan_Status</th>\n",
       "      <th>0</th>\n",
       "      <th>1</th>\n",
       "    </tr>\n",
       "    <tr>\n",
       "      <th>Property_Area</th>\n",
       "      <th></th>\n",
       "      <th></th>\n",
       "    </tr>\n",
       "  </thead>\n",
       "  <tbody>\n",
       "    <tr>\n",
       "      <th>Rural</th>\n",
       "      <td>36</td>\n",
       "      <td>57</td>\n",
       "    </tr>\n",
       "    <tr>\n",
       "      <th>Semiurban</th>\n",
       "      <td>25</td>\n",
       "      <td>114</td>\n",
       "    </tr>\n",
       "    <tr>\n",
       "      <th>Urban</th>\n",
       "      <td>38</td>\n",
       "      <td>69</td>\n",
       "    </tr>\n",
       "  </tbody>\n",
       "</table>\n",
       "</div>"
      ],
      "text/plain": [
       "Loan_Status     0    1\n",
       "Property_Area         \n",
       "Rural          36   57\n",
       "Semiurban      25  114\n",
       "Urban          38   69"
      ]
     },
     "execution_count": 74,
     "metadata": {},
     "output_type": "execute_result"
    }
   ],
   "source": [
    "train_copy.pivot_table('counter', index='Property_Area', columns=['Loan_Status'], aggfunc = [sum])"
   ]
  },
  {
   "cell_type": "code",
   "execution_count": 86,
   "metadata": {},
   "outputs": [
    {
     "data": {
      "text/html": [
       "<div>\n",
       "<style scoped>\n",
       "    .dataframe tbody tr th:only-of-type {\n",
       "        vertical-align: middle;\n",
       "    }\n",
       "\n",
       "    .dataframe tbody tr th {\n",
       "        vertical-align: top;\n",
       "    }\n",
       "\n",
       "    .dataframe thead th {\n",
       "        text-align: right;\n",
       "    }\n",
       "</style>\n",
       "<table border=\"1\" class=\"dataframe\">\n",
       "  <thead>\n",
       "    <tr style=\"text-align: right;\">\n",
       "      <th>Loan_Status</th>\n",
       "      <th>0</th>\n",
       "      <th>1</th>\n",
       "    </tr>\n",
       "    <tr>\n",
       "      <th>Property_Area</th>\n",
       "      <th></th>\n",
       "      <th></th>\n",
       "    </tr>\n",
       "  </thead>\n",
       "  <tbody>\n",
       "    <tr>\n",
       "      <th>Rural</th>\n",
       "      <td>159.638889</td>\n",
       "      <td>151.947368</td>\n",
       "    </tr>\n",
       "    <tr>\n",
       "      <th>Semiurban</th>\n",
       "      <td>142.200000</td>\n",
       "      <td>140.596491</td>\n",
       "    </tr>\n",
       "    <tr>\n",
       "      <th>Urban</th>\n",
       "      <td>144.078947</td>\n",
       "      <td>137.608696</td>\n",
       "    </tr>\n",
       "  </tbody>\n",
       "</table>\n",
       "</div>"
      ],
      "text/plain": [
       "Loan_Status             0           1\n",
       "Property_Area                        \n",
       "Rural          159.638889  151.947368\n",
       "Semiurban      142.200000  140.596491\n",
       "Urban          144.078947  137.608696"
      ]
     },
     "execution_count": 86,
     "metadata": {},
     "output_type": "execute_result"
    }
   ],
   "source": [
    "train_copy.pivot_table('LoanAmount', index='Property_Area', columns='Loan_Status', aggfunc = np.mean)"
   ]
  },
  {
   "cell_type": "markdown",
   "metadata": {},
   "source": [
    "#### Summary\n",
    "1. Clear presence of outliers in `ApplicantIncome` and `CoapplicantIncome` variables - needs to be addressed\n",
    "2. `Gender` Males stand a better chance of getting their loans passed\n",
    "3. `Married` People who are married have a better chance of getting their loans passed\n",
    "4. `Self_Employed` People who are self employed have a lower chance of having their loans approved\n",
    "5. `Credit_History` As expected, people who don't have a credit history have a much lesser chance of getting their loans approved\n",
    "6. `Property_Area` People who have purchased property at Semiuran areas have a much higher chance of having their loan approved as opposed to those who have bought property at Rural or Urban areas \n",
    "\n",
    "\n",
    "***\n",
    "\n",
    "\n",
    "## 4. Data Fixes & Feature Engineering\n",
    "\n",
    "Data Fixes:\n",
    "1. Converting Variable Type\n",
    "2. Missing Value Treatment\n",
    "\n",
    "Feature Engineering:\n",
    "The existing features seem to be sufficient. No new features will be created\n"
   ]
  },
  {
   "cell_type": "markdown",
   "metadata": {},
   "source": [
    "#### List of Data Fixes\n",
    "1. [done] Convert target variable, `Loan_Status` to binary\n",
    "2. [done] Convert credit history to categorical"
   ]
  },
  {
   "cell_type": "code",
   "execution_count": 44,
   "metadata": {},
   "outputs": [
    {
     "name": "stdout",
     "output_type": "stream",
     "text": [
      "      Loan_ID Gender Married Dependents     Education Self_Employed  \\\n",
      "553  LP002788   Male     Yes          0  Not Graduate            No   \n",
      "601  LP002950   Male     Yes          0  Not Graduate           NaN   \n",
      "\n",
      "     ApplicantIncome  CoapplicantIncome  LoanAmount  Loan_Amount_Term  \\\n",
      "553             2454             2333.0       181.0             360.0   \n",
      "601             2894             2792.0       155.0             360.0   \n",
      "\n",
      "     Credit_History Property_Area Loan_Status  \n",
      "553             0.0         Urban           N  \n",
      "601             1.0         Rural           Y  \n",
      "      Loan_ID Gender Married Dependents     Education Self_Employed  \\\n",
      "553  LP002788   Male     Yes          0  Not Graduate            No   \n",
      "601  LP002950   Male     Yes          0  Not Graduate           NaN   \n",
      "\n",
      "     ApplicantIncome  CoapplicantIncome  LoanAmount  Loan_Amount_Term  \\\n",
      "553             2454             2333.0       181.0             360.0   \n",
      "601             2894             2792.0       155.0             360.0   \n",
      "\n",
      "     Credit_History Property_Area  Loan_Status  \n",
      "553             0.0         Urban            0  \n",
      "601             1.0         Rural            1  \n"
     ]
    },
    {
     "name": "stderr",
     "output_type": "stream",
     "text": [
      "/anaconda3/lib/python3.7/site-packages/pandas/core/generic.py:4405: SettingWithCopyWarning: \n",
      "A value is trying to be set on a copy of a slice from a DataFrame.\n",
      "Try using .loc[row_indexer,col_indexer] = value instead\n",
      "\n",
      "See the caveats in the documentation: http://pandas.pydata.org/pandas-docs/stable/indexing.html#indexing-view-versus-copy\n",
      "  self[name] = value\n"
     ]
    }
   ],
   "source": [
    "# Fix target variable using label encoders\n",
    "\n",
    "print(train.head(2))\n",
    "\n",
    "from sklearn.preprocessing import LabelEncoder\n",
    "\n",
    "label_encoder = LabelEncoder()\n",
    "\n",
    "train.Loan_Status = label_encoder.fit_transform(train.Loan_Status)\n",
    "\n",
    "print(train.head(2))\n",
    "\n",
    "#This works well - superb :) "
   ]
  },
  {
   "cell_type": "markdown",
   "metadata": {},
   "source": [
    "**Target Variable** `Loan_Status`: `Y` has been encoded as `1`"
   ]
  },
  {
   "cell_type": "code",
   "execution_count": 46,
   "metadata": {},
   "outputs": [
    {
     "name": "stderr",
     "output_type": "stream",
     "text": [
      "/anaconda3/lib/python3.7/site-packages/pandas/core/generic.py:4405: SettingWithCopyWarning: \n",
      "A value is trying to be set on a copy of a slice from a DataFrame.\n",
      "Try using .loc[row_indexer,col_indexer] = value instead\n",
      "\n",
      "See the caveats in the documentation: http://pandas.pydata.org/pandas-docs/stable/indexing.html#indexing-view-versus-copy\n",
      "  self[name] = value\n"
     ]
    }
   ],
   "source": [
    "val.Loan_Status = label_encoder.fit_transform(val.Loan_Status)\n",
    "test.Loan_Status = label_encoder.fit_transform(test.Loan_Status)"
   ]
  },
  {
   "cell_type": "code",
   "execution_count": 45,
   "metadata": {},
   "outputs": [
    {
     "name": "stdout",
     "output_type": "stream",
     "text": [
      "<class 'pandas.core.frame.DataFrame'>\n",
      "Int64Index: 429 entries, 553 to 102\n",
      "Data columns (total 13 columns):\n",
      "Loan_ID              429 non-null object\n",
      "Gender               418 non-null object\n",
      "Married              428 non-null object\n",
      "Dependents           418 non-null object\n",
      "Education            429 non-null object\n",
      "Self_Employed        411 non-null object\n",
      "ApplicantIncome      429 non-null int64\n",
      "CoapplicantIncome    429 non-null float64\n",
      "LoanAmount           414 non-null float64\n",
      "Loan_Amount_Term     418 non-null float64\n",
      "Credit_History       397 non-null float64\n",
      "Property_Area        429 non-null object\n",
      "Loan_Status          429 non-null int64\n",
      "dtypes: float64(4), int64(2), object(7)\n",
      "memory usage: 46.9+ KB\n",
      "None\n"
     ]
    }
   ],
   "source": [
    "print(train.info())"
   ]
  },
  {
   "cell_type": "code",
   "execution_count": 47,
   "metadata": {},
   "outputs": [
    {
     "name": "stderr",
     "output_type": "stream",
     "text": [
      "/anaconda3/lib/python3.7/site-packages/ipykernel_launcher.py:2: SettingWithCopyWarning: \n",
      "A value is trying to be set on a copy of a slice from a DataFrame.\n",
      "Try using .loc[row_indexer,col_indexer] = value instead\n",
      "\n",
      "See the caveats in the documentation: http://pandas.pydata.org/pandas-docs/stable/indexing.html#indexing-view-versus-copy\n",
      "  \n",
      "/anaconda3/lib/python3.7/site-packages/ipykernel_launcher.py:3: SettingWithCopyWarning: \n",
      "A value is trying to be set on a copy of a slice from a DataFrame.\n",
      "Try using .loc[row_indexer,col_indexer] = value instead\n",
      "\n",
      "See the caveats in the documentation: http://pandas.pydata.org/pandas-docs/stable/indexing.html#indexing-view-versus-copy\n",
      "  This is separate from the ipykernel package so we can avoid doing imports until\n",
      "/anaconda3/lib/python3.7/site-packages/ipykernel_launcher.py:4: SettingWithCopyWarning: \n",
      "A value is trying to be set on a copy of a slice from a DataFrame.\n",
      "Try using .loc[row_indexer,col_indexer] = value instead\n",
      "\n",
      "See the caveats in the documentation: http://pandas.pydata.org/pandas-docs/stable/indexing.html#indexing-view-versus-copy\n",
      "  after removing the cwd from sys.path.\n"
     ]
    }
   ],
   "source": [
    "# Credit History to Categorical\n",
    "train['Credit_History'] = train['Credit_History'].astype('category')\n",
    "val['Credit_History'] = val['Credit_History'].astype('category')\n",
    "test['Credit_History'] = test['Credit_History'].astype('category')\n"
   ]
  },
  {
   "cell_type": "code",
   "execution_count": 88,
   "metadata": {},
   "outputs": [
    {
     "name": "stdout",
     "output_type": "stream",
     "text": [
      "<class 'pandas.core.frame.DataFrame'>\n",
      "Int64Index: 429 entries, 553 to 102\n",
      "Data columns (total 13 columns):\n",
      "Loan_ID              429 non-null object\n",
      "Gender               418 non-null object\n",
      "Married              428 non-null object\n",
      "Dependents           418 non-null object\n",
      "Education            429 non-null object\n",
      "Self_Employed        411 non-null object\n",
      "ApplicantIncome      429 non-null int64\n",
      "CoapplicantIncome    429 non-null float64\n",
      "LoanAmount           414 non-null float64\n",
      "Loan_Amount_Term     418 non-null float64\n",
      "Credit_History       397 non-null category\n",
      "Property_Area        429 non-null object\n",
      "Loan_Status          429 non-null int64\n",
      "dtypes: category(1), float64(3), int64(2), object(7)\n",
      "memory usage: 44.1+ KB\n",
      "None\n"
     ]
    }
   ],
   "source": [
    "print(train.info())"
   ]
  },
  {
   "cell_type": "markdown",
   "metadata": {},
   "source": [
    "`Credit_History` variable has been converted to categorical"
   ]
  },
  {
   "cell_type": "code",
   "execution_count": 87,
   "metadata": {},
   "outputs": [],
   "source": [
    "# separate feature variables and target\n",
    "\n",
    "X_train = train.drop(\"Loan_Status\",axis = 1, inplace = False)\n",
    "y_train = train[[\"Loan_Status\"]].copy()\n",
    "\n",
    "X_val = val.drop(\"Loan_Status\",axis = 1, inplace = False)\n",
    "y_val = val[[\"Loan_Status\"]].copy()\n",
    "\n",
    "\n",
    "X_test = test.drop(\"Loan_Status\",axis = 1, inplace = False)\n",
    "y_test = test[[\"Loan_Status\"]].copy()\n"
   ]
  },
  {
   "cell_type": "code",
   "execution_count": 89,
   "metadata": {},
   "outputs": [],
   "source": [
    "# Data Transformation Pipeline - initialization\n",
    "\n",
    "cat_features = ['Gender','Married','Dependents','Education','Self_Employed','Credit_History','Property_Area']\n",
    "\n",
    "num_features = ['ApplicantIncome','CoapplicantIncome','LoanAmount']"
   ]
  },
  {
   "cell_type": "code",
   "execution_count": 90,
   "metadata": {},
   "outputs": [],
   "source": [
    "# Data Transformation Pipeline - definition\n",
    "\n",
    "from sklearn.pipeline import Pipeline\n",
    "from sklearn.preprocessing import StandardScaler\n",
    "from sklearn.impute import SimpleImputer\n",
    "from sklearn.preprocessing import OneHotEncoder\n",
    "\n",
    "\n",
    "# Numeric\n",
    "num_pipeline = Pipeline([\n",
    "    ('impute_num',SimpleImputer(strategy = \"median\")),\n",
    "    ('scale_num', StandardScaler()),\n",
    "]\n",
    ")\n",
    "\n",
    "\n",
    "# Categorical\n",
    "cat_pipeline = Pipeline([\n",
    "    ('impute_cat', SimpleImputer(strategy = \"most_frequent\")),\n",
    "    ('encode',OneHotEncoder())\n",
    "])\n",
    "\n",
    "\n",
    "# Full Pipeline - Consolidated\n",
    "from sklearn.compose import ColumnTransformer\n",
    "\n",
    "full_pipeline = ColumnTransformer([\n",
    "    (\"num\", num_pipeline, num_features),\n",
    "    (\"cat\", cat_pipeline, cat_features)\n",
    "])"
   ]
  },
  {
   "cell_type": "code",
   "execution_count": 91,
   "metadata": {},
   "outputs": [
    {
     "name": "stdout",
     "output_type": "stream",
     "text": [
      "X_train shape (429, 12)\n",
      "\n",
      "\n",
      "X_train_prep shape (429, 20)\n"
     ]
    }
   ],
   "source": [
    "# Data Transformation Pipeline - implementation\n",
    "\n",
    "X_train_prep = full_pipeline.fit_transform(X_train)\n",
    "X_val_prep = full_pipeline.fit_transform(X_val)\n",
    "X_test_prep = full_pipeline.fit_transform(X_test)\n",
    "\n",
    "\n",
    "print(\"X_train shape\", X_train.shape)\n",
    "\n",
    "print(\"\\n\")\n",
    "\n",
    "print(\"X_train_prep shape\", X_train_prep.shape)"
   ]
  },
  {
   "cell_type": "markdown",
   "metadata": {},
   "source": [
    "<br>\n",
    "\n",
    "***\n",
    "\n",
    "## 5. The Analytical Dataset\n",
    "\n",
    "`X_train_prep` is the prepared training dataset that has:\n",
    "* missing values imputed using `SimpleImputer`,\n",
    "* numerical values scaled (or nomalized) using `StandardScaler`, and\n",
    "* categorical values encoded using `OneHotEncoder`\n",
    "\n",
    "Additionally, we have a validation set `X_val_prep` and test set `X_test_prep`\n",
    "\n",
    "<br>\n",
    "\n",
    "***\n",
    "\n",
    "## 6. Training Models\n",
    "\n",
    "review next step: Quickly get upto speed on 'classification using scikit-learn'\n",
    "\n",
    "\n",
    "1. Basic Logistic Classifier\n",
    "2. Linear SVM with SGD Classifier and Cross Validation \n",
    "\n",
    "\n",
    "#### Basic Logistic Classifier"
   ]
  },
  {
   "cell_type": "code",
   "execution_count": 115,
   "metadata": {},
   "outputs": [],
   "source": [
    "from sklearn.linear_model import LogisticRegression\n",
    "\n",
    "log_model = LogisticRegression(penalty = 'l1', random_state = 42, solver = 'liblinear', max_iter = 1000)"
   ]
  },
  {
   "cell_type": "code",
   "execution_count": 124,
   "metadata": {},
   "outputs": [
    {
     "name": "stdout",
     "output_type": "stream",
     "text": [
      "Sample Output:  [0 1 0 1]\n"
     ]
    },
    {
     "name": "stderr",
     "output_type": "stream",
     "text": [
      "/anaconda3/lib/python3.7/site-packages/sklearn/utils/validation.py:761: DataConversionWarning: A column-vector y was passed when a 1d array was expected. Please change the shape of y to (n_samples, ), for example using ravel().\n",
      "  y = column_or_1d(y, warn=True)\n"
     ]
    }
   ],
   "source": [
    "log_model.fit(X_train_prep, y_train)\n",
    "Y_train_log = log_model.predict(X_train_prep)\n",
    "\n",
    "print(\"Sample Output: \" ,Y_train_log[5:9])"
   ]
  },
  {
   "cell_type": "code",
   "execution_count": 125,
   "metadata": {},
   "outputs": [
    {
     "name": "stdout",
     "output_type": "stream",
     "text": [
      "model performance scores:  \n",
      "\n",
      "Accuracy =  0.8205128205128205\n",
      "Precision =  0.8048780487804879\n",
      "Recall =  0.9834437086092715\n",
      "F1 =  0.8852459016393444\n",
      "\n",
      "\n"
     ]
    }
   ],
   "source": [
    "# performance on training set\n",
    "model_performance_scores(y_train,Y_train_log)"
   ]
  },
  {
   "cell_type": "code",
   "execution_count": 126,
   "metadata": {},
   "outputs": [
    {
     "name": "stdout",
     "output_type": "stream",
     "text": [
      "model performance scores:  \n",
      "\n",
      "Accuracy =  0.8043478260869565\n",
      "Precision =  0.76\n",
      "Recall =  1.0\n",
      "F1 =  0.8636363636363636\n",
      "\n",
      "\n"
     ]
    }
   ],
   "source": [
    "# performance on validation set\n",
    "Y_val_log = log_model.predict(X_val_prep)\n",
    "model_performance_scores(y_val,Y_val_log)"
   ]
  },
  {
   "cell_type": "markdown",
   "metadata": {},
   "source": [
    "#### Quick Diagnosic\n",
    "The model suffers from good recall and poor precision, worthwhile to investigate if setting a higher threshold value will help."
   ]
  },
  {
   "cell_type": "code",
   "execution_count": 132,
   "metadata": {},
   "outputs": [
    {
     "name": "stdout",
     "output_type": "stream",
     "text": [
      "Sample Output:  [[0.80977795 0.19022205]\n",
      " [0.21670196 0.78329804]\n",
      " [0.93003717 0.06996283]\n",
      " [0.18454997 0.81545003]]\n",
      "Sample Output:  [[0.80977795 0.19022205]\n",
      " [0.21670196 0.78329804]\n",
      " [0.93003717 0.06996283]\n",
      " [0.18454997 0.81545003]]\n"
     ]
    }
   ],
   "source": [
    "Y_train_log_probab = log_model.predict_proba(X_train_prep)\n",
    "\n",
    "print(\"Sample Output: \" ,Y_train_log_probab[5:9])\n",
    "\n",
    "print(\"Sample Output: \" ,Y_train_log_probab[5:9])"
   ]
  },
  {
   "cell_type": "code",
   "execution_count": 138,
   "metadata": {},
   "outputs": [
    {
     "name": "stdout",
     "output_type": "stream",
     "text": [
      "Probability of loan approval:  [[0.19022205]\n",
      " [0.78329804]\n",
      " [0.06996283]\n",
      " [0.81545003]]\n"
     ]
    }
   ],
   "source": [
    "prob_loan_not_approved, prob_loan_approved = np.hsplit(Y_train_log_probab,2)\n",
    "\n",
    "print(\"Probability of loan approval: \", prob_loan_approved[5:9])"
   ]
  },
  {
   "cell_type": "code",
   "execution_count": 145,
   "metadata": {},
   "outputs": [],
   "source": [
    "Y_train_log2 = (prob_loan_approved > 0.6)"
   ]
  },
  {
   "cell_type": "code",
   "execution_count": 146,
   "metadata": {},
   "outputs": [
    {
     "name": "stdout",
     "output_type": "stream",
     "text": [
      "model performance scores:  \n",
      "\n",
      "Accuracy =  0.8228438228438228\n",
      "Precision =  0.8087431693989071\n",
      "Recall =  0.9801324503311258\n",
      "F1 =  0.8862275449101796\n",
      "\n",
      "\n"
     ]
    }
   ],
   "source": [
    "model_performance_scores(y_train, Y_train_log2)"
   ]
  },
  {
   "cell_type": "code",
   "execution_count": 147,
   "metadata": {},
   "outputs": [
    {
     "name": "stdout",
     "output_type": "stream",
     "text": [
      "model performance scores:  \n",
      "\n",
      "Accuracy =  0.8152173913043478\n",
      "Precision =  0.7702702702702703\n",
      "Recall =  1.0\n",
      "F1 =  0.8702290076335879\n",
      "\n",
      "\n"
     ]
    }
   ],
   "source": [
    "Y_val_log_probab = log_model.predict_proba(X_val_prep)\n",
    "prob_loan_not_approved, prob_loan_approved = np.hsplit(Y_val_log_probab,2)\n",
    "Y_val_log2 = (prob_loan_approved > 0.6)\n",
    "\n",
    "model_performance_scores(y_val, Y_val_log2)"
   ]
  },
  {
   "cell_type": "markdown",
   "metadata": {},
   "source": [
    "##### Great Result\n",
    "So, as expected, we have been able to increase the accuracy of the model by setting the threshold manually (to 0.6).\n",
    "\n",
    "The final accuracy is 81.5% which is a reasonably good."
   ]
  },
  {
   "cell_type": "markdown",
   "metadata": {},
   "source": [
    "### Stochastic Gradient Descent (SGD)"
   ]
  },
  {
   "cell_type": "code",
   "execution_count": 93,
   "metadata": {},
   "outputs": [
    {
     "name": "stderr",
     "output_type": "stream",
     "text": [
      "/anaconda3/lib/python3.7/site-packages/sklearn/linear_model/stochastic_gradient.py:166: FutureWarning: max_iter and tol parameters have been added in SGDClassifier in 0.19. If both are left unset, they default to max_iter=5 and tol=None. If tol is not None, max_iter defaults to max_iter=1000. From 0.21, default max_iter will be 1000, and default tol will be 1e-3.\n",
      "  FutureWarning)\n",
      "/anaconda3/lib/python3.7/site-packages/sklearn/utils/validation.py:761: DataConversionWarning: A column-vector y was passed when a 1d array was expected. Please change the shape of y to (n_samples, ), for example using ravel().\n",
      "  y = column_or_1d(y, warn=True)\n"
     ]
    }
   ],
   "source": [
    "from sklearn.linear_model import SGDClassifier\n",
    "\n",
    "sgd_model = SGDClassifier(loss = random_state = 42)\n",
    "\n",
    "sgd_model.fit(X_train_prep, y_train)\n",
    "\n",
    "Y_train_sgd = sgd_model.predict(X_train_prep) "
   ]
  },
  {
   "cell_type": "code",
   "execution_count": 95,
   "metadata": {},
   "outputs": [
    {
     "data": {
      "text/plain": [
       "array([[ 51,  76],\n",
       "       [  6, 296]])"
      ]
     },
     "execution_count": 95,
     "metadata": {},
     "output_type": "execute_result"
    }
   ],
   "source": [
    "# Evaluate Vanilla SGD\n",
    "\n",
    "from sklearn.metrics import confusion_matrix\n",
    "confusion_matrix(y_train, Y_train_sgd)"
   ]
  },
  {
   "cell_type": "markdown",
   "metadata": {},
   "source": [
    "**Precision** and **Recall** are tricky concepts to remember:\n",
    "* `Precision` : Out of all the predicted-positives, how many are correctly identified as positive\n",
    "* `Recall`: Out of all the actual-positives, how many are crrectly dentified as positive "
   ]
  },
  {
   "cell_type": "code",
   "execution_count": 101,
   "metadata": {},
   "outputs": [
    {
     "name": "stdout",
     "output_type": "stream",
     "text": [
      "model performance scores:  \n",
      "\n",
      "Accuracy =  0.8088578088578089\n",
      "Precision =  0.7956989247311828\n",
      "Recall =  0.9801324503311258\n",
      "F1 =  0.8783382789317508\n",
      "\n",
      "\n"
     ]
    }
   ],
   "source": [
    "# Evaluate Vanilla SGD - 2\n",
    "\n",
    "from sklearn.metrics import precision_score, recall_score, f1_score, accuracy_score\n",
    "\n",
    "def model_performance_scores(train,predicted):\n",
    "    accuracy_kpi = accuracy_score(train, predicted)\n",
    "    precision_kpi = precision_score(train,predicted)\n",
    "    recall_kpi = recall_score(train, predicted)\n",
    "    f1_kpi = f1_score(train,predicted)\n",
    "    \n",
    "    print(\"model performance scores: \",\"\\n\")\n",
    "    print(\"Accuracy = \", accuracy_kpi)\n",
    "    print(\"Precision = \", precision_kpi)\n",
    "    print(\"Recall = \", recall_kpi)\n",
    "    print(\"F1 = \", f1_kpi)\n",
    "    \n",
    "    print(\"\\n\")\n",
    "\n",
    "model_performance_scores(y_train,Y_train_sgd)"
   ]
  },
  {
   "cell_type": "code",
   "execution_count": 102,
   "metadata": {},
   "outputs": [
    {
     "name": "stdout",
     "output_type": "stream",
     "text": [
      "model performance scores:  \n",
      "\n",
      "Accuracy =  0.7608695652173914\n",
      "Precision =  0.7272727272727273\n",
      "Recall =  0.9824561403508771\n",
      "F1 =  0.835820895522388\n",
      "\n",
      "\n"
     ]
    }
   ],
   "source": [
    "# Validation Set Accuracy\n",
    "\n",
    "Y_val_sgd = sgd_model.predict(X_val_prep)\n",
    "\n",
    "model_performance_scores(y_val,Y_val_sgd)"
   ]
  },
  {
   "cell_type": "markdown",
   "metadata": {},
   "source": [
    "#### SGD Classifier with Cross Validation\n",
    "\n",
    "Reference links:\n",
    "1. [Stackoverflow note on Performing Cross-Validation](https://stackoverflow.com/questions/55270431/how-to-correctly-perform-cross-validation-in-scikit-learn)\n",
    "2. [Official Documentation](https://scikit-learn.org/stable/modules/generated/sklearn.model_selection.cross_validate.html)\n",
    "3. [Setting the 'scoring' hyperparameter](https://scikit-learn.org/stable/modules/model_evaluation.html#scoring-parameter)\n",
    "\n"
   ]
  },
  {
   "cell_type": "code",
   "execution_count": 98,
   "metadata": {},
   "outputs": [
    {
     "name": "stderr",
     "output_type": "stream",
     "text": [
      "/anaconda3/lib/python3.7/site-packages/sklearn/linear_model/stochastic_gradient.py:166: FutureWarning: max_iter and tol parameters have been added in SGDClassifier in 0.19. If both are left unset, they default to max_iter=5 and tol=None. If tol is not None, max_iter defaults to max_iter=1000. From 0.21, default max_iter will be 1000, and default tol will be 1e-3.\n",
      "  FutureWarning)\n",
      "/anaconda3/lib/python3.7/site-packages/sklearn/utils/validation.py:761: DataConversionWarning: A column-vector y was passed when a 1d array was expected. Please change the shape of y to (n_samples, ), for example using ravel().\n",
      "  y = column_or_1d(y, warn=True)\n",
      "/anaconda3/lib/python3.7/site-packages/sklearn/linear_model/stochastic_gradient.py:166: FutureWarning: max_iter and tol parameters have been added in SGDClassifier in 0.19. If both are left unset, they default to max_iter=5 and tol=None. If tol is not None, max_iter defaults to max_iter=1000. From 0.21, default max_iter will be 1000, and default tol will be 1e-3.\n",
      "  FutureWarning)\n",
      "/anaconda3/lib/python3.7/site-packages/sklearn/utils/validation.py:761: DataConversionWarning: A column-vector y was passed when a 1d array was expected. Please change the shape of y to (n_samples, ), for example using ravel().\n",
      "  y = column_or_1d(y, warn=True)\n",
      "/anaconda3/lib/python3.7/site-packages/sklearn/linear_model/stochastic_gradient.py:166: FutureWarning: max_iter and tol parameters have been added in SGDClassifier in 0.19. If both are left unset, they default to max_iter=5 and tol=None. If tol is not None, max_iter defaults to max_iter=1000. From 0.21, default max_iter will be 1000, and default tol will be 1e-3.\n",
      "  FutureWarning)\n",
      "/anaconda3/lib/python3.7/site-packages/sklearn/utils/validation.py:761: DataConversionWarning: A column-vector y was passed when a 1d array was expected. Please change the shape of y to (n_samples, ), for example using ravel().\n",
      "  y = column_or_1d(y, warn=True)\n",
      "/anaconda3/lib/python3.7/site-packages/sklearn/linear_model/stochastic_gradient.py:166: FutureWarning: max_iter and tol parameters have been added in SGDClassifier in 0.19. If both are left unset, they default to max_iter=5 and tol=None. If tol is not None, max_iter defaults to max_iter=1000. From 0.21, default max_iter will be 1000, and default tol will be 1e-3.\n",
      "  FutureWarning)\n",
      "/anaconda3/lib/python3.7/site-packages/sklearn/utils/validation.py:761: DataConversionWarning: A column-vector y was passed when a 1d array was expected. Please change the shape of y to (n_samples, ), for example using ravel().\n",
      "  y = column_or_1d(y, warn=True)\n",
      "/anaconda3/lib/python3.7/site-packages/sklearn/linear_model/stochastic_gradient.py:166: FutureWarning: max_iter and tol parameters have been added in SGDClassifier in 0.19. If both are left unset, they default to max_iter=5 and tol=None. If tol is not None, max_iter defaults to max_iter=1000. From 0.21, default max_iter will be 1000, and default tol will be 1e-3.\n",
      "  FutureWarning)\n",
      "/anaconda3/lib/python3.7/site-packages/sklearn/utils/validation.py:761: DataConversionWarning: A column-vector y was passed when a 1d array was expected. Please change the shape of y to (n_samples, ), for example using ravel().\n",
      "  y = column_or_1d(y, warn=True)\n"
     ]
    }
   ],
   "source": [
    "from sklearn.model_selection import KFold\n",
    "from sklearn.model_selection import cross_validate\n",
    "\n",
    "n_splits = 5\n",
    "\n",
    "kfold = KFold(n_splits = n_splits, shuffle = True)\n",
    "\n",
    "sgd_model_2 = SGDClassifier(random_state = 42)\n",
    "scoring = ('accuracy')\n",
    "\n",
    "cv_results = cross_validate(sgd_model_2, X_train_prep, y_train, cv = kfold, scoring = scoring, return_train_score = False)"
   ]
  },
  {
   "cell_type": "code",
   "execution_count": 110,
   "metadata": {},
   "outputs": [
    {
     "name": "stdout",
     "output_type": "stream",
     "text": [
      "{'fit_time': array([0.10369802, 0.003263  , 0.00265813, 0.00260925, 0.00296426]), 'score_time': array([0.01260591, 0.000458  , 0.00047112, 0.00064588, 0.00277209]), 'test_score': array([0.70930233, 0.77906977, 0.72093023, 0.79069767, 0.8       ])} \n",
      "\n",
      " The accuracy score for each of the  5  runs is  [0.70930233 0.77906977 0.72093023 0.79069767 0.8       ]\n",
      "\n",
      "\n",
      " Average accuracy is :  0.76\n"
     ]
    }
   ],
   "source": [
    "print(cv_results,\"\\n\")\n",
    "\n",
    "print(\" The accuracy score for each of the \",n_splits,\" runs is \",cv_results['test_score'])\n",
    "\n",
    "print(\"\\n\")\n",
    "\n",
    "print(\" Average accuracy is : \", np.mean(cv_results['test_score']))"
   ]
  },
  {
   "cell_type": "markdown",
   "metadata": {},
   "source": [
    "<br>\n",
    "\n",
    "##### Quick Summary:\n",
    "With all our efforts so far, we have got a training set accuracy of 82% and a validation set accuracy of 81.5%\n",
    "\n"
   ]
  },
  {
   "cell_type": "markdown",
   "metadata": {},
   "source": [
    "<br>\n",
    "\n",
    "## The Best Model\n",
    "\n",
    "The best perforiming model is Logistic Regression with a classification threshold of 0.6\n"
   ]
  },
  {
   "cell_type": "code",
   "execution_count": 148,
   "metadata": {},
   "outputs": [
    {
     "name": "stdout",
     "output_type": "stream",
     "text": [
      "model performance scores:  \n",
      "\n",
      "Accuracy =  0.7634408602150538\n",
      "Precision =  0.7530864197530864\n",
      "Recall =  0.9682539682539683\n",
      "F1 =  0.8472222222222222\n",
      "\n",
      "\n"
     ]
    }
   ],
   "source": [
    "Y_test_log_probab = log_model.predict_proba(X_test_prep)\n",
    "prob_loan_not_approved, prob_loan_approved = np.hsplit(Y_test_log_probab,2)\n",
    "Y_test_log2 = (prob_loan_approved > 0.6)\n",
    "\n",
    "model_performance_scores(y_test, Y_test_log2)"
   ]
  },
  {
   "cell_type": "code",
   "execution_count": null,
   "metadata": {},
   "outputs": [],
   "source": []
  }
 ],
 "metadata": {
  "kernelspec": {
   "display_name": "Python 3",
   "language": "python",
   "name": "python3"
  },
  "language_info": {
   "codemirror_mode": {
    "name": "ipython",
    "version": 3
   },
   "file_extension": ".py",
   "mimetype": "text/x-python",
   "name": "python",
   "nbconvert_exporter": "python",
   "pygments_lexer": "ipython3",
   "version": "3.7.2"
  },
  "toc": {
   "base_numbering": 1,
   "nav_menu": {},
   "number_sections": false,
   "sideBar": true,
   "skip_h1_title": false,
   "title_cell": "Table of Contents",
   "title_sidebar": "Contents",
   "toc_cell": false,
   "toc_position": {},
   "toc_section_display": true,
   "toc_window_display": false
  }
 },
 "nbformat": 4,
 "nbformat_minor": 2
}
