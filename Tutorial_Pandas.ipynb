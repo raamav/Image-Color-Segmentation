{
 "cells": [
  {
   "cell_type": "markdown",
   "metadata": {},
   "source": [
    "Over to **Pandas**, a super critical component for *actually* doing data science (**P0** Skill)"
   ]
  },
  {
   "cell_type": "markdown",
   "metadata": {},
   "source": [
    "**Data Structures**\n",
    "\n",
    "There are 3 main data structures:\n",
    "> **Series** objects. Similar to !D array or Python lists. Have the value and the index\n",
    "\n",
    "> **Dataframe** objects. work like a 2D table in many ways\n",
    "\n",
    "> **Panel** objects. A disctionary of data-frames. Are not used often"
   ]
  },
  {
   "cell_type": "code",
   "execution_count": 5,
   "metadata": {},
   "outputs": [
    {
     "name": "stdout",
     "output_type": "stream",
     "text": [
      "0    2\n",
      "1   -1\n",
      "2    3\n",
      "3    5\n",
      "dtype: int64\n",
      "2 \n",
      "\n",
      "0    2\n",
      "1   -1\n",
      "dtype: int64 \n",
      "\n"
     ]
    }
   ],
   "source": [
    "\"\"\"\n",
    "Series objects behave much like one-dimensional NumPy arrays\n",
    "\"\"\"\n",
    "\n",
    "import pandas as pd\n",
    "\n",
    "s = pd.Series([2,-1,3,5])\n",
    "print(s)\n",
    "\n",
    "#Trying to index elements\n",
    "print(s[0],'\\n') #as expected\n",
    "print(s[0:2],'\\n') #as expected\n"
   ]
  },
  {
   "cell_type": "code",
   "execution_count": 22,
   "metadata": {},
   "outputs": [
    {
     "name": "stdout",
     "output_type": "stream",
     "text": [
      "2\n",
      "-1\n",
      "3\n",
      "5\n",
      "\n",
      " 0    101\n",
      "1     98\n",
      "2    102\n",
      "3    104\n",
      "dtype: int64 \n",
      "\n",
      "0     True\n",
      "1    False\n",
      "2     True\n",
      "3     True\n",
      "dtype: bool \n",
      "\n",
      "0    12\n",
      "1    19\n",
      "2    33\n",
      "3    45\n",
      "dtype: int64 \n",
      "\n",
      "0    2\n",
      "1   -1\n",
      "2    3\n",
      "3    5\n",
      "dtype: int64 \n",
      "\n"
     ]
    },
    {
     "data": {
      "text/plain": [
       "True"
      ]
     },
     "execution_count": 22,
     "metadata": {},
     "output_type": "execute_result"
    }
   ],
   "source": [
    "\"\"\"\n",
    "Math Operations with Series\n",
    "\"\"\"\n",
    "\n",
    "#Iterating through series\n",
    "for i in s:\n",
    "    print(i) #this works\n",
    "\n",
    "#operation on the entire set\n",
    "print('\\n',s + 99,'\\n') #This also works\n",
    "\n",
    "#boolean\n",
    "print(s > 0,'\\n')\n",
    "\n",
    "#adding a list\n",
    "print(s + [10,20,30,40],'\\n')\n",
    "\n",
    "#checccking for an element\n",
    "print(s,'\\n')\n"
   ]
  },
  {
   "cell_type": "code",
   "execution_count": 27,
   "metadata": {},
   "outputs": [
    {
     "name": "stdout",
     "output_type": "stream",
     "text": [
      "a    2\n",
      "b   -1\n",
      "c    3\n",
      "d    5\n",
      "dtype: int64 \n",
      "\n",
      "-1 \n",
      "\n",
      "-1 \n",
      "\n",
      "a      2\n",
      "b    100\n",
      "c      3\n",
      "d      5\n",
      "dtype: int64 \n",
      "\n"
     ]
    }
   ],
   "source": [
    "#It is possible to explictly assign labels\n",
    "s1 = pd.Series([2,-1,3,5], index = [\"a\",\"b\",\"c\",\"d\"])\n",
    "print(s1,'\\n')\n",
    "\n",
    "#referencing elements - works as a dictionary and a list \n",
    "print(s1['b'],'\\n')\n",
    "print(s1[1],'\\n')\n",
    "\n",
    "#tryng to mte\n",
    "s1['b'] =100\n",
    "\n",
    "print(s1,'\\n') #it works"
   ]
  },
  {
   "cell_type": "code",
   "execution_count": 31,
   "metadata": {},
   "outputs": [
    {
     "data": {
      "text/plain": [
       "3"
      ]
     },
     "execution_count": 31,
     "metadata": {},
     "output_type": "execute_result"
    }
   ],
   "source": [
    "\"\"\"\n",
    "Series == \"recommended\" way of accessing elements\n",
    "\"\"\"\n",
    "\n",
    "#use loc for labels and iloc for integer index - IMPORTANT\n",
    "s1.loc[\"a\"]\n",
    "s1.iloc[2]"
   ]
  },
  {
   "cell_type": "code",
   "execution_count": 41,
   "metadata": {},
   "outputs": [
    {
     "name": "stdout",
     "output_type": "stream",
     "text": [
      "alice    25\n",
      "bob      30\n",
      "cal      80\n",
      "dal      90\n",
      "dtype: int64 \n",
      "\n",
      "alice    25\n",
      "dal      90\n",
      "dtype: int64 \n",
      "\n",
      "apple     NaN\n",
      "dal      90.0\n",
      "daisy     NaN\n",
      "dtype: float64 \n",
      "\n",
      "alice      NaN\n",
      "apple      NaN\n",
      "bob        NaN\n",
      "cal        NaN\n",
      "daisy      NaN\n",
      "dal      180.0\n",
      "dtype: float64 \n",
      "\n"
     ]
    }
   ],
   "source": [
    "\"\"\"\n",
    "Creating a series object from a dictionary\n",
    "\"\"\"\n",
    "\n",
    "weights = {\"alice\":25,\"bob\":30,\"cal\": 80, \"dal\":90}\n",
    "\n",
    "s3 = pd.Series(weights)\n",
    "print(s3,'\\n')\n",
    "\n",
    "s4 = pd.Series(weights, index = [\"alice\",\"dal\"])\n",
    "print(s4,'\\n') #only the ones pertaining to the index\n",
    "\n",
    "s5 = pd.Series(weights, index = [\"apple\",\"dal\",\"daisy\"])\n",
    "print(s5,'\\n') #makes sense\n",
    "\n",
    "s6 = s3 + s5 #curious to know what happens\n",
    "print(s6,'\\n') #try - best to be safe with this\n"
   ]
  },
  {
   "cell_type": "code",
   "execution_count": 44,
   "metadata": {},
   "outputs": [
    {
     "name": "stdout",
     "output_type": "stream",
     "text": [
      "a    18\n",
      "b    20\n",
      "c    24\n",
      "Name: marks, dtype: int64 \n",
      "\n"
     ]
    }
   ],
   "source": [
    "# scalar objects be assigned a name\n",
    "\n",
    "s7 = pd.Series([18,20,24],index = [\"a\",\"b\",\"c\"], name = \"marks\")\n",
    "print(s7,'\\n')"
   ]
  },
  {
   "cell_type": "code",
   "execution_count": 56,
   "metadata": {},
   "outputs": [
    {
     "name": "stdout",
     "output_type": "stream",
     "text": [
      "DatetimeIndex(['2016-10-29 17:30:00', '2016-10-29 18:30:00',\n",
      "               '2016-10-29 19:30:00', '2016-10-29 20:30:00',\n",
      "               '2016-10-29 21:30:00', '2016-10-29 22:30:00',\n",
      "               '2016-10-29 23:30:00', '2016-10-30 00:30:00',\n",
      "               '2016-10-30 01:30:00', '2016-10-30 02:30:00',\n",
      "               '2016-10-30 03:30:00', '2016-10-30 04:30:00'],\n",
      "              dtype='datetime64[ns]', freq='H') \n",
      " <class 'pandas.core.indexes.datetimes.DatetimeIndex'>\n",
      "\n",
      " 2016-10-29 17:30:00    4.4\n",
      "2016-10-29 18:30:00    5.1\n",
      "2016-10-29 19:30:00    6.1\n",
      "2016-10-29 20:30:00    6.2\n",
      "2016-10-29 21:30:00    6.1\n",
      "2016-10-29 22:30:00    6.1\n",
      "2016-10-29 23:30:00    5.7\n",
      "2016-10-30 00:30:00    5.2\n",
      "2016-10-30 01:30:00    4.7\n",
      "2016-10-30 02:30:00    4.1\n",
      "2016-10-30 03:30:00    3.9\n",
      "2016-10-30 04:30:00    3.5\n",
      "Freq: H, dtype: float64 \n",
      "\n"
     ]
    }
   ],
   "source": [
    "\"\"\"\n",
    "Based on my experience, I know that handling \"time varables\" is \n",
    "something that keeps coming up, again and again\n",
    "\"\"\"\n",
    "dates = pd.date_range('2016/10/29 5:30pm',periods = 12, freq = 'H')\n",
    "print(dates,'\\n',type(dates))\n",
    "\n",
    "temperatures = [4.4,5.1,6.1,6.2,6.1,6.1,5.7,5.2,4.7,4.1,3.9,3.5]\n",
    "\n",
    "#a Series with temeratures and dates as index\n",
    "temp_series = pd.Series(temperatures, index = dates)\n",
    "print('\\n',temp_series,'\\n')\n",
    "\n",
    "#This makes sense and is useful"
   ]
  },
  {
   "cell_type": "code",
   "execution_count": 60,
   "metadata": {},
   "outputs": [
    {
     "data": {
      "image/png": "[encoded data removed]",
      "text/plain": [
       "<Figure size 432x288 with 1 Axes>"
      ]
     },
     "metadata": {
      "needs_background": "light"
     },
     "output_type": "display_data"
    }
   ],
   "source": [
    "#Plotting series - its actually quite simple to do this\n",
    "import matplotlib \n",
    "import matplotlib.pyplot as plt\n",
    "\n",
    "temp_series.plot(kind = \"bar\")\n",
    "plt.grid()\n",
    "plt.show()"
   ]
  },
  {
   "cell_type": "code",
   "execution_count": 66,
   "metadata": {
    "scrolled": true
   },
   "outputs": [
    {
     "name": "stdout",
     "output_type": "stream",
     "text": [
      "DatetimeIndexResampler [freq=<2 * Hours>, axis=0, closed=left, label=left, convention=start, base=0] \n",
      "\n",
      "2016-10-29 16:00:00    4.40\n",
      "2016-10-29 18:00:00    5.60\n",
      "2016-10-29 20:00:00    6.15\n",
      "2016-10-29 22:00:00    5.90\n",
      "2016-10-30 00:00:00    4.95\n",
      "2016-10-30 02:00:00    4.00\n",
      "2016-10-30 04:00:00    3.50\n",
      "Freq: 2H, dtype: float64 \n",
      "\n"
     ]
    },
    {
     "data": {
      "image/png": "[encoded data removed]",
      "text/plain": [
       "<Figure size 432x288 with 1 Axes>"
      ]
     },
     "metadata": {
      "needs_background": "light"
     },
     "output_type": "display_data"
    }
   ],
   "source": [
    "\"\"\"\n",
    "Resampling\n",
    "\"\"\"\n",
    "\n",
    "temp_series_2H = temp_series.resample(\"2H\") #resampling \"rate\" is estab.\n",
    "print(temp_series_2H,'\\n') \n",
    "temp_series_2H = temp_series_2H. mean() #Actual 'mean' resampling\n",
    "print(temp_series_2H,'\\n')\n",
    "\n",
    "#plotting this\n",
    "temp_series_2H.plot(kind = \"bar\")\n",
    "plt.grid()\n",
    "plt.show()\n",
    "\n",
    "#Looks great, shall revisit this"
   ]
  },
  {
   "cell_type": "code",
   "execution_count": 68,
   "metadata": {},
   "outputs": [
    {
     "name": "stdout",
     "output_type": "stream",
     "text": [
      "2016-10-29 16:00:00    4.4\n",
      "2016-10-29 18:00:00    5.1\n",
      "2016-10-29 20:00:00    6.1\n",
      "2016-10-29 22:00:00    5.7\n",
      "2016-10-30 00:00:00    4.7\n",
      "2016-10-30 02:00:00    3.9\n",
      "2016-10-30 04:00:00    3.5\n",
      "Freq: 2H, dtype: float64 \n",
      "\n"
     ]
    }
   ],
   "source": [
    "# Other examples of resampling\n",
    "import numpy as np\n",
    "\n",
    "temp_series_2H = temp_series.resample(\"2H\").apply(np.min) #apply method \n",
    "print(temp_series_2H,'\\n')"
   ]
  },
  {
   "cell_type": "code",
   "execution_count": 75,
   "metadata": {},
   "outputs": [
    {
     "name": "stdout",
     "output_type": "stream",
     "text": [
      "DatetimeIndexResampler [freq=<45 * Minutes>, axis=0, closed=left, label=left, convention=start, base=0] \n",
      "\n",
      "2016-10-29 17:15:00    4.4\n",
      "2016-10-29 18:00:00    5.1\n",
      "2016-10-29 18:45:00    NaN\n",
      "2016-10-29 19:30:00    6.1\n",
      "2016-10-29 20:15:00    6.2\n",
      "2016-10-29 21:00:00    6.1\n",
      "2016-10-29 21:45:00    NaN\n",
      "2016-10-29 22:30:00    6.1\n",
      "2016-10-29 23:15:00    5.7\n",
      "2016-10-30 00:00:00    5.2\n",
      "2016-10-30 00:45:00    NaN\n",
      "2016-10-30 01:30:00    4.7\n",
      "2016-10-30 02:15:00    4.1\n",
      "2016-10-30 03:00:00    3.9\n",
      "2016-10-30 03:45:00    NaN\n",
      "2016-10-30 04:30:00    3.5\n",
      "Freq: 45T, dtype: float64 \n",
      "\n",
      "2016-10-29 17:15:00    4.4\n",
      "2016-10-29 18:00:00    5.1\n",
      "2016-10-29 18:45:00    NaN\n",
      "2016-10-29 19:30:00    6.1\n",
      "2016-10-29 20:15:00    6.2\n",
      "Freq: 45T, dtype: float64 \n",
      "\n"
     ]
    }
   ],
   "source": [
    "# We can similarly try upsampling, but it obv. creates \"holes\" in the data\n",
    "temp_series_15M = temp_series.resample(\"45Min\")\n",
    "print(temp_series_15M,'\\n') # as always doesn't print anything\n",
    "\n",
    "temp_series_15M = temp_series_15M.apply(np.mean)\n",
    "print(temp_series_15M,'\\n')\n",
    "\n",
    "#head displays the top X rows\n",
    "print(temp_series_15M.head(n=5),'\\n')\n",
    "\n",
    "#This is all great, I hope that I don't forget this"
   ]
  },
  {
   "cell_type": "code",
   "execution_count": 76,
   "metadata": {},
   "outputs": [
    {
     "data": {
      "text/plain": [
       "'\\nEXTENDED DISCUSSIONS ON TIMEZONES\\n'"
      ]
     },
     "execution_count": 76,
     "metadata": {},
     "output_type": "execute_result"
    }
   ],
   "source": [
    "\"\"\"\n",
    "EXTENDED DISCUSSIONS ON TIMEZONES\n",
    "\"\"\"\n",
    "\n",
    "#WILL GET TO THIS LATER....\n",
    "#TBD\n",
    "#TBD"
   ]
  },
  {
   "cell_type": "code",
   "execution_count": 81,
   "metadata": {},
   "outputs": [
    {
     "name": "stdout",
     "output_type": "stream",
     "text": [
      "PeriodIndex(['2016Q1', '2016Q2', '2016Q3', '2016Q4', '2017Q1', '2017Q2',\n",
      "             '2017Q3', '2017Q4'],\n",
      "            dtype='period[Q-DEC]', freq='Q-DEC') \n",
      "\n",
      "PeriodIndex(['2017Q1', '2017Q2', '2017Q3', '2017Q4', '2018Q1', '2018Q2',\n",
      "             '2018Q3', '2018Q4'],\n",
      "            dtype='period[Q-DEC]', freq='Q-DEC') \n",
      "\n"
     ]
    }
   ],
   "source": [
    "\"\"\"\n",
    "Time Periods, etc.\n",
    "\"\"\"\n",
    "\n",
    "#exploring the period_range function after having explored date_range\n",
    "\n",
    "quarters = pd.period_range('2016Q1', periods = 8, freq = 'Q')\n",
    "print(quarters,'\\n')\n",
    "\n",
    "#its possible to offset the time\n",
    "print(quarters + 4,'\\n') # 4 quarters\n",
    "\n",
    "#a few other functions for zooming in and out of spreadsheets - asfreq()"
   ]
  },
  {
   "cell_type": "code",
   "execution_count": 82,
   "metadata": {},
   "outputs": [
    {
     "data": {
      "text/plain": [
       "'\\nDataFrame Objects that mimic spreadsheets\\nReally excited to be learning this, this is the heart of it all\\n\\n'"
      ]
     },
     "execution_count": 82,
     "metadata": {},
     "output_type": "execute_result"
    }
   ],
   "source": [
    "\"\"\"\n",
    "DataFrame Objects that mimic spreadsheets\n",
    "Really excited to be learning this, this is the heart of it all\n",
    "\n",
    "\"\"\""
   ]
  },
  {
   "cell_type": "code",
   "execution_count": 93,
   "metadata": {},
   "outputs": [
    {
     "name": "stdout",
     "output_type": "stream",
     "text": [
      "         weight  birthyear  children    hobby\n",
      "alice        68       1985       NaN   Biking\n",
      "bob          83       1984       3.0  Dancing\n",
      "charles     112       1992       0.0      NaN \n",
      "\n"
     ]
    },
    {
     "data": {
      "text/html": [
       "<div>\n",
       "<style scoped>\n",
       "    .dataframe tbody tr th:only-of-type {\n",
       "        vertical-align: middle;\n",
       "    }\n",
       "\n",
       "    .dataframe tbody tr th {\n",
       "        vertical-align: top;\n",
       "    }\n",
       "\n",
       "    .dataframe thead th {\n",
       "        text-align: right;\n",
       "    }\n",
       "</style>\n",
       "<table border=\"1\" class=\"dataframe\">\n",
       "  <thead>\n",
       "    <tr style=\"text-align: right;\">\n",
       "      <th></th>\n",
       "      <th>weight</th>\n",
       "      <th>birthyear</th>\n",
       "      <th>children</th>\n",
       "      <th>hobby</th>\n",
       "    </tr>\n",
       "  </thead>\n",
       "  <tbody>\n",
       "    <tr>\n",
       "      <th>alice</th>\n",
       "      <td>68</td>\n",
       "      <td>1985</td>\n",
       "      <td>NaN</td>\n",
       "      <td>Biking</td>\n",
       "    </tr>\n",
       "    <tr>\n",
       "      <th>bob</th>\n",
       "      <td>83</td>\n",
       "      <td>1984</td>\n",
       "      <td>3.0</td>\n",
       "      <td>Dancing</td>\n",
       "    </tr>\n",
       "    <tr>\n",
       "      <th>charles</th>\n",
       "      <td>112</td>\n",
       "      <td>1992</td>\n",
       "      <td>0.0</td>\n",
       "      <td>NaN</td>\n",
       "    </tr>\n",
       "  </tbody>\n",
       "</table>\n",
       "</div>"
      ],
      "text/plain": [
       "         weight  birthyear  children    hobby\n",
       "alice        68       1985       NaN   Biking\n",
       "bob          83       1984       3.0  Dancing\n",
       "charles     112       1992       0.0      NaN"
      ]
     },
     "execution_count": 93,
     "metadata": {},
     "output_type": "execute_result"
    }
   ],
   "source": [
    "\"\"\"\n",
    "Creating a data-frame.\n",
    "\n",
    "Series Objects -> Dictionary -> DataFrame\n",
    "\n",
    "\"\"\"\n",
    "\n",
    "people_dict = {\n",
    "    \"weight\": pd.Series([68,83,112], index = [\"alice\",\"bob\",\"charles\"]),\n",
    "    \"birthyear\": pd.Series([1985,1984,1992], index = [\"alice\",\"bob\",\"charles\"], name = \"year\"),\n",
    "    \"children\": pd.Series([0,3], index = [\"charles\",\"bob\"]),\n",
    "    \"hobby\": pd.Series([\"Biking\",\"Dancing\"], index = [\"alice\",\"bob\"])\n",
    "}\n",
    "\n",
    "people = pd.DataFrame(people_dict)\n",
    "\n",
    "print(people,'\\n')\n",
    "\n",
    "people #the data frame gets printed in a much nicer way"
   ]
  },
  {
   "cell_type": "markdown",
   "metadata": {},
   "source": [
    "**Summarizing** key points:\n",
    "* Created a data frame by using a dictionary\n",
    "* Each 'column' of the data-frame was entered as a Series object\n",
    "* Data Frames are displayed really well in Jupyter nb, much nicer than in Spyder\n",
    "* Columns are returned as Series objects"
   ]
  },
  {
   "cell_type": "code",
   "execution_count": 94,
   "metadata": {},
   "outputs": [
    {
     "name": "stdout",
     "output_type": "stream",
     "text": [
      "alice      1985\n",
      "bob        1984\n",
      "charles    1992\n",
      "Name: birthyear, dtype: int64 \n",
      "\n",
      "<class 'pandas.core.series.Series'> \n",
      "\n"
     ]
    },
    {
     "data": {
      "text/html": [
       "<div>\n",
       "<style scoped>\n",
       "    .dataframe tbody tr th:only-of-type {\n",
       "        vertical-align: middle;\n",
       "    }\n",
       "\n",
       "    .dataframe tbody tr th {\n",
       "        vertical-align: top;\n",
       "    }\n",
       "\n",
       "    .dataframe thead th {\n",
       "        text-align: right;\n",
       "    }\n",
       "</style>\n",
       "<table border=\"1\" class=\"dataframe\">\n",
       "  <thead>\n",
       "    <tr style=\"text-align: right;\">\n",
       "      <th></th>\n",
       "      <th>birthyear</th>\n",
       "      <th>hobby</th>\n",
       "    </tr>\n",
       "  </thead>\n",
       "  <tbody>\n",
       "    <tr>\n",
       "      <th>alice</th>\n",
       "      <td>1985</td>\n",
       "      <td>Biking</td>\n",
       "    </tr>\n",
       "    <tr>\n",
       "      <th>bob</th>\n",
       "      <td>1984</td>\n",
       "      <td>Dancing</td>\n",
       "    </tr>\n",
       "    <tr>\n",
       "      <th>charles</th>\n",
       "      <td>1992</td>\n",
       "      <td>NaN</td>\n",
       "    </tr>\n",
       "  </tbody>\n",
       "</table>\n",
       "</div>"
      ],
      "text/plain": [
       "         birthyear    hobby\n",
       "alice         1985   Biking\n",
       "bob           1984  Dancing\n",
       "charles       1992      NaN"
      ]
     },
     "execution_count": 94,
     "metadata": {},
     "output_type": "execute_result"
    }
   ],
   "source": [
    "#Extracting information from data Frames\n",
    "\n",
    "print(people['birthyear'],'\\n')\n",
    "\n",
    "print(type(people['birthyear']),'\\n') #This is a Series data type -- important to know\n",
    "\n",
    "#Getting multiple columns\n",
    "people[[\"birthyear\", \"hobby\"]] #note the double square brackets\n"
   ]
  },
  {
   "cell_type": "code",
   "execution_count": 96,
   "metadata": {},
   "outputs": [
    {
     "data": {
      "text/html": [
       "<div>\n",
       "<style scoped>\n",
       "    .dataframe tbody tr th:only-of-type {\n",
       "        vertical-align: middle;\n",
       "    }\n",
       "\n",
       "    .dataframe tbody tr th {\n",
       "        vertical-align: top;\n",
       "    }\n",
       "\n",
       "    .dataframe thead th {\n",
       "        text-align: right;\n",
       "    }\n",
       "</style>\n",
       "<table border=\"1\" class=\"dataframe\">\n",
       "  <thead>\n",
       "    <tr style=\"text-align: right;\">\n",
       "      <th></th>\n",
       "      <th>birthyear</th>\n",
       "      <th>weight</th>\n",
       "      <th>height</th>\n",
       "    </tr>\n",
       "  </thead>\n",
       "  <tbody>\n",
       "    <tr>\n",
       "      <th>bob</th>\n",
       "      <td>1984.0</td>\n",
       "      <td>83.0</td>\n",
       "      <td>NaN</td>\n",
       "    </tr>\n",
       "    <tr>\n",
       "      <th>alice</th>\n",
       "      <td>1985.0</td>\n",
       "      <td>68.0</td>\n",
       "      <td>NaN</td>\n",
       "    </tr>\n",
       "    <tr>\n",
       "      <th>eugene</th>\n",
       "      <td>NaN</td>\n",
       "      <td>NaN</td>\n",
       "      <td>NaN</td>\n",
       "    </tr>\n",
       "  </tbody>\n",
       "</table>\n",
       "</div>"
      ],
      "text/plain": [
       "        birthyear  weight height\n",
       "bob        1984.0    83.0    NaN\n",
       "alice      1985.0    68.0    NaN\n",
       "eugene        NaN     NaN    NaN"
      ]
     },
     "execution_count": 96,
     "metadata": {},
     "output_type": "execute_result"
    }
   ],
   "source": [
    "# a way to sub-set the data frames by specifying columns and index\n",
    "\n",
    "d2 = pd.DataFrame(\n",
    "        people_dict,\n",
    "        columns=[\"birthyear\", \"weight\", \"height\"],\n",
    "        index=[\"bob\", \"alice\", \"eugene\"]\n",
    "     )\n",
    "d2"
   ]
  },
  {
   "cell_type": "code",
   "execution_count": 97,
   "metadata": {},
   "outputs": [
    {
     "data": {
      "text/html": [
       "<div>\n",
       "<style scoped>\n",
       "    .dataframe tbody tr th:only-of-type {\n",
       "        vertical-align: middle;\n",
       "    }\n",
       "\n",
       "    .dataframe tbody tr th {\n",
       "        vertical-align: top;\n",
       "    }\n",
       "\n",
       "    .dataframe thead th {\n",
       "        text-align: right;\n",
       "    }\n",
       "</style>\n",
       "<table border=\"1\" class=\"dataframe\">\n",
       "  <thead>\n",
       "    <tr style=\"text-align: right;\">\n",
       "      <th></th>\n",
       "      <th>birthyear</th>\n",
       "      <th>children</th>\n",
       "      <th>hobby</th>\n",
       "      <th>weight</th>\n",
       "    </tr>\n",
       "  </thead>\n",
       "  <tbody>\n",
       "    <tr>\n",
       "      <th>alice</th>\n",
       "      <td>1985</td>\n",
       "      <td>NaN</td>\n",
       "      <td>Biking</td>\n",
       "      <td>68</td>\n",
       "    </tr>\n",
       "    <tr>\n",
       "      <th>bob</th>\n",
       "      <td>1984</td>\n",
       "      <td>3.0</td>\n",
       "      <td>Dancing</td>\n",
       "      <td>83</td>\n",
       "    </tr>\n",
       "    <tr>\n",
       "      <th>charles</th>\n",
       "      <td>1992</td>\n",
       "      <td>0.0</td>\n",
       "      <td>NaN</td>\n",
       "      <td>112</td>\n",
       "    </tr>\n",
       "  </tbody>\n",
       "</table>\n",
       "</div>"
      ],
      "text/plain": [
       "         birthyear  children    hobby  weight\n",
       "alice         1985       NaN   Biking      68\n",
       "bob           1984       3.0  Dancing      83\n",
       "charles       1992       0.0      NaN     112"
      ]
     },
     "execution_count": 97,
     "metadata": {},
     "output_type": "execute_result"
    }
   ],
   "source": [
    "#creating a data frame from a list of lists\n",
    "#the column labels and the row indexes are specified separately\n",
    "\n",
    "values = [\n",
    "            [1985, np.nan, \"Biking\",   68],\n",
    "            [1984, 3,      \"Dancing\",  83],\n",
    "            [1992, 0,      np.nan,    112]\n",
    "         ]\n",
    "d3 = pd.DataFrame(\n",
    "        values,\n",
    "        columns=[\"birthyear\", \"children\", \"hobby\", \"weight\"],\n",
    "        index=[\"alice\", \"bob\", \"charles\"]\n",
    "     )\n",
    "d3"
   ]
  },
  {
   "cell_type": "code",
   "execution_count": 98,
   "metadata": {},
   "outputs": [
    {
     "data": {
      "text/plain": [
       "'\\nMulti-indexing; this means tables that have multiple levels of rows or columns\\n'"
      ]
     },
     "execution_count": 98,
     "metadata": {},
     "output_type": "execute_result"
    }
   ],
   "source": [
    "\"\"\"\n",
    "Multi-indexing; this means tables that have multiple levels \n",
    "of rows or columns\n",
    "\"\"\"\n",
    "\n",
    "#skipping this in the first pass, shall do this later...\n",
    "# This is however imp. from a exploratory analysis POV"
   ]
  },
  {
   "cell_type": "code",
   "execution_count": 104,
   "metadata": {},
   "outputs": [
    {
     "data": {
      "text/html": [
       "<div>\n",
       "<style scoped>\n",
       "    .dataframe tbody tr th:only-of-type {\n",
       "        vertical-align: middle;\n",
       "    }\n",
       "\n",
       "    .dataframe tbody tr th {\n",
       "        vertical-align: top;\n",
       "    }\n",
       "\n",
       "    .dataframe thead th {\n",
       "        text-align: right;\n",
       "    }\n",
       "</style>\n",
       "<table border=\"1\" class=\"dataframe\">\n",
       "  <thead>\n",
       "    <tr style=\"text-align: right;\">\n",
       "      <th></th>\n",
       "      <th>weight</th>\n",
       "      <th>birthyear</th>\n",
       "      <th>children</th>\n",
       "      <th>hobby</th>\n",
       "    </tr>\n",
       "  </thead>\n",
       "  <tbody>\n",
       "    <tr>\n",
       "      <th>bob</th>\n",
       "      <td>83</td>\n",
       "      <td>1984</td>\n",
       "      <td>3.0</td>\n",
       "      <td>Dancing</td>\n",
       "    </tr>\n",
       "    <tr>\n",
       "      <th>charles</th>\n",
       "      <td>112</td>\n",
       "      <td>1992</td>\n",
       "      <td>0.0</td>\n",
       "      <td>NaN</td>\n",
       "    </tr>\n",
       "  </tbody>\n",
       "</table>\n",
       "</div>"
      ],
      "text/plain": [
       "         weight  birthyear  children    hobby\n",
       "bob          83       1984       3.0  Dancing\n",
       "charles     112       1992       0.0      NaN"
      ]
     },
     "execution_count": 104,
     "metadata": {},
     "output_type": "execute_result"
    }
   ],
   "source": [
    "#Accessing rows in a data frame\n",
    "\n",
    "people\n",
    "\n",
    "people.loc[\"charles\"] #note the .loc thing\n",
    "\n",
    "#possible to access by index as well\n",
    "people.iloc[2] #note that its iloc when accessing by the index\n",
    "\n",
    "people.iloc[1:3]"
   ]
  },
  {
   "cell_type": "code",
   "execution_count": 118,
   "metadata": {},
   "outputs": [
    {
     "name": "stdout",
     "output_type": "stream",
     "text": [
      "         weight  birthyear  children    hobby\n",
      "alice        68       1985       NaN   Biking\n",
      "bob          83       1984       3.0  Dancing\n",
      "charles     112       1992       0.0      NaN \n",
      "\n"
     ]
    },
    {
     "data": {
      "text/html": [
       "<div>\n",
       "<style scoped>\n",
       "    .dataframe tbody tr th:only-of-type {\n",
       "        vertical-align: middle;\n",
       "    }\n",
       "\n",
       "    .dataframe tbody tr th {\n",
       "        vertical-align: top;\n",
       "    }\n",
       "\n",
       "    .dataframe thead th {\n",
       "        text-align: right;\n",
       "    }\n",
       "</style>\n",
       "<table border=\"1\" class=\"dataframe\">\n",
       "  <thead>\n",
       "    <tr style=\"text-align: right;\">\n",
       "      <th></th>\n",
       "      <th>weight</th>\n",
       "      <th>birthyear</th>\n",
       "      <th>children</th>\n",
       "      <th>hobby</th>\n",
       "    </tr>\n",
       "  </thead>\n",
       "  <tbody>\n",
       "    <tr>\n",
       "      <th>bob</th>\n",
       "      <td>83</td>\n",
       "      <td>1984</td>\n",
       "      <td>3.0</td>\n",
       "      <td>Dancing</td>\n",
       "    </tr>\n",
       "  </tbody>\n",
       "</table>\n",
       "</div>"
      ],
      "text/plain": [
       "     weight  birthyear  children    hobby\n",
       "bob      83       1984       3.0  Dancing"
      ]
     },
     "execution_count": 118,
     "metadata": {},
     "output_type": "execute_result"
    }
   ],
   "source": [
    "#accessing data that meet certain crieria\n",
    "\n",
    "print(people,'\\n')\n",
    "\n",
    "#people with weight > 90\n",
    "people[people['weight']>90] # This is somewhat a complicated rep.\n",
    "\n",
    "# weight>70 and born in the 80s\n",
    "people[(people['weight']>70) & (people['birthyear']< 1990)] #works :-)\n"
   ]
  },
  {
   "cell_type": "code",
   "execution_count": 142,
   "metadata": {},
   "outputs": [
    {
     "name": "stdout",
     "output_type": "stream",
     "text": [
      "         weight  height  birthyear  children    hobby  age  over30  rank\n",
      "alice        68     172       1985       NaN   Biking   34    True     1\n",
      "bob          83     181       1984       3.0  Dancing   35    True     2\n",
      "charles     112     190       1992       0.0      NaN   27   False     3 \n",
      "\n",
      "         weight  height  birthyear  children    hobby  age  over30  rank\n",
      "alice        68     172       1985       NaN   Biking   34    True     1\n",
      "bob          83     181       1984       3.0  Dancing   35    True     2\n",
      "charles     112     190       1992       0.0      NaN   27   False     3 \n",
      "\n",
      "         weight  height  birthyear  children    hobby  age  over30  rank  \\\n",
      "alice        68     172       1985       NaN   Biking   34    True     1   \n",
      "bob          83     181       1984       3.0  Dancing   35    True     2   \n",
      "charles     112     190       1992       0.0      NaN   27   False     3   \n",
      "\n",
      "         random  \n",
      "alice         1  \n",
      "bob           1  \n",
      "charles       1   \n",
      "\n",
      "         weight  height  birthyear  children    hobby  age  over30  rank\n",
      "alice        68     172       1985       NaN   Biking   34    True     1\n",
      "bob          83     181       1984       3.0  Dancing   35    True     2\n",
      "charles     112     190       1992       0.0      NaN   27   False     3 \n",
      "\n",
      "         weight  height  birthyear  children    hobby  age  over30  rank\n",
      "alice        68     172       1985       NaN   Biking   34    True     1\n",
      "bob          83     181       1984       3.0  Dancing   35    True     2\n",
      "charles     112     190       1992       0.0      NaN   27   False     3 \n",
      "\n",
      "         weight  height2  height  birthyear  children    hobby  age  over30  \\\n",
      "alice        68      172     172       1985       NaN   Biking   34    True   \n",
      "bob          83      181     181       1984       3.0  Dancing   35    True   \n",
      "charles     112      190     190       1992       0.0      NaN   27   False   \n",
      "\n",
      "         rank  \n",
      "alice       1  \n",
      "bob         2  \n",
      "charles     3   \n",
      "\n"
     ]
    }
   ],
   "source": [
    "#adding and deleting columns in a data-frame\n",
    "people['age'] = 2019 - people['birthyear'] \n",
    "print(people,'\\n')\n",
    "\n",
    "people['over30'] = people['age'] >30\n",
    "print(people,'\\n')\n",
    "\n",
    "people['random'] = 1\n",
    "print(people,'\\n')\n",
    "\n",
    "del people['random']\n",
    "print(people,'\\n')\n",
    "\n",
    "people['rank'] = range(1,4,1)  #wow, this works\n",
    "print(people,'\\n')\n",
    "\n",
    "# insert; can be used to add columns at a desired index\n",
    "people.insert(1,\"height2\",[172,181,190])\n",
    "print(people,'\\n')"
   ]
  },
  {
   "cell_type": "code",
   "execution_count": 147,
   "metadata": {},
   "outputs": [
    {
     "data": {
      "text/html": [
       "<div>\n",
       "<style scoped>\n",
       "    .dataframe tbody tr th:only-of-type {\n",
       "        vertical-align: middle;\n",
       "    }\n",
       "\n",
       "    .dataframe tbody tr th {\n",
       "        vertical-align: top;\n",
       "    }\n",
       "\n",
       "    .dataframe thead th {\n",
       "        text-align: right;\n",
       "    }\n",
       "</style>\n",
       "<table border=\"1\" class=\"dataframe\">\n",
       "  <thead>\n",
       "    <tr style=\"text-align: right;\">\n",
       "      <th></th>\n",
       "      <th>weight</th>\n",
       "      <th>height2</th>\n",
       "      <th>height</th>\n",
       "      <th>birthyear</th>\n",
       "      <th>children</th>\n",
       "      <th>hobby</th>\n",
       "      <th>age</th>\n",
       "      <th>over30</th>\n",
       "      <th>rank</th>\n",
       "      <th>BMI</th>\n",
       "      <th>has_pets</th>\n",
       "    </tr>\n",
       "  </thead>\n",
       "  <tbody>\n",
       "    <tr>\n",
       "      <th>alice</th>\n",
       "      <td>68</td>\n",
       "      <td>172</td>\n",
       "      <td>172</td>\n",
       "      <td>1985</td>\n",
       "      <td>NaN</td>\n",
       "      <td>Biking</td>\n",
       "      <td>34</td>\n",
       "      <td>True</td>\n",
       "      <td>1</td>\n",
       "      <td>0</td>\n",
       "      <td>1</td>\n",
       "    </tr>\n",
       "    <tr>\n",
       "      <th>bob</th>\n",
       "      <td>83</td>\n",
       "      <td>181</td>\n",
       "      <td>181</td>\n",
       "      <td>1984</td>\n",
       "      <td>3.0</td>\n",
       "      <td>Dancing</td>\n",
       "      <td>35</td>\n",
       "      <td>True</td>\n",
       "      <td>2</td>\n",
       "      <td>0</td>\n",
       "      <td>1</td>\n",
       "    </tr>\n",
       "    <tr>\n",
       "      <th>charles</th>\n",
       "      <td>112</td>\n",
       "      <td>190</td>\n",
       "      <td>190</td>\n",
       "      <td>1992</td>\n",
       "      <td>0.0</td>\n",
       "      <td>NaN</td>\n",
       "      <td>27</td>\n",
       "      <td>False</td>\n",
       "      <td>3</td>\n",
       "      <td>0</td>\n",
       "      <td>1</td>\n",
       "    </tr>\n",
       "  </tbody>\n",
       "</table>\n",
       "</div>"
      ],
      "text/plain": [
       "         weight  height2  height  birthyear  children    hobby  age  over30  \\\n",
       "alice        68      172     172       1985       NaN   Biking   34    True   \n",
       "bob          83      181     181       1984       3.0  Dancing   35    True   \n",
       "charles     112      190     190       1992       0.0      NaN   27   False   \n",
       "\n",
       "         rank  BMI  has_pets  \n",
       "alice       1    0         1  \n",
       "bob         2    0         1  \n",
       "charles     3    0         1  "
      ]
     },
     "execution_count": 147,
     "metadata": {},
     "output_type": "execute_result"
    }
   ],
   "source": [
    "# creating columns and derived data-frames, using assign()\n",
    "#assign returns a data frame - doesn't modify the parent one\n",
    "\n",
    "people3 = people.assign (\n",
    "    BMI = 0,\n",
    "    has_pets = 1\n",
    "\n",
    ")\n",
    "\n",
    "people3\n",
    "\n"
   ]
  },
  {
   "cell_type": "code",
   "execution_count": 153,
   "metadata": {},
   "outputs": [
    {
     "data": {
      "text/html": [
       "<div>\n",
       "<style scoped>\n",
       "    .dataframe tbody tr th:only-of-type {\n",
       "        vertical-align: middle;\n",
       "    }\n",
       "\n",
       "    .dataframe tbody tr th {\n",
       "        vertical-align: top;\n",
       "    }\n",
       "\n",
       "    .dataframe thead th {\n",
       "        text-align: right;\n",
       "    }\n",
       "</style>\n",
       "<table border=\"1\" class=\"dataframe\">\n",
       "  <thead>\n",
       "    <tr style=\"text-align: right;\">\n",
       "      <th></th>\n",
       "      <th>weight</th>\n",
       "      <th>height2</th>\n",
       "      <th>height</th>\n",
       "      <th>birthyear</th>\n",
       "      <th>children</th>\n",
       "      <th>hobby</th>\n",
       "      <th>age</th>\n",
       "      <th>over30</th>\n",
       "      <th>rank</th>\n",
       "      <th>BMI</th>\n",
       "      <th>has_pets</th>\n",
       "      <th>gundu_buskoo</th>\n",
       "    </tr>\n",
       "  </thead>\n",
       "  <tbody>\n",
       "    <tr>\n",
       "      <th>alice</th>\n",
       "      <td>68</td>\n",
       "      <td>172</td>\n",
       "      <td>172</td>\n",
       "      <td>1985</td>\n",
       "      <td>NaN</td>\n",
       "      <td>Biking</td>\n",
       "      <td>34</td>\n",
       "      <td>True</td>\n",
       "      <td>1</td>\n",
       "      <td>0</td>\n",
       "      <td>1</td>\n",
       "      <td>False</td>\n",
       "    </tr>\n",
       "    <tr>\n",
       "      <th>bob</th>\n",
       "      <td>83</td>\n",
       "      <td>181</td>\n",
       "      <td>181</td>\n",
       "      <td>1984</td>\n",
       "      <td>3.0</td>\n",
       "      <td>Dancing</td>\n",
       "      <td>35</td>\n",
       "      <td>True</td>\n",
       "      <td>2</td>\n",
       "      <td>0</td>\n",
       "      <td>1</td>\n",
       "      <td>True</td>\n",
       "    </tr>\n",
       "    <tr>\n",
       "      <th>charles</th>\n",
       "      <td>112</td>\n",
       "      <td>190</td>\n",
       "      <td>190</td>\n",
       "      <td>1992</td>\n",
       "      <td>0.0</td>\n",
       "      <td>NaN</td>\n",
       "      <td>27</td>\n",
       "      <td>False</td>\n",
       "      <td>3</td>\n",
       "      <td>0</td>\n",
       "      <td>1</td>\n",
       "      <td>True</td>\n",
       "    </tr>\n",
       "  </tbody>\n",
       "</table>\n",
       "</div>"
      ],
      "text/plain": [
       "         weight  height2  height  birthyear  children    hobby  age  over30  \\\n",
       "alice        68      172     172       1985       NaN   Biking   34    True   \n",
       "bob          83      181     181       1984       3.0  Dancing   35    True   \n",
       "charles     112      190     190       1992       0.0      NaN   27   False   \n",
       "\n",
       "         rank  BMI  has_pets  gundu_buskoo  \n",
       "alice       1    0         1         False  \n",
       "bob         2    0         1          True  \n",
       "charles     3    0         1          True  "
      ]
     },
     "execution_count": 153,
     "metadata": {},
     "output_type": "execute_result"
    }
   ],
   "source": [
    "# Evaluating an expression - THIS IS VERY USEFUL\n",
    "\n",
    "people3.eval(\"weight >70\") #very cool. It doesn't mutate the data-frame\n",
    "people3\n",
    "\n",
    "people3.eval(\"gundu_buskoo = weight >70\") #returns a df; doesn't mutate\n",
    "people3\n",
    "\n",
    "people3.eval(\"gundu_buskoo = weight >70\",inplace = True) #mutates; IMP\n",
    "people3\n",
    "\n",
    "#this is a very important thing, helps me do a lot with df"
   ]
  },
  {
   "cell_type": "code",
   "execution_count": 159,
   "metadata": {},
   "outputs": [
    {
     "data": {
      "text/html": [
       "<div>\n",
       "<style scoped>\n",
       "    .dataframe tbody tr th:only-of-type {\n",
       "        vertical-align: middle;\n",
       "    }\n",
       "\n",
       "    .dataframe tbody tr th {\n",
       "        vertical-align: top;\n",
       "    }\n",
       "\n",
       "    .dataframe thead th {\n",
       "        text-align: right;\n",
       "    }\n",
       "</style>\n",
       "<table border=\"1\" class=\"dataframe\">\n",
       "  <thead>\n",
       "    <tr style=\"text-align: right;\">\n",
       "      <th></th>\n",
       "      <th>weight</th>\n",
       "      <th>height2</th>\n",
       "      <th>height</th>\n",
       "      <th>birthyear</th>\n",
       "      <th>children</th>\n",
       "      <th>hobby</th>\n",
       "      <th>age</th>\n",
       "      <th>over30</th>\n",
       "      <th>rank</th>\n",
       "      <th>BMI</th>\n",
       "      <th>has_pets</th>\n",
       "      <th>gundu_buskoo</th>\n",
       "    </tr>\n",
       "  </thead>\n",
       "  <tbody>\n",
       "    <tr>\n",
       "      <th>alice</th>\n",
       "      <td>68</td>\n",
       "      <td>172</td>\n",
       "      <td>172</td>\n",
       "      <td>1985</td>\n",
       "      <td>NaN</td>\n",
       "      <td>Biking</td>\n",
       "      <td>34</td>\n",
       "      <td>True</td>\n",
       "      <td>1</td>\n",
       "      <td>0</td>\n",
       "      <td>1</td>\n",
       "      <td>False</td>\n",
       "    </tr>\n",
       "  </tbody>\n",
       "</table>\n",
       "</div>"
      ],
      "text/plain": [
       "       weight  height2  height  birthyear  children   hobby  age  over30  \\\n",
       "alice      68      172     172       1985       NaN  Biking   34    True   \n",
       "\n",
       "       rank  BMI  has_pets  gundu_buskoo  \n",
       "alice     1    0         1         False  "
      ]
     },
     "execution_count": 159,
     "metadata": {},
     "output_type": "execute_result"
    }
   ],
   "source": [
    "# Querying a data frame - another very important topic\n",
    "people4 = people3.query(\"weight <90 and age <35\") #it works\n",
    "\n",
    "people4"
   ]
  },
  {
   "cell_type": "code",
   "execution_count": 161,
   "metadata": {},
   "outputs": [
    {
     "data": {
      "text/html": [
       "<div>\n",
       "<style scoped>\n",
       "    .dataframe tbody tr th:only-of-type {\n",
       "        vertical-align: middle;\n",
       "    }\n",
       "\n",
       "    .dataframe tbody tr th {\n",
       "        vertical-align: top;\n",
       "    }\n",
       "\n",
       "    .dataframe thead th {\n",
       "        text-align: right;\n",
       "    }\n",
       "</style>\n",
       "<table border=\"1\" class=\"dataframe\">\n",
       "  <thead>\n",
       "    <tr style=\"text-align: right;\">\n",
       "      <th></th>\n",
       "      <th>weight</th>\n",
       "      <th>height2</th>\n",
       "      <th>height</th>\n",
       "      <th>birthyear</th>\n",
       "      <th>children</th>\n",
       "      <th>hobby</th>\n",
       "      <th>age</th>\n",
       "      <th>over30</th>\n",
       "      <th>rank</th>\n",
       "      <th>BMI</th>\n",
       "      <th>has_pets</th>\n",
       "      <th>gundu_buskoo</th>\n",
       "    </tr>\n",
       "  </thead>\n",
       "  <tbody>\n",
       "    <tr>\n",
       "      <th>charles</th>\n",
       "      <td>112</td>\n",
       "      <td>190</td>\n",
       "      <td>190</td>\n",
       "      <td>1992</td>\n",
       "      <td>0.0</td>\n",
       "      <td>NaN</td>\n",
       "      <td>27</td>\n",
       "      <td>False</td>\n",
       "      <td>3</td>\n",
       "      <td>0</td>\n",
       "      <td>1</td>\n",
       "      <td>True</td>\n",
       "    </tr>\n",
       "    <tr>\n",
       "      <th>alice</th>\n",
       "      <td>68</td>\n",
       "      <td>172</td>\n",
       "      <td>172</td>\n",
       "      <td>1985</td>\n",
       "      <td>NaN</td>\n",
       "      <td>Biking</td>\n",
       "      <td>34</td>\n",
       "      <td>True</td>\n",
       "      <td>1</td>\n",
       "      <td>0</td>\n",
       "      <td>1</td>\n",
       "      <td>False</td>\n",
       "    </tr>\n",
       "    <tr>\n",
       "      <th>bob</th>\n",
       "      <td>83</td>\n",
       "      <td>181</td>\n",
       "      <td>181</td>\n",
       "      <td>1984</td>\n",
       "      <td>3.0</td>\n",
       "      <td>Dancing</td>\n",
       "      <td>35</td>\n",
       "      <td>True</td>\n",
       "      <td>2</td>\n",
       "      <td>0</td>\n",
       "      <td>1</td>\n",
       "      <td>True</td>\n",
       "    </tr>\n",
       "  </tbody>\n",
       "</table>\n",
       "</div>"
      ],
      "text/plain": [
       "         weight  height2  height  birthyear  children    hobby  age  over30  \\\n",
       "charles     112      190     190       1992       0.0      NaN   27   False   \n",
       "alice        68      172     172       1985       NaN   Biking   34    True   \n",
       "bob          83      181     181       1984       3.0  Dancing   35    True   \n",
       "\n",
       "         rank  BMI  has_pets  gundu_buskoo  \n",
       "charles     3    0         1          True  \n",
       "alice       1    0         1         False  \n",
       "bob         2    0         1          True  "
      ]
     },
     "execution_count": 161,
     "metadata": {},
     "output_type": "execute_result"
    }
   ],
   "source": [
    "#Sorting a dataframe\n",
    "\n",
    "people3.sort_values(by=\"age\", inplace=True) #inplace = yes mutates the df\n",
    "people3\n"
   ]
  },
  {
   "cell_type": "markdown",
   "metadata": {},
   "source": [
    "**Happy to have covered a reasonable ground**\n",
    "**Well Done :)**"
   ]
  },
  {
   "cell_type": "code",
   "execution_count": 166,
   "metadata": {},
   "outputs": [
    {
     "data": {
      "image/png": "[encoded data removed]",
      "text/plain": [
       "<Figure size 432x288 with 1 Axes>"
      ]
     },
     "metadata": {
      "needs_background": "light"
     },
     "output_type": "display_data"
    },
    {
     "data": {
      "image/png": "[encoded data removed]",
      "text/plain": [
       "<Figure size 432x288 with 1 Axes>"
      ]
     },
     "metadata": {
      "needs_background": "light"
     },
     "output_type": "display_data"
    }
   ],
   "source": [
    "#Plotting a data-frame, very important from data exploration POV\n",
    "people3.plot(kind = \"scatter\", x = \"weight\",y = \"height\")\n",
    "plt.show()\n",
    "\n",
    "people3.plot(kind = \"line\", x = \"weight\",y = \"height\" )\n",
    "plt.show()\n"
   ]
  },
  {
   "cell_type": "code",
   "execution_count": 176,
   "metadata": {},
   "outputs": [
    {
     "name": "stdout",
     "output_type": "stream",
     "text": [
      "         sep  oct  nov\n",
      "alice      8    8    9\n",
      "bob       10    9    9\n",
      "charles    4    8    2\n",
      "darwin     9   10   10 \n",
      "\n",
      "           sep   oct    nov\n",
      "alice     True  True   True\n",
      "bob       True  True   True\n",
      "charles  False  True  False\n",
      "darwin    True  True   True \n",
      "\n"
     ]
    }
   ],
   "source": [
    "\"\"\"\n",
    "Creating a data frame using an NumPy array\n",
    "\"\"\"\n",
    "\n",
    "grades_array = np.array([[8,8,9],[10,9,9],[4,8,2],[9,10,10]])\n",
    "type(grades_array)\n",
    "grades_array.shape\n",
    "\n",
    "grades = pd.DataFrame(\n",
    "    grades_array,\n",
    "    columns = [\"sep\",\"oct\",\"nov\"],\n",
    "    index = [\"alice\",\"bob\",\"charles\",\"darwin\"]\n",
    ")\n",
    "\n",
    "print(grades,'\\n') # grades\n",
    "\n",
    "\n",
    "#some numPy math functions on this data frame\n",
    "np.sqrt (grades) # works\n",
    "grades + 1 #works, does not mutate\n",
    "print(grades > 5,'\\n') #works"
   ]
  },
  {
   "cell_type": "code",
   "execution_count": 180,
   "metadata": {},
   "outputs": [
    {
     "name": "stdout",
     "output_type": "stream",
     "text": [
      "7.75\n",
      "\n",
      "\n",
      "sep    7.75\n",
      "oct    8.75\n",
      "nov    7.50\n",
      "dtype: float64\n"
     ]
    }
   ],
   "source": [
    "#columnwise and table-wise operations\n",
    "\n",
    "print(grades['sep'].mean()) #great\n",
    "print('\\n')\n",
    "type(grades['sep'].mean())\n",
    "\n",
    "print(grades.mean()) #these aggregation functions return a series object"
   ]
  },
  {
   "cell_type": "code",
   "execution_count": 182,
   "metadata": {},
   "outputs": [
    {
     "data": {
      "text/plain": [
       "sep    False\n",
       "oct     True\n",
       "nov    False\n",
       "dtype: bool"
      ]
     },
     "execution_count": 182,
     "metadata": {},
     "output_type": "execute_result"
    }
   ],
   "source": [
    "# Column-wise and Row-wise operations\n",
    "(grades > 5).all() #by default this is columnwise"
   ]
  },
  {
   "cell_type": "code",
   "execution_count": 184,
   "metadata": {},
   "outputs": [
    {
     "data": {
      "text/plain": [
       "alice       True\n",
       "bob         True\n",
       "charles    False\n",
       "darwin      True\n",
       "dtype: bool"
      ]
     },
     "execution_count": 184,
     "metadata": {},
     "output_type": "execute_result"
    }
   ],
   "source": [
    "# Column-wise and Row-wise operations\n",
    "(grades > 5).all(axis=1) #row-wise version"
   ]
  },
  {
   "cell_type": "code",
   "execution_count": 186,
   "metadata": {},
   "outputs": [
    {
     "data": {
      "text/html": [
       "<div>\n",
       "<style scoped>\n",
       "    .dataframe tbody tr th:only-of-type {\n",
       "        vertical-align: middle;\n",
       "    }\n",
       "\n",
       "    .dataframe tbody tr th {\n",
       "        vertical-align: top;\n",
       "    }\n",
       "\n",
       "    .dataframe thead th {\n",
       "        text-align: right;\n",
       "    }\n",
       "</style>\n",
       "<table border=\"1\" class=\"dataframe\">\n",
       "  <thead>\n",
       "    <tr style=\"text-align: right;\">\n",
       "      <th></th>\n",
       "      <th>sep</th>\n",
       "      <th>oct</th>\n",
       "      <th>nov</th>\n",
       "    </tr>\n",
       "  </thead>\n",
       "  <tbody>\n",
       "    <tr>\n",
       "      <th>alice</th>\n",
       "      <td>0.0</td>\n",
       "      <td>0.0</td>\n",
       "      <td>1.0</td>\n",
       "    </tr>\n",
       "    <tr>\n",
       "      <th>bob</th>\n",
       "      <td>2.0</td>\n",
       "      <td>1.0</td>\n",
       "      <td>1.0</td>\n",
       "    </tr>\n",
       "    <tr>\n",
       "      <th>charles</th>\n",
       "      <td>-4.0</td>\n",
       "      <td>0.0</td>\n",
       "      <td>-6.0</td>\n",
       "    </tr>\n",
       "    <tr>\n",
       "      <th>darwin</th>\n",
       "      <td>1.0</td>\n",
       "      <td>2.0</td>\n",
       "      <td>2.0</td>\n",
       "    </tr>\n",
       "  </tbody>\n",
       "</table>\n",
       "</div>"
      ],
      "text/plain": [
       "         sep  oct  nov\n",
       "alice    0.0  0.0  1.0\n",
       "bob      2.0  1.0  1.0\n",
       "charles -4.0  0.0 -6.0\n",
       "darwin   1.0  2.0  2.0"
      ]
     },
     "execution_count": 186,
     "metadata": {},
     "output_type": "execute_result"
    }
   ],
   "source": [
    "#now this makes it easy for normalization and feature scaling = VERY IMP\n",
    "grades - grades.values.mean()"
   ]
  },
  {
   "cell_type": "code",
   "execution_count": 187,
   "metadata": {},
   "outputs": [
    {
     "data": {
      "text/plain": [
       "'\\nAutomatic Alignment: Skipping this topic\\n'"
      ]
     },
     "execution_count": 187,
     "metadata": {},
     "output_type": "execute_result"
    }
   ],
   "source": [
    "\"\"\"\n",
    "Automatic Alignment: Skipping this topic\n",
    "\"\"\"\n",
    "\n",
    "#TBD\n",
    "#TBD"
   ]
  },
  {
   "cell_type": "code",
   "execution_count": 194,
   "metadata": {},
   "outputs": [
    {
     "name": "stdout",
     "output_type": "stream",
     "text": [
      "         dec   nov   oct  sep\n",
      "alice    NaN   NaN   NaN  NaN\n",
      "bob      NaN   NaN   9.0  NaN\n",
      "charles  NaN   5.0  11.0  NaN\n",
      "colin    NaN   NaN   NaN  NaN\n",
      "darwin   NaN  11.0  10.0  NaN \n",
      "\n"
     ]
    },
    {
     "data": {
      "text/html": [
       "<div>\n",
       "<style scoped>\n",
       "    .dataframe tbody tr th:only-of-type {\n",
       "        vertical-align: middle;\n",
       "    }\n",
       "\n",
       "    .dataframe tbody tr th {\n",
       "        vertical-align: top;\n",
       "    }\n",
       "\n",
       "    .dataframe thead th {\n",
       "        text-align: right;\n",
       "    }\n",
       "</style>\n",
       "<table border=\"1\" class=\"dataframe\">\n",
       "  <thead>\n",
       "    <tr style=\"text-align: right;\">\n",
       "      <th></th>\n",
       "      <th>dec</th>\n",
       "      <th>nov</th>\n",
       "      <th>oct</th>\n",
       "      <th>sep</th>\n",
       "    </tr>\n",
       "  </thead>\n",
       "  <tbody>\n",
       "    <tr>\n",
       "      <th>alice</th>\n",
       "      <td>NaN</td>\n",
       "      <td>NaN</td>\n",
       "      <td>NaN</td>\n",
       "      <td>NaN</td>\n",
       "    </tr>\n",
       "    <tr>\n",
       "      <th>bob</th>\n",
       "      <td>NaN</td>\n",
       "      <td>NaN</td>\n",
       "      <td>9.0</td>\n",
       "      <td>9.0</td>\n",
       "    </tr>\n",
       "    <tr>\n",
       "      <th>charles</th>\n",
       "      <td>NaN</td>\n",
       "      <td>5.0</td>\n",
       "      <td>11.0</td>\n",
       "      <td>11.0</td>\n",
       "    </tr>\n",
       "    <tr>\n",
       "      <th>colin</th>\n",
       "      <td>NaN</td>\n",
       "      <td>NaN</td>\n",
       "      <td>NaN</td>\n",
       "      <td>NaN</td>\n",
       "    </tr>\n",
       "    <tr>\n",
       "      <th>darwin</th>\n",
       "      <td>NaN</td>\n",
       "      <td>11.0</td>\n",
       "      <td>10.0</td>\n",
       "      <td>10.0</td>\n",
       "    </tr>\n",
       "  </tbody>\n",
       "</table>\n",
       "</div>"
      ],
      "text/plain": [
       "         dec   nov   oct   sep\n",
       "alice    NaN   NaN   NaN   NaN\n",
       "bob      NaN   NaN   9.0   9.0\n",
       "charles  NaN   5.0  11.0  11.0\n",
       "colin    NaN   NaN   NaN   NaN\n",
       "darwin   NaN  11.0  10.0  10.0"
      ]
     },
     "execution_count": 194,
     "metadata": {},
     "output_type": "execute_result"
    }
   ],
   "source": [
    "\"\"\"\n",
    "Handling Missing Data: Extremely Important\n",
    "\"\"\"\n",
    "\n",
    "#data frame preprocessing\n",
    "bonus_array = np.array([[0,np.nan,2],[np.nan,1,0],[0, 1, 0], [3, 3, 0]])\n",
    "bonus_points = pd.DataFrame(bonus_array, columns=[\"oct\", \"nov\", \"dec\"], index=[\"bob\",\"colin\", \"darwin\", \"charles\"])\n",
    "bonus_points\n",
    "\n",
    "grades3 = grades + bonus_points\n",
    "\n",
    "print(grades3,'\\n')\n",
    "\n",
    "\n",
    "#Approach 1 - replace na by a value\n",
    "grades3.fillna(0)\n",
    "\n",
    "#Approach 2a - interpolate vertically (columnwise)\n",
    "grades3.interpolate(axis =0)\n",
    "\n",
    "#Approach 2a - interpolate horizontally (row-wise)\n",
    "grades3.interpolate(axis =1) #it works - this is very imp\n"
   ]
  },
  {
   "cell_type": "code",
   "execution_count": 195,
   "metadata": {},
   "outputs": [],
   "source": [
    "\"\"\"\n",
    "More use cases for interpolate\n",
    "\"\"\"\n",
    "\n",
    "#TBD\n",
    "#TBD"
   ]
  },
  {
   "cell_type": "code",
   "execution_count": 206,
   "metadata": {},
   "outputs": [
    {
     "data": {
      "text/html": [
       "<div>\n",
       "<style scoped>\n",
       "    .dataframe tbody tr th:only-of-type {\n",
       "        vertical-align: middle;\n",
       "    }\n",
       "\n",
       "    .dataframe tbody tr th {\n",
       "        vertical-align: top;\n",
       "    }\n",
       "\n",
       "    .dataframe thead th {\n",
       "        text-align: right;\n",
       "    }\n",
       "</style>\n",
       "<table border=\"1\" class=\"dataframe\">\n",
       "  <thead>\n",
       "    <tr style=\"text-align: right;\">\n",
       "      <th></th>\n",
       "      <th>sep</th>\n",
       "      <th>oct</th>\n",
       "      <th>nov</th>\n",
       "    </tr>\n",
       "    <tr>\n",
       "      <th>hobby</th>\n",
       "      <th></th>\n",
       "      <th></th>\n",
       "      <th></th>\n",
       "    </tr>\n",
       "  </thead>\n",
       "  <tbody>\n",
       "    <tr>\n",
       "      <th>biking</th>\n",
       "      <td>8.0</td>\n",
       "      <td>8.0</td>\n",
       "      <td>9.0</td>\n",
       "    </tr>\n",
       "    <tr>\n",
       "      <th>dancing</th>\n",
       "      <td>9.5</td>\n",
       "      <td>9.5</td>\n",
       "      <td>9.5</td>\n",
       "    </tr>\n",
       "  </tbody>\n",
       "</table>\n",
       "</div>"
      ],
      "text/plain": [
       "         sep  oct  nov\n",
       "hobby                 \n",
       "biking   8.0  8.0  9.0\n",
       "dancing  9.5  9.5  9.5"
      ]
     },
     "execution_count": 206,
     "metadata": {},
     "output_type": "execute_result"
    }
   ],
   "source": [
    "\"\"\"\n",
    "Group by Functionality : VERY IMP\n",
    "\"\"\"\n",
    "\n",
    "grades\n",
    "\n",
    "grades[\"hobby\"] = [\"biking\",\"dancing\",np.nan,\"dancing\"]\n",
    "\n",
    "grades\n",
    "\n",
    "grouped_grades = grades.groupby(\"hobby\")\n",
    "\n",
    "grouped_grades #IMP: this doesn't print anything, its a template\n",
    "\n",
    "grouped_grades.mean()"
   ]
  },
  {
   "cell_type": "code",
   "execution_count": 217,
   "metadata": {},
   "outputs": [
    {
     "data": {
      "text/html": [
       "<div>\n",
       "<style scoped>\n",
       "    .dataframe tbody tr th:only-of-type {\n",
       "        vertical-align: middle;\n",
       "    }\n",
       "\n",
       "    .dataframe tbody tr th {\n",
       "        vertical-align: top;\n",
       "    }\n",
       "\n",
       "    .dataframe thead th {\n",
       "        text-align: right;\n",
       "    }\n",
       "</style>\n",
       "<table border=\"1\" class=\"dataframe\">\n",
       "  <thead>\n",
       "    <tr style=\"text-align: right;\">\n",
       "      <th></th>\n",
       "      <th>sep</th>\n",
       "      <th>oct</th>\n",
       "      <th>nov</th>\n",
       "      <th>hobby</th>\n",
       "    </tr>\n",
       "  </thead>\n",
       "  <tbody>\n",
       "    <tr>\n",
       "      <th>alice</th>\n",
       "      <td>8</td>\n",
       "      <td>8</td>\n",
       "      <td>9</td>\n",
       "      <td>biking</td>\n",
       "    </tr>\n",
       "    <tr>\n",
       "      <th>bob</th>\n",
       "      <td>10</td>\n",
       "      <td>9</td>\n",
       "      <td>9</td>\n",
       "      <td>dancing</td>\n",
       "    </tr>\n",
       "    <tr>\n",
       "      <th>charles</th>\n",
       "      <td>4</td>\n",
       "      <td>8</td>\n",
       "      <td>2</td>\n",
       "      <td>NaN</td>\n",
       "    </tr>\n",
       "    <tr>\n",
       "      <th>darwin</th>\n",
       "      <td>9</td>\n",
       "      <td>10</td>\n",
       "      <td>10</td>\n",
       "      <td>dancing</td>\n",
       "    </tr>\n",
       "  </tbody>\n",
       "</table>\n",
       "</div>"
      ],
      "text/plain": [
       "         sep  oct  nov    hobby\n",
       "alice      8    8    9   biking\n",
       "bob       10    9    9  dancing\n",
       "charles    4    8    2      NaN\n",
       "darwin     9   10   10  dancing"
      ]
     },
     "execution_count": 217,
     "metadata": {},
     "output_type": "execute_result"
    }
   ],
   "source": [
    "\"\"\"\n",
    "Pivot Tables in Pandas\n",
    "\"\"\"\n",
    "\n",
    "#creating a DF for Pivot analysis\n",
    "grades\n",
    "\n",
    "#example 1\n",
    "#still unable to figure tis out, fuck it"
   ]
  },
  {
   "cell_type": "code",
   "execution_count": 218,
   "metadata": {},
   "outputs": [
    {
     "data": {
      "text/plain": [
       "'\\nList:\\n    - large_df.head() #first 5\\n    - large_df.tail(n = 4) #last 4\\n    - large_df.info() #information on all the columns\\n    - large_df.describe() #summary statistics for each column  \\n'"
      ]
     },
     "execution_count": 218,
     "metadata": {},
     "output_type": "execute_result"
    }
   ],
   "source": [
    "\"\"\"\n",
    "Overview Functions eg. head, summary -- IMP\n",
    "\"\"\"\n",
    "\n",
    "\"\"\"\n",
    "List:\n",
    "    - large_df.head() #first 5\n",
    "    - large_df.tail(n = 4) #last 4\n",
    "    - large_df.info() #information on all the columns\n",
    "    - large_df.describe() #summary statistics for each column  \n",
    "\"\"\""
   ]
  },
  {
   "cell_type": "code",
   "execution_count": 219,
   "metadata": {},
   "outputs": [
    {
     "data": {
      "text/plain": [
       "'\\nSaving and Loading Data Frames -- NEEDED\\n'"
      ]
     },
     "execution_count": 219,
     "metadata": {},
     "output_type": "execute_result"
    }
   ],
   "source": [
    "\"\"\"\n",
    "Saving and Loading Data Frames -- NEEDED\n",
    "\"\"\"\n",
    "\n",
    "#TBD\n",
    "#TBD"
   ]
  },
  {
   "cell_type": "code",
   "execution_count": 222,
   "metadata": {},
   "outputs": [
    {
     "data": {
      "text/plain": [
       "'\\nUse pd.concat for concatenation\\n'"
      ]
     },
     "execution_count": 222,
     "metadata": {},
     "output_type": "execute_result"
    }
   ],
   "source": [
    "\"\"\"\n",
    "Combining Data Frames -- VERY IMP\n",
    "\"\"\"\n",
    "\n",
    "\"\"\"\n",
    "Merge or Join\n",
    "  - pd.merge(left=city_loc, right=city_pop, on=\"city\")\n",
    "  - all_cities = pd.merge(left=city_loc, right=city_pop, on=\"city\", how=\"outer\")\n",
    "  - pd.merge(left=city_loc, right=city_pop2, left_on=\"city\", right_on=\"name\")\n",
    "\"\"\"\n",
    "\n",
    "#the 3rd case above is imp, when columns have diff names in diff tables\n",
    "\n",
    "\"\"\"\n",
    "Use pd.concat for concatenation\n",
    "\"\"\""
   ]
  },
  {
   "cell_type": "code",
   "execution_count": 221,
   "metadata": {},
   "outputs": [
    {
     "data": {
      "text/plain": [
       "'\\nHandling Categorical Variables -- NEEDED\\n'"
      ]
     },
     "execution_count": 221,
     "metadata": {},
     "output_type": "execute_result"
    }
   ],
   "source": [
    "\"\"\"\n",
    "Handling Categorical Variables -- VERY IMP\n",
    "\"\"\"\n",
    "\n",
    "#TBD\n",
    "#TBD"
   ]
  },
  {
   "cell_type": "code",
   "execution_count": null,
   "metadata": {},
   "outputs": [],
   "source": []
  }
 ],
 "metadata": {
  "kernelspec": {
   "display_name": "Python 3",
   "language": "python",
   "name": "python3"
  },
  "language_info": {
   "codemirror_mode": {
    "name": "ipython",
    "version": 3
   },
   "file_extension": ".py",
   "mimetype": "text/x-python",
   "name": "python",
   "nbconvert_exporter": "python",
   "pygments_lexer": "ipython3",
   "version": "3.7.2"
  },
  "toc": {
   "base_numbering": 1,
   "nav_menu": {},
   "number_sections": true,
   "sideBar": true,
   "skip_h1_title": false,
   "title_cell": "Table of Contents",
   "title_sidebar": "Contents",
   "toc_cell": false,
   "toc_position": {},
   "toc_section_display": true,
   "toc_window_display": false
  }
 },
 "nbformat": 4,
 "nbformat_minor": 2
}
