{
 "cells": [
  {
   "cell_type": "markdown",
   "metadata": {},
   "source": [
    "## Exploring Gradient Descent, Polynomial Regression and Regularization Techniques using IRIS Data Set\n",
    "\n",
    "IRIS is a simple dataset that comprises the `sepal` and `petal` dimensions of 3 types of IRIS flowers. \n",
    "\n",
    "I'll be using this dataset to test out a couple of algorithms for **classification** i.e. `Logistic Regression` and `Softmax Regression`.\n",
    "\n",
    "I'll be exploring 2 versions of **Gradient Descent** i.e. `Batch` and `Stochastic`\n",
    "\n",
    "I'll be also be experimenting with a few techniques for **regularization** i.e. `Ridge`and `Lasso` techniques. \n",
    "\n",
    "Additionally, I have also implemented a version of regularization that stops the training process as soon as the generalization error starts increasing i.e. `Early Stopping`. As I dicovered at my end, as others have, that it makes `Stochastic Gradient Descent` converge much **better** \n",
    "\n",
    "<br>\n",
    "\n",
    "Given the large set of things on agenda, the table of contents below should be helpful.\n",
    "\n"
   ]
  },
  {
   "cell_type": "markdown",
   "metadata": {},
   "source": [
    "**Table of Contents**\n",
    "1. **Exploring IRIS Data**\n",
    "2. **Preparing the Data for Logistic *(k=2)* and Multiclass *(k=3)* usecases**\n",
    "3. **(2 Class) Logistic Regression with two varients of Gradient Descent - Batch and Stochastic**\n",
    "4. **(2 class) SGD with *quasi* regulartization via Early Stopping - does it give better results than *vanilla* SGD?**\n",
    "5. **(2 class) Exploring Polynomial Logistic Regression**\n",
    "6. **(2 class) Stochastic Gradient Descent with `Ridge` and `Lasso` regularizations**\n"
   ]
  },
  {
   "cell_type": "markdown",
   "metadata": {},
   "source": [
    "***\n",
    "\n",
    "\n",
    "## Exploring Data\n",
    "\n"
   ]
  },
  {
   "cell_type": "code",
   "execution_count": 5,
   "metadata": {},
   "outputs": [
    {
     "data": {
      "text/plain": [
       "['data', 'target', 'target_names', 'DESCR', 'feature_names', 'filename']"
      ]
     },
     "execution_count": 5,
     "metadata": {},
     "output_type": "execute_result"
    }
   ],
   "source": [
    "from sklearn import datasets\n",
    "iris = datasets.load_iris()\n",
    "\n",
    "list(iris.keys())"
   ]
  },
  {
   "cell_type": "code",
   "execution_count": 7,
   "metadata": {},
   "outputs": [
    {
     "name": "stdout",
     "output_type": "stream",
     "text": [
      ".. _iris_dataset:\n",
      "\n",
      "Iris plants dataset\n",
      "--------------------\n",
      "\n",
      "**Data Set Characteristics:**\n",
      "\n",
      "    :Number of Instances: 150 (50 in each of three classes)\n",
      "    :Number of Attributes: 4 numeric, predictive attributes and the class\n",
      "    :Attribute Information:\n",
      "        - sepal length in cm\n",
      "        - sepal width in cm\n",
      "        - petal length in cm\n",
      "        - petal width in cm\n",
      "        - class:\n",
      "                - Iris-Setosa\n",
      "                - Iris-Versicolour\n",
      "                - Iris-Virginica\n",
      "                \n",
      "    :Summary Statistics:\n",
      "\n",
      "    ============== ==== ==== ======= ===== ====================\n",
      "                    Min  Max   Mean    SD   Class Correlation\n",
      "    ============== ==== ==== ======= ===== ====================\n",
      "    sepal length:   4.3  7.9   5.84   0.83    0.7826\n",
      "    sepal width:    2.0  4.4   3.05   0.43   -0.4194\n",
      "    petal length:   1.0  6.9   3.76   1.76    0.9490  (high!)\n",
      "    petal width:    0.1  2.5   1.20   0.76    0.9565  (high!)\n",
      "    ============== ==== ==== ======= ===== ====================\n",
      "\n",
      "    :Missing Attribute Values: None\n",
      "    :Class Distribution: 33.3% for each of 3 classes.\n",
      "    :Creator: R.A. Fisher\n",
      "    :Donor: Michael Marshall (MARSHALL%PLU@io.arc.nasa.gov)\n",
      "    :Date: July, 1988\n",
      "\n",
      "The famous Iris database, first used by Sir R.A. Fisher. The dataset is taken\n",
      "from Fisher's paper. Note that it's the same as in R, but not as in the UCI\n",
      "Machine Learning Repository, which has two wrong data points.\n",
      "\n",
      "This is perhaps the best known database to be found in the\n",
      "pattern recognition literature.  Fisher's paper is a classic in the field and\n",
      "is referenced frequently to this day.  (See Duda & Hart, for example.)  The\n",
      "data set contains 3 classes of 50 instances each, where each class refers to a\n",
      "type of iris plant.  One class is linearly separable from the other 2; the\n",
      "latter are NOT linearly separable from each other.\n",
      "\n",
      ".. topic:: References\n",
      "\n",
      "   - Fisher, R.A. \"The use of multiple measurements in taxonomic problems\"\n",
      "     Annual Eugenics, 7, Part II, 179-188 (1936); also in \"Contributions to\n",
      "     Mathematical Statistics\" (John Wiley, NY, 1950).\n",
      "   - Duda, R.O., & Hart, P.E. (1973) Pattern Classification and Scene Analysis.\n",
      "     (Q327.D83) John Wiley & Sons.  ISBN 0-471-22361-1.  See page 218.\n",
      "   - Dasarathy, B.V. (1980) \"Nosing Around the Neighborhood: A New System\n",
      "     Structure and Classification Rule for Recognition in Partially Exposed\n",
      "     Environments\".  IEEE Transactions on Pattern Analysis and Machine\n",
      "     Intelligence, Vol. PAMI-2, No. 1, 67-71.\n",
      "   - Gates, G.W. (1972) \"The Reduced Nearest Neighbor Rule\".  IEEE Transactions\n",
      "     on Information Theory, May 1972, 431-433.\n",
      "   - See also: 1988 MLC Proceedings, 54-64.  Cheeseman et al\"s AUTOCLASS II\n",
      "     conceptual clustering system finds 3 classes in the data.\n",
      "   - Many, many more ...\n"
     ]
    }
   ],
   "source": [
    "print(iris.DESCR)"
   ]
  },
  {
   "cell_type": "code",
   "execution_count": 18,
   "metadata": {},
   "outputs": [
    {
     "name": "stdout",
     "output_type": "stream",
     "text": [
      "(150, 4) \n",
      "\n",
      "[[5.1 3.5 1.4 0.2]\n",
      " [4.9 3.  1.4 0.2]\n",
      " [4.7 3.2 1.3 0.2]\n",
      " [4.6 3.1 1.5 0.2]\n",
      " [5.  3.6 1.4 0.2]]\n"
     ]
    }
   ],
   "source": [
    "X = iris[\"data\"]\n",
    "type(X)\n",
    "\n",
    "print(X.shape,\"\\n\")\n",
    "\n",
    "print(X[0:5,:])"
   ]
  },
  {
   "cell_type": "code",
   "execution_count": 31,
   "metadata": {},
   "outputs": [
    {
     "name": "stdout",
     "output_type": "stream",
     "text": [
      "(150,) \n",
      "\n",
      "[0 0 0 0 0]\n",
      "(150, 1)\n"
     ]
    }
   ],
   "source": [
    "y = iris[\"target\"]\n",
    "type(y)\n",
    "\n",
    "print(y.shape,\"\\n\")\n",
    "\n",
    "print(y[0:5])\n",
    "\n",
    "y = y.reshape((150,1))\n",
    "\n",
    "print(y.shape)"
   ]
  },
  {
   "cell_type": "markdown",
   "metadata": {},
   "source": [
    "## Preparing Data for k=2 and k = 3 use cases"
   ]
  },
  {
   "cell_type": "code",
   "execution_count": 36,
   "metadata": {},
   "outputs": [
    {
     "name": "stdout",
     "output_type": "stream",
     "text": [
      "[[5.3 3.7 1.5 0.2 0. ]\n",
      " [5.  3.3 1.4 0.2 0. ]\n",
      " [7.  3.2 4.7 1.4 1. ]\n",
      " [6.4 3.2 4.5 1.5 1. ]]\n",
      "training set:  (120, 5)\n",
      "\n",
      "\n",
      "test set:  (30, 5)\n"
     ]
    }
   ],
   "source": [
    "import numpy as np\n",
    "iris = np.hstack([X,y])\n",
    "\n",
    "print(iris[48:52,:])\n",
    "\n",
    "# splitting data into training and validation sets\n",
    "from sklearn.model_selection import train_test_split\n",
    "\n",
    "train, val = train_test_split(iris,test_size = 0.2, random_state = 42)\n",
    "\n",
    "print(\"training set: \",train.shape)\n",
    "print('\\n')\n",
    "print(\"test set: \",val.shape)"
   ]
  },
  {
   "cell_type": "code",
   "execution_count": 44,
   "metadata": {},
   "outputs": [
    {
     "data": {
      "text/html": [
       "<div>\n",
       "<style scoped>\n",
       "    .dataframe tbody tr th:only-of-type {\n",
       "        vertical-align: middle;\n",
       "    }\n",
       "\n",
       "    .dataframe tbody tr th {\n",
       "        vertical-align: top;\n",
       "    }\n",
       "\n",
       "    .dataframe thead th {\n",
       "        text-align: right;\n",
       "    }\n",
       "</style>\n",
       "<table border=\"1\" class=\"dataframe\">\n",
       "  <thead>\n",
       "    <tr style=\"text-align: right;\">\n",
       "      <th></th>\n",
       "      <th>a</th>\n",
       "      <th>b</th>\n",
       "      <th>c</th>\n",
       "      <th>d</th>\n",
       "    </tr>\n",
       "    <tr>\n",
       "      <th>class</th>\n",
       "      <th></th>\n",
       "      <th></th>\n",
       "      <th></th>\n",
       "      <th></th>\n",
       "    </tr>\n",
       "  </thead>\n",
       "  <tbody>\n",
       "    <tr>\n",
       "      <th>0.0</th>\n",
       "      <td>40.0</td>\n",
       "      <td>40.0</td>\n",
       "      <td>40.0</td>\n",
       "      <td>40.0</td>\n",
       "    </tr>\n",
       "    <tr>\n",
       "      <th>1.0</th>\n",
       "      <td>41.0</td>\n",
       "      <td>41.0</td>\n",
       "      <td>41.0</td>\n",
       "      <td>41.0</td>\n",
       "    </tr>\n",
       "    <tr>\n",
       "      <th>2.0</th>\n",
       "      <td>39.0</td>\n",
       "      <td>39.0</td>\n",
       "      <td>39.0</td>\n",
       "      <td>39.0</td>\n",
       "    </tr>\n",
       "    <tr>\n",
       "      <th>All</th>\n",
       "      <td>120.0</td>\n",
       "      <td>120.0</td>\n",
       "      <td>120.0</td>\n",
       "      <td>120.0</td>\n",
       "    </tr>\n",
       "  </tbody>\n",
       "</table>\n",
       "</div>"
      ],
      "text/plain": [
       "           a      b      c      d\n",
       "class                            \n",
       "0.0     40.0   40.0   40.0   40.0\n",
       "1.0     41.0   41.0   41.0   41.0\n",
       "2.0     39.0   39.0   39.0   39.0\n",
       "All    120.0  120.0  120.0  120.0"
      ]
     },
     "execution_count": 44,
     "metadata": {},
     "output_type": "execute_result"
    }
   ],
   "source": [
    "# quickly checking of the training set is representative across the three class\n",
    "import pandas as pd\n",
    "train_df = pd.DataFrame(train, columns = ['a','b','c','d','class'])\n",
    "\n",
    "pd.pivot_table(train_df, index = ['class'],aggfunc=len, margins = True )  #Looks good, lets move on."
   ]
  },
  {
   "cell_type": "code",
   "execution_count": 60,
   "metadata": {},
   "outputs": [
    {
     "name": "stdout",
     "output_type": "stream",
     "text": [
      "sample data:  [0 1 2 0]\n",
      "sample data:  [[5.4 3.9 1.7 0.4]\n",
      " [5.  2.3 3.3 1. ]\n",
      " [6.4 2.7 5.3 1.9]\n",
      " [5.  3.3 1.4 0.2]]\n",
      "X_train Shape:  (120, 4)\n",
      "Y_train Shape:  (120,)\n"
     ]
    }
   ],
   "source": [
    "X_train = train[:,0:4]\n",
    "y_train_3cls = np.array(train[:,4],dtype = int)\n",
    "\n",
    "X_val = val[:,0:4]\n",
    "y_val_3cls = np.array(val[:,4],dtype = int)\n",
    "\n",
    "\n",
    "print(\"sample data: \",y_train_3cls[48:52])\n",
    "print(\"sample data: \",X_train[48:52,:])\n",
    "\n",
    "\n",
    "print(\"X_train Shape: \",X_train.shape)\n",
    "print(\"Y_train Shape: \",y_train_3cls.shape)\n",
    "\n",
    "\n",
    "y_train_2cls = (y_train_3cls == 2)\n",
    "y_val_2cls = (y_val_3cls == 2)\n"
   ]
  },
  {
   "cell_type": "code",
   "execution_count": 78,
   "metadata": {},
   "outputs": [
    {
     "data": {
      "text/plain": [
       "array([[1],\n",
       "       [1],\n",
       "       [1],\n",
       "       [1],\n",
       "       [1]])"
      ]
     },
     "execution_count": 78,
     "metadata": {},
     "output_type": "execute_result"
    }
   ],
   "source": [
    "sample = np.ones((5,1),dtype = int)\n",
    "sample"
   ]
  },
  {
   "cell_type": "markdown",
   "metadata": {},
   "source": [
    "#### Quick Summary\n",
    "\n",
    "We have created the test and validation datsets. There are 2 varients of the labels, one for the 2class implementation of IRIS and the other for the 3class implementation i.e. `X_train`, `X_val`, `y_train_2cls`, `y_train_3cls`, `y_val_2cls`, `y_val_3cls` "
   ]
  },
  {
   "cell_type": "markdown",
   "metadata": {},
   "source": [
    "***\n",
    "\n",
    "## (2 Class) Logistic Regression with two varients of Gradient Descent - Batch and Stochastic\n",
    "\n",
    "<br>\n",
    "\n",
    "#### Creating Pipeline for Automating Data Prep"
   ]
  },
  {
   "cell_type": "code",
   "execution_count": 81,
   "metadata": {},
   "outputs": [],
   "source": [
    "\n",
    "# a simple function to add a column of ones (this is needed to implement gradient descent)\n",
    "def one_adder(an_array):\n",
    "    m = an_array.shape[0]\n",
    "    pad_one = np.ones((m,1),dtype = int)\n",
    "    an_array = np.hstack([pad_one,an_array])\n",
    "    return an_array\n",
    "\n",
    "#pipeline to automate data prep\n",
    "from sklearn.pipeline import Pipeline\n",
    "from sklearn.preprocessing import StandardScaler\n",
    "from sklearn.preprocessing import FunctionTransformer\n",
    "\n",
    "\n",
    "dataprep_2cls = Pipeline([\n",
    "        (\"std_scaler\", StandardScaler()),\n",
    "        (\"one_adder\", FunctionTransformer(one_adder)),\n",
    "    ])\n",
    "\n"
   ]
  },
  {
   "cell_type": "markdown",
   "metadata": {},
   "source": [
    "#### Implementing and Testing Pipeline"
   ]
  },
  {
   "cell_type": "code",
   "execution_count": 82,
   "metadata": {},
   "outputs": [
    {
     "name": "stdout",
     "output_type": "stream",
     "text": [
      "(120, 4)\n",
      "[[4.6 3.6 1.  0.2]\n",
      " [5.7 4.4 1.5 0.4]\n",
      " [6.7 3.1 4.4 1.4]\n",
      " [4.8 3.4 1.6 0.2]\n",
      " [4.4 3.2 1.3 0.2]]\n",
      "\n",
      "\n",
      "(120, 5)\n",
      "[[ 1.         -1.47393679  1.20365799 -1.56253475 -1.31260282]\n",
      " [ 1.         -0.13307079  2.99237573 -1.27600637 -1.04563275]\n",
      " [ 1.          1.08589829  0.08570939  0.38585821  0.28921757]\n",
      " [ 1.         -1.23014297  0.75647855 -1.2187007  -1.31260282]\n",
      " [ 1.         -1.7177306   0.30929911 -1.39061772 -1.31260282]]\n"
     ]
    },
    {
     "name": "stderr",
     "output_type": "stream",
     "text": [
      "/anaconda3/lib/python3.7/site-packages/sklearn/preprocessing/_function_transformer.py:98: FutureWarning: The default validate=True will be replaced by validate=False in 0.22.\n",
      "  \"validate=False in 0.22.\", FutureWarning)\n",
      "/anaconda3/lib/python3.7/site-packages/sklearn/preprocessing/_function_transformer.py:98: FutureWarning: The default validate=True will be replaced by validate=False in 0.22.\n",
      "  \"validate=False in 0.22.\", FutureWarning)\n"
     ]
    }
   ],
   "source": [
    "print(X_train.shape)\n",
    "print(X_train[0:5,:])\n",
    "\n",
    "print(\"\\n\")\n",
    "\n",
    "X_train_t = dataprep_2cls.fit_transform(X_train) \n",
    "\n",
    "print(X_train_t.shape)\n",
    "print(X_train_t[0:5,:])\n"
   ]
  },
  {
   "cell_type": "markdown",
   "metadata": {},
   "source": [
    "### Implemention of Batch Gradient Descent\n",
    "Measure `classification accuracy` on training data"
   ]
  },
  {
   "cell_type": "code",
   "execution_count": 327,
   "metadata": {},
   "outputs": [],
   "source": [
    "m = y_train_2cls.shape[0]\n",
    "y_train_2cls = y_train_2cls.reshape((m,1))\n",
    "y_val_2cls = y_val_2cls.reshape((30,1))\n"
   ]
  },
  {
   "cell_type": "code",
   "execution_count": 284,
   "metadata": {},
   "outputs": [
    {
     "name": "stdout",
     "output_type": "stream",
     "text": [
      "theta [[-0.86331203]\n",
      " [ 0.00408211]\n",
      " [ 0.50284986]\n",
      " [ 1.94127509]\n",
      " [ 0.41202161]]\n"
     ]
    }
   ],
   "source": [
    "np.random.seed(42)\n",
    "theta_bgd = np.random.randn(5,1)\n",
    "eta = 0.001\n",
    "n_iter = 10000\n",
    "m = X_train_t.shape[0]\n",
    "\n",
    "def sigmoid(x):\n",
    "    return 1 / (1 + np.exp(-x))\n",
    "\n",
    "\n",
    "\n",
    "for i in range(n_iter):\n",
    "\n",
    "    pred = sigmoid(X_train_t @ theta_bgd)\n",
    "    #print(pred.shape)\n",
    "\n",
    "    error = pred - y_train_2cls\n",
    "    #print(error.shape)\n",
    "\n",
    "    grad = (1/m) * (X_train_t.T @ (error) )\n",
    "    #print(grad.shape)\n",
    "\n",
    "    theta_bgd = theta_bgd - (eta * grad)\n",
    "\n",
    "#print(\"theta.shape\",theta_bgd.shape)\n",
    "print(\"theta\",theta_bgd)\n",
    "    \n",
    "    "
   ]
  },
  {
   "cell_type": "code",
   "execution_count": 285,
   "metadata": {},
   "outputs": [
    {
     "name": "stdout",
     "output_type": "stream",
     "text": [
      "0.875\n"
     ]
    }
   ],
   "source": [
    "#training set predictions\n",
    "Y_train_2cls_probab = sigmoid(X_train_t @ theta_bgd)\n",
    "Y_train_2cls = Y_train_2cls_probab > 0.5\n",
    "    \n",
    "    \n",
    "    \n",
    "#training set accuracy\n",
    "from sklearn.metrics import confusion_matrix\n",
    "cm = confusion_matrix(y_train_2cls,Y_train_2cls)\n",
    "\n",
    "classification_accuracy = (cm[0,0] + cm [1,1]) /np.sum(cm)\n",
    "print(classification_accuracy)\n",
    "\n"
   ]
  },
  {
   "cell_type": "markdown",
   "metadata": {},
   "source": [
    "**Summary**\n",
    "The Batch Gradient Descent results were evaualted with a learning rate of .001\n",
    "\n",
    "As expected, the classification accuracy got better as the number of iterations increased. I have summarized the details below:\n",
    "* 70% at 10 Iterations\n",
    "* 70% at 100 Iterations\n",
    "* 73% at 500 Iterations\n",
    "* 76% at 1000 Iterations\n",
    "* 81% at 5000 Iterations\n",
    "* 87% at 10,000 Iterations\n",
    "* 96% at 50,000 Iterations\n",
    "* 97.5% at 100,000 Iterations\n",
    "* 98.3% at 1,000,000 Iterations\n",
    "\n",
    "***\n",
    "\n",
    "Next up we'll we exploring **Stochastic Gradient Descent** with the similar learning rate with diffent `epoch` (number of iterations) combinations."
   ]
  },
  {
   "cell_type": "markdown",
   "metadata": {},
   "source": [
    "### Implementation of Stochastic Gradient Descent\n",
    "Measure `classification accuracy` on training data"
   ]
  },
  {
   "cell_type": "code",
   "execution_count": 243,
   "metadata": {},
   "outputs": [
    {
     "name": "stdout",
     "output_type": "stream",
     "text": [
      "sgd:  12000000  iterations (epoch*m) [[ 0.32377531]\n",
      " [-0.04799941]\n",
      " [ 0.09378805]\n",
      " [ 0.05801697]\n",
      " [ 0.37015748]]\n"
     ]
    }
   ],
   "source": [
    "np.random.seed(42)\n",
    "theta_sgd = np.random.randn(5,1) \n",
    "\n",
    "n_epoches = 100000\n",
    "iter_count = 0\n",
    "\n",
    "eta = 0.001\n",
    "\n",
    "for epoch in range(n_epoches):\n",
    "    for i in range(m):\n",
    "        random_index = np.random.randint(m)\n",
    "        xi = X_train_t[random_index:random_index+1]\n",
    "        yi = y_train_2cls[random_index:random_index+1]\n",
    "        grad = 2 * xi.T @ (xi @ theta_sgd  - yi)\n",
    "        theta_sgd = theta_sgd - eta * grad\n",
    "        iter_count+=1\n",
    "        \n",
    "\n",
    "print(\"sgd: \",iter_count ,\" iterations (epoch*m)\",theta_sgd)"
   ]
  },
  {
   "cell_type": "code",
   "execution_count": 244,
   "metadata": {},
   "outputs": [
    {
     "name": "stdout",
     "output_type": "stream",
     "text": [
      "0.5916666666666667\n"
     ]
    }
   ],
   "source": [
    "#training set predictions\n",
    "Y_train_2cls_probab = sigmoid(X_train_t @ theta_sgd)\n",
    "Y_train_2cls = Y_train_2cls_probab > 0.5\n",
    "    \n",
    "    \n",
    "    \n",
    "#training set accuracy\n",
    "from sklearn.metrics import confusion_matrix\n",
    "cm = confusion_matrix(y_train_2cls,Y_train_2cls)\n",
    "\n",
    "classification_accuracy = (cm[0,0] + cm [1,1]) /np.sum(cm)\n",
    "print(classification_accuracy)\n",
    "\n"
   ]
  },
  {
   "cell_type": "markdown",
   "metadata": {},
   "source": [
    "**Summary**\n",
    "Unlike `Batch Gradient Descent (BGD)`, the calculations for `Shochastic Gradient Descent (SGD)` are **not vectorized**. The compututaional costs for this implementation are to the order or `O(n^2)` given the two `for` loops that have been used. Also, `SGD` doesn't converage in a *linear fashion* die to the inherent *randomness*\n",
    "\n",
    "**An important point to note that SGD is an 'out of core' algorithm and hence suiable for large datasets that cannot be loaded in memory, all at once** \n",
    "\n",
    "Here are the accuracy results as a function of the number of `epoch` and its clearly not performing as well as `BGD`. The `learning rate` has been set at 0.001 as was done earlier\n",
    "* 58.3% at 10 epoch\n",
    "* 60% at 500 epoch\n",
    "* 59% at 1000 epoch\n",
    "* 60% at 10,000 epoch\n",
    "* 60% at 50,000 epoch\n",
    "\n",
    "***\n",
    "**At this point its worthwhile exploring if `SGD` performs any better with `Early Stopping` implemented.**"
   ]
  },
  {
   "cell_type": "markdown",
   "metadata": {},
   "source": [
    "## (2 class) SGD with *quasi* regulartization via Early Stopping - does it give better results than *vanilla* SGD?"
   ]
  },
  {
   "cell_type": "code",
   "execution_count": 259,
   "metadata": {},
   "outputs": [
    {
     "name": "stdout",
     "output_type": "stream",
     "text": [
      "sgd + Early Stoppage:  743  epoches [[ 0.49671415]\n",
      " [-0.1382643 ]\n",
      " [ 0.64768854]\n",
      " [ 1.52302986]\n",
      " [-0.23415337]]\n",
      "sgd + Early Stoppage + classification accuracy  0.6166666666666667\n"
     ]
    }
   ],
   "source": [
    "np.random.seed(42)\n",
    "theta_sgd_es = np.random.randn(5,1)\n",
    "\n",
    "classification_accuracy_benchmark = 0\n",
    "theta_sgd_es_becnhmark = np.random.randn(5,1)\n",
    "best_epoch = None\n",
    "\n",
    "n_epoches = 1000\n",
    "iter_count = 0\n",
    "\n",
    "eta = 0.001\n",
    "\n",
    "for epoch in range(n_epoches):\n",
    "    for i in range(m):\n",
    "        random_index = np.random.randint(m)\n",
    "        xi = X_train_t[random_index:random_index+1]\n",
    "        yi = y_train_2cls[random_index:random_index+1]\n",
    "        grad = 2 * xi.T @ (xi @ theta_sgd  - yi)\n",
    "        theta_sgd = theta_sgd - eta * grad\n",
    "        iter_count+=1\n",
    "    \n",
    "    Y_train_2cls_probab = sigmoid(X_train_t @ theta_sgd)\n",
    "    Y_train_2cls = Y_train_2cls_probab > 0.5\n",
    "    \n",
    "    \n",
    "    \n",
    "    #training set accuracy\n",
    "    from sklearn.metrics import confusion_matrix\n",
    "    cm = confusion_matrix(y_train_2cls,Y_train_2cls)\n",
    "\n",
    "    classification_accuracy = (cm[0,0] + cm [1,1]) /np.sum(cm)\n",
    "    if classification_accuracy > classification_accuracy_benchmark:\n",
    "        classification_accuracy_benchmark = classification_accuracy\n",
    "        theta_sgd_es_benchmark = theta_sgd_es\n",
    "        best_epoch= epoch\n",
    "\n",
    "        \n",
    "\n",
    "print(\"sgd + Early Stoppage: \",best_epoch ,\" epoches\",theta_sgd_es_benchmark)\n",
    "print(\"sgd + Early Stoppage + classification accuracy \",classification_accuracy_benchmark)\n"
   ]
  },
  {
   "cell_type": "markdown",
   "metadata": {},
   "source": [
    "**Summary and Conclusions**\n",
    "`SGD + Early Stoppage (SGD + ES)` **always** performs better than `SGD`. This is quite **significant**\n",
    "\n",
    "Here are the comparisons:\n",
    "* Epoch = 10   | SGD = 58% | SGD + ES = 60%\n",
    "* Epoch = 100  | SGD = 58% | SGD + ES = 61%\n",
    "* Epoch = 1000 | SGD = 60% | SGD + ES = 62%\n",
    "* Epoch = 10000| SGD = 60% | SGD + ES = 63%"
   ]
  },
  {
   "cell_type": "markdown",
   "metadata": {},
   "source": [
    "***\n",
    "\n",
    "## (2 class) Exploring Polynomial Regression\n",
    "\n"
   ]
  },
  {
   "cell_type": "markdown",
   "metadata": {},
   "source": [
    "#### Data Preperation"
   ]
  },
  {
   "cell_type": "code",
   "execution_count": 291,
   "metadata": {},
   "outputs": [
    {
     "name": "stdout",
     "output_type": "stream",
     "text": [
      "(120, 15)\n"
     ]
    },
    {
     "name": "stderr",
     "output_type": "stream",
     "text": [
      "/anaconda3/lib/python3.7/site-packages/sklearn/preprocessing/_function_transformer.py:98: FutureWarning: The default validate=True will be replaced by validate=False in 0.22.\n",
      "  \"validate=False in 0.22.\", FutureWarning)\n",
      "/anaconda3/lib/python3.7/site-packages/sklearn/preprocessing/_function_transformer.py:98: FutureWarning: The default validate=True will be replaced by validate=False in 0.22.\n",
      "  \"validate=False in 0.22.\", FutureWarning)\n"
     ]
    }
   ],
   "source": [
    "from sklearn.preprocessing import PolynomialFeatures \n",
    "poly_features = PolynomialFeatures(degree = 2, include_bias = False)\n",
    "\n",
    "X_train_poly = poly_features.fit_transform(X_train)\n",
    "\n",
    "X_train_poly_t = dataprep_2cls.fit_transform(X_train_poly)\n",
    "\n",
    "print(X_train_poly_t.shape)"
   ]
  },
  {
   "cell_type": "markdown",
   "metadata": {},
   "source": [
    "#### Batch Gradient Descent with Polynomial Features"
   ]
  },
  {
   "cell_type": "code",
   "execution_count": 311,
   "metadata": {},
   "outputs": [
    {
     "name": "stdout",
     "output_type": "stream",
     "text": [
      "0.9833333333333333\n"
     ]
    }
   ],
   "source": [
    "np.random.seed(42)\n",
    "theta_poly_bgd = np.random.randn(15,1)\n",
    "eta = 0.001\n",
    "n_iter = 2000000\n",
    "m = X_train_poly_t.shape[0]\n",
    "\n",
    "def sigmoid(x):\n",
    "    return 1 / (1 + np.exp(-x))\n",
    "\n",
    "\n",
    "\n",
    "for i in range(n_iter):\n",
    "\n",
    "    pred = sigmoid(X_train_poly_t @ theta_poly_bgd)\n",
    "    #print(pred.shape)\n",
    "\n",
    "    error = pred - y_train_2cls\n",
    "    #print(error.shape)\n",
    "\n",
    "    grad = (1/m) * (X_train_poly_t.T @ (error) )\n",
    "    #print(grad.shape)\n",
    "\n",
    "    theta_poly_bgd = theta_poly_bgd - (eta * grad)\n",
    "\n",
    "#print(\"theta.shape\",theta_bgd.shape)\n",
    "#print(\"theta\",theta_poly_bgd)\n",
    "    \n",
    "#training set predictions\n",
    "Y_train_2cls_probab = sigmoid(X_train_poly_t @ theta_poly_bgd)\n",
    "Y_train_2cls = Y_train_2cls_probab > 0.5\n",
    "    \n",
    "    \n",
    "    \n",
    "#training set accuracy\n",
    "from sklearn.metrics import confusion_matrix\n",
    "cm = confusion_matrix(y_train_2cls,Y_train_2cls)\n",
    "\n",
    "classification_accuracy = (cm[0,0] + cm [1,1]) /np.sum(cm)\n",
    "print(classification_accuracy)\n"
   ]
  },
  {
   "cell_type": "markdown",
   "metadata": {},
   "source": [
    "I had expected `BGD + Polynomial Features` to perform much better than `BGD` on the training set.\n",
    "\n",
    "However, that was not the case, maybe its because the dataset is relatively simple and BGD does a great job in its native/vanilla form.\n",
    "\n",
    "Model accuracy % by iterations:\n",
    "* 10 iterations | Accuracy: 28%\n",
    "* 100 iterations| Accuracy: 23%\n",
    "* 1000 iterations| Accuracy: 61%\n",
    "* 10,000 iterations| Accuracy: 82%\n",
    "* 100,000 iterations| Accuracy: 97%\n",
    "* 1,000,000 iterations| Accuracy: 98.3%"
   ]
  },
  {
   "cell_type": "markdown",
   "metadata": {},
   "source": [
    "***\n",
    "\n",
    "## (2 class) Stochastic Gradient Descent with `Ridge` and `Lasso` Regularization Techniques\n",
    "\n",
    "The following are the goals:\n",
    "1. Comparing the performance of unregularized logistic model with `Ridge` Regularized and `Lasso` Regularized versions.\n",
    "\n",
    "\n",
    "#### Data Preperation"
   ]
  },
  {
   "cell_type": "code",
   "execution_count": 314,
   "metadata": {},
   "outputs": [
    {
     "name": "stdout",
     "output_type": "stream",
     "text": [
      "(120, 14)\n",
      "(30, 14)\n"
     ]
    }
   ],
   "source": [
    "std_scaler = StandardScaler()\n",
    "\n",
    "X_train_poly = poly_features.fit_transform(X_train)\n",
    "X_val_poly = poly_features.fit_transform(X_val)\n",
    "\n",
    "X_train_prep = std_scaler.fit_transform(X_train_poly)\n",
    "X_val_prep = std_scaler.fit_transform(X_val_poly)\n",
    "\n",
    "print(X_train_prep.shape)\n",
    "print(X_val_prep.shape)"
   ]
  },
  {
   "cell_type": "markdown",
   "metadata": {},
   "source": [
    "#### Training SGD Classifiers"
   ]
  },
  {
   "cell_type": "code",
   "execution_count": 318,
   "metadata": {},
   "outputs": [],
   "source": [
    "from sklearn.linear_model import SGDClassifier\n",
    "\n",
    "\n",
    "sgd_model = SGDClassifier(random_state = 42, loss = 'log', penalty = None)\n",
    "# loss = log denotes a logictic model\n",
    "# penalty = None, inplies that no regularization has been used\n",
    "\n",
    "sgd_ridge_model = SGDClassifier(random_state = 42, loss = 'log', penalty = 'l2')\n",
    "sgd_lasso_model = SGDClassifier(random_state = 42, loss = 'log', penalty = 'l1')"
   ]
  },
  {
   "cell_type": "markdown",
   "metadata": {},
   "source": [
    "#### Fitting the model and Generating Predictions"
   ]
  },
  {
   "cell_type": "code",
   "execution_count": 328,
   "metadata": {},
   "outputs": [
    {
     "name": "stderr",
     "output_type": "stream",
     "text": [
      "/anaconda3/lib/python3.7/site-packages/sklearn/linear_model/stochastic_gradient.py:166: FutureWarning: max_iter and tol parameters have been added in SGDClassifier in 0.19. If both are left unset, they default to max_iter=5 and tol=None. If tol is not None, max_iter defaults to max_iter=1000. From 0.21, default max_iter will be 1000, and default tol will be 1e-3.\n",
      "  FutureWarning)\n",
      "/anaconda3/lib/python3.7/site-packages/sklearn/utils/validation.py:761: DataConversionWarning: A column-vector y was passed when a 1d array was expected. Please change the shape of y to (n_samples, ), for example using ravel().\n",
      "  y = column_or_1d(y, warn=True)\n",
      "/anaconda3/lib/python3.7/site-packages/sklearn/linear_model/stochastic_gradient.py:166: FutureWarning: max_iter and tol parameters have been added in SGDClassifier in 0.19. If both are left unset, they default to max_iter=5 and tol=None. If tol is not None, max_iter defaults to max_iter=1000. From 0.21, default max_iter will be 1000, and default tol will be 1e-3.\n",
      "  FutureWarning)\n",
      "/anaconda3/lib/python3.7/site-packages/sklearn/utils/validation.py:761: DataConversionWarning: A column-vector y was passed when a 1d array was expected. Please change the shape of y to (n_samples, ), for example using ravel().\n",
      "  y = column_or_1d(y, warn=True)\n",
      "/anaconda3/lib/python3.7/site-packages/sklearn/linear_model/stochastic_gradient.py:166: FutureWarning: max_iter and tol parameters have been added in SGDClassifier in 0.19. If both are left unset, they default to max_iter=5 and tol=None. If tol is not None, max_iter defaults to max_iter=1000. From 0.21, default max_iter will be 1000, and default tol will be 1e-3.\n",
      "  FutureWarning)\n",
      "/anaconda3/lib/python3.7/site-packages/sklearn/utils/validation.py:761: DataConversionWarning: A column-vector y was passed when a 1d array was expected. Please change the shape of y to (n_samples, ), for example using ravel().\n",
      "  y = column_or_1d(y, warn=True)\n"
     ]
    }
   ],
   "source": [
    "sgd_model.fit(X_train_prep,y_train_2cls)\n",
    "sgd_ridge_model.fit(X_train_prep,y_train_2cls)\n",
    "sgd_lasso_model.fit(X_train_prep,y_train_2cls)\n",
    "\n",
    "Y_train_sgd = sgd_model.predict(X_train_prep)\n",
    "Y_train_ridge_sgd = sgd_ridge_model.predict(X_train_prep)\n",
    "Y_train_lasso_sgd = sgd_lasso_model.predict(X_train_prep)\n",
    "\n",
    "Y_val_sgd = sgd_model.predict(X_val_prep)\n",
    "Y_val_ridge_sgd = sgd_ridge_model.predict(X_val_prep)\n",
    "Y_val_lasso_sgd = sgd_lasso_model.predict(X_val_prep)"
   ]
  },
  {
   "cell_type": "markdown",
   "metadata": {},
   "source": [
    "#### Evaluating Performance"
   ]
  },
  {
   "cell_type": "code",
   "execution_count": 330,
   "metadata": {},
   "outputs": [
    {
     "name": "stdout",
     "output_type": "stream",
     "text": [
      "training + SGD: \n",
      "model performance scores:  \n",
      "\n",
      "Precision =  0.9069767441860465\n",
      "Recall =  1.0\n",
      "F1 =  0.951219512195122\n",
      "\n",
      "\n",
      "None\n",
      "============================\n",
      "training + SGD + Ridge: \n",
      "model performance scores:  \n",
      "\n",
      "Precision =  0.972972972972973\n",
      "Recall =  0.9230769230769231\n",
      "F1 =  0.9473684210526315\n",
      "\n",
      "\n",
      "None\n",
      "============================\n",
      "training + SGD + Lasso: \n",
      "model performance scores:  \n",
      "\n",
      "Precision =  0.9743589743589743\n",
      "Recall =  0.9743589743589743\n",
      "F1 =  0.9743589743589743\n",
      "\n",
      "\n",
      "None\n",
      "============================\n"
     ]
    }
   ],
   "source": [
    "from sklearn.metrics import precision_score, recall_score, f1_score\n",
    "\n",
    "def model_performance_scores(train,predicted):\n",
    "    precision_kpi = precision_score(train,predicted)\n",
    "    recall_kpi = recall_score(train, predicted)\n",
    "    f1_kpi = f1_score(train,predicted)\n",
    "    \n",
    "    print(\"model performance scores: \",\"\\n\")\n",
    "    print(\"Precision = \", precision_kpi)\n",
    "    print(\"Recall = \", recall_kpi)\n",
    "    print(\"F1 = \", f1_kpi)\n",
    "    \n",
    "    print(\"\\n\")\n",
    "\n",
    "print(\"training + SGD: \")\n",
    "print(model_performance_scores(y_train_2cls,Y_train_sgd) )\n",
    "print(\"============================\")\n",
    "print(\"training + SGD + Ridge: \")\n",
    "print(model_performance_scores(y_train_2cls,Y_train_ridge_sgd) )\n",
    "print(\"============================\")\n",
    "print(\"training + SGD + Lasso: \")\n",
    "print(model_performance_scores(y_train_2cls,Y_train_lasso_sgd) )\n",
    "\n",
    "print(\"============================\")\n"
   ]
  },
  {
   "cell_type": "markdown",
   "metadata": {},
   "source": [
    "**Summary**\n",
    "Both the `ridge` and `lasso` regularized models perform better than the non-regularized version of the algorithm "
   ]
  }
 ],
 "metadata": {
  "kernelspec": {
   "display_name": "Python 3",
   "language": "python",
   "name": "python3"
  },
  "language_info": {
   "codemirror_mode": {
    "name": "ipython",
    "version": 3
   },
   "file_extension": ".py",
   "mimetype": "text/x-python",
   "name": "python",
   "nbconvert_exporter": "python",
   "pygments_lexer": "ipython3",
   "version": "3.7.2"
  },
  "toc": {
   "base_numbering": 1,
   "nav_menu": {},
   "number_sections": false,
   "sideBar": true,
   "skip_h1_title": false,
   "title_cell": "Table of Contents",
   "title_sidebar": "Contents",
   "toc_cell": false,
   "toc_position": {},
   "toc_section_display": true,
   "toc_window_display": false
  }
 },
 "nbformat": 4,
 "nbformat_minor": 2
}
