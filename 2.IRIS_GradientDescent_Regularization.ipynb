{
 "cells": [
  {
   "cell_type": "markdown",
   "metadata": {},
   "source": [
    "## Exploring Gradient Descent, Softmax Regression and Regularization Techniques using IRIS Data Set\n",
    "\n",
    "IRIS is a simple dataset that comprises the `sepal` and `petal` dimensions of 3 types of IRIS flowers. \n",
    "\n",
    "I'll be using this dataset to test out a couple of algorithms for **classification** i.e. `Logistic Regression` and `Softmax Regression`.\n",
    "\n",
    "I'll be exploring 3 versions of **Gradient Descent** i.e. `Batch`, `Stochastic` and `Mini Batch`\n",
    "\n",
    "I'll be also be experiementing with a few techniques for **regularization** i.e. `Ridge`, `Lasso`, `Elastic Net`. I'll also be creating a version of the regularization that stops the training process as soon as the generalization error starts increasing i.e. `Early Stopping` \n",
    "\n",
    "<br>\n",
    "\n",
    "Given the large set of things on agenda, the table of contents below should be helpful.\n",
    "\n"
   ]
  },
  {
   "cell_type": "markdown",
   "metadata": {},
   "source": [
    "**Table of Contents**\n",
    "1. Exploring IRIS Data\n",
    "2. Preparing the Data for Logistic *(k=2)* and Multiclass *(k=3)* usecases\n"
   ]
  },
  {
   "cell_type": "code",
   "execution_count": null,
   "metadata": {},
   "outputs": [],
   "source": [
    "<apple mango>"
   ]
  }
 ],
 "metadata": {
  "kernelspec": {
   "display_name": "Python 3",
   "language": "python",
   "name": "python3"
  },
  "language_info": {
   "codemirror_mode": {
    "name": "ipython",
    "version": 3
   },
   "file_extension": ".py",
   "mimetype": "text/x-python",
   "name": "python",
   "nbconvert_exporter": "python",
   "pygments_lexer": "ipython3",
   "version": "3.7.2"
  },
  "toc": {
   "base_numbering": 1,
   "nav_menu": {},
   "number_sections": false,
   "sideBar": true,
   "skip_h1_title": false,
   "title_cell": "Table of Contents",
   "title_sidebar": "Contents",
   "toc_cell": false,
   "toc_position": {},
   "toc_section_display": true,
   "toc_window_display": false
  }
 },
 "nbformat": 4,
 "nbformat_minor": 2
}
