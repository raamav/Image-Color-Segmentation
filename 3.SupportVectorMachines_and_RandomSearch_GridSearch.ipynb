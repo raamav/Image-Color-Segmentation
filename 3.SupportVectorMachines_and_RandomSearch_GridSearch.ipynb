{
 "cells": [
  {
   "cell_type": "markdown",
   "metadata": {},
   "source": [
    "# Support Vector Machines with Grid Search for Hyperparameter Tuning\n",
    "\n",
    "I'll be implementing SVM across a range of use-cases as outlined below.\n",
    "\n",
    "Goals:\n",
    "1. **Binary Classification** : Training a SVM Linear Classifier, `LinearSVC` on a linerly seperable dataset *(e.g. `IRIS Dataset , class =2`)*. Implementing `SVC` and `SGDClassifier` on the same dataset\n",
    "2. **Muticlass Classification via OvO** :Training an SVM classifier on `MNIST` database *(note that SVM is strictly a binary classifier, cannot do multi-class, off the shelf)*\n",
    "3. **Regression** : Training an SVM Rgressor on the `California Housing Prices` data-set"
   ]
  },
  {
   "cell_type": "markdown",
   "metadata": {},
   "source": [
    "\n",
    "***\n",
    "\n",
    "# 1. Binary Classification on `IRIS` Dataset\n",
    "\n",
    "### Getting the Data\n",
    "**Iris Setosa** and **Iris Versicolor** classes are linearly separable"
   ]
  },
  {
   "cell_type": "code",
   "execution_count": 1,
   "metadata": {},
   "outputs": [],
   "source": [
    "from sklearn import datasets\n",
    "\n",
    "iris = datasets.load_iris()\n",
    "X = iris[\"data\"][:, (2, 3)]  # petal length, petal width\n",
    "y = iris[\"target\"]\n",
    "\n",
    "setosa_or_versicolor = (y == 0) | (y == 1)\n",
    "X = X[setosa_or_versicolor]\n",
    "y = y[setosa_or_versicolor]"
   ]
  },
  {
   "cell_type": "markdown",
   "metadata": {},
   "source": [
    "### Training Models"
   ]
  },
  {
   "cell_type": "code",
   "execution_count": 2,
   "metadata": {},
   "outputs": [
    {
     "data": {
      "text/plain": [
       "SGDClassifier(alpha=0.01, average=False, class_weight=None,\n",
       "       early_stopping=False, epsilon=0.1, eta0=0.001, fit_intercept=True,\n",
       "       l1_ratio=0.15, learning_rate='constant', loss='hinge',\n",
       "       max_iter=1000, n_iter=None, n_iter_no_change=5, n_jobs=None,\n",
       "       penalty='l2', power_t=0.5, random_state=42, shuffle=True, tol=0.001,\n",
       "       validation_fraction=0.1, verbose=0, warm_start=False)"
      ]
     },
     "execution_count": 2,
     "metadata": {},
     "output_type": "execute_result"
    }
   ],
   "source": [
    "from sklearn.preprocessing import StandardScaler\n",
    "from sklearn.svm import LinearSVC\n",
    "from sklearn.svm import SVC\n",
    "from sklearn.linear_model import SGDClassifier\n",
    "\n",
    "m = y.shape[0]\n",
    "C = 1\n",
    "\n",
    "std_scaler = StandardScaler()\n",
    "\n",
    "X_scaled = std_scaler.fit_transform(X)\n",
    "\n",
    "linear_svc_model=LinearSVC(C = C, loss = \"hinge\", random_state = 42)\n",
    "\n",
    "svc_model = SVC(kernel = \"linear\", C=C)\n",
    "\n",
    "svc_sgd_model = SGDClassifier(random_state = 42, loss = \"hinge\", alpha = 1/(m*C),learning_rate = \"constant\", eta0 = 0.001, max_iter = 1000,tol = 1e-3 )\n",
    "\n",
    "linear_svc_model.fit(X_scaled,y)\n",
    "svc_model.fit(X_scaled,y)\n",
    "svc_sgd_model.fit(X_scaled,y)\n"
   ]
  },
  {
   "cell_type": "code",
   "execution_count": 3,
   "metadata": {},
   "outputs": [],
   "source": [
    "Y_linear_svc = linear_svc_model.predict(X_scaled)\n",
    "Y_svc = svc_model.predict(X_scaled)\n",
    "Y_svc_sgd = svc_sgd_model.predict(X_scaled)"
   ]
  },
  {
   "cell_type": "code",
   "execution_count": 4,
   "metadata": {},
   "outputs": [],
   "source": [
    "def model_performance_scores(train,predicted):\n",
    "    precision_kpi = precision_score(train,predicted)\n",
    "    recall_kpi = recall_score(train, predicted)\n",
    "    f1_kpi = f1_score(train,predicted)\n",
    "    \n",
    "    print(\"model performance scores: \",\"\\n\")\n",
    "    print(\"Precision = \", precision_kpi)\n",
    "    print(\"Recall = \", recall_kpi)\n",
    "    print(\"F1 = \", f1_kpi)\n",
    "    \n",
    "    print(\"\\n\")\n",
    "\n"
   ]
  },
  {
   "cell_type": "code",
   "execution_count": 7,
   "metadata": {},
   "outputs": [
    {
     "name": "stdout",
     "output_type": "stream",
     "text": [
      "[0 0 1 1 1]\n",
      "[0 0 1 1 1]\n",
      "[0 0 1 1 1]\n",
      "Linear SVC 1.0\n",
      "SVC 1.0\n",
      "Linear SVC 1.0\n"
     ]
    }
   ],
   "source": [
    "# A quick look at the predictions\n",
    "print(Y_linear_svc[48:53])\n",
    "print(Y_svc[48:53])\n",
    "print(Y_svc_sgd[48:53])\n",
    "\n",
    "from sklearn.metrics import accuracy_score\n",
    "\n",
    "#evalating classification accuracy\n",
    "print(\"Linear SVC\",accuracy_score(y,Y_linear_svc))\n",
    "print(\"SVC\",accuracy_score(y,Y_svc))\n",
    "print(\"Linear SVC\",accuracy_score(y,Y_svc_sgd))"
   ]
  },
  {
   "cell_type": "markdown",
   "metadata": {},
   "source": [
    "The classification accuracy of 1 is not surpring given that the classes are linearly seperable.\n",
    "\n",
    "***"
   ]
  },
  {
   "cell_type": "markdown",
   "metadata": {},
   "source": [
    "# 2. Multi-class classification via OvO\n",
    "I'll train the models using a variety of approaches. I'll tune the hyperparameters using `Randomized Search` as performing `Grid Search` will be computationally expensive.\n",
    "\n",
    "### Getting Data\n"
   ]
  },
  {
   "cell_type": "code",
   "execution_count": 8,
   "metadata": {},
   "outputs": [],
   "source": [
    "from sklearn.datasets import fetch_openml\n",
    "import numpy as np\n",
    "mnist = fetch_openml('mnist_784', version=1, cache=True)\n",
    "\n",
    "X = mnist[\"data\"]\n",
    "y = mnist[\"target\"].astype(np.uint8)\n",
    "\n",
    "X_train = X[:60000]\n",
    "y_train = y[:60000]\n",
    "X_test = X[60000:]\n",
    "y_test = y[60000:]\n",
    "\n",
    "std_scaler = StandardScaler()"
   ]
  },
  {
   "cell_type": "code",
   "execution_count": 9,
   "metadata": {},
   "outputs": [],
   "source": [
    "X_train_s = std_scaler.fit_transform(X_train)\n",
    "X_test_s = std_scaler.fit_transform(X_test)"
   ]
  },
  {
   "cell_type": "markdown",
   "metadata": {},
   "source": [
    "### Training Models\n",
    "\n",
    "Starting off with a Linear SVC model first which does OvA (so, no need to do anything)"
   ]
  },
  {
   "cell_type": "code",
   "execution_count": 10,
   "metadata": {},
   "outputs": [
    {
     "name": "stderr",
     "output_type": "stream",
     "text": [
      "/anaconda3/lib/python3.7/site-packages/sklearn/svm/base.py:931: ConvergenceWarning: Liblinear failed to converge, increase the number of iterations.\n",
      "  \"the number of iterations.\", ConvergenceWarning)\n"
     ]
    }
   ],
   "source": [
    "m = X_train.shape[0]\n",
    "C = 1\n",
    "\n",
    "linear_SVC_model = LinearSVC(random_state=42,C=C)\n",
    "linear_SVC_model.fit(X_train_s[0:5000],y_train[0:5000])\n",
    "\n",
    "Y_train_linear_SVC = linear_SVC_model.predict(X_train_s)\n",
    "Y_test_linear_SVC = linear_SVC_model.predict(X_test_s)"
   ]
  },
  {
   "cell_type": "code",
   "execution_count": 11,
   "metadata": {},
   "outputs": [
    {
     "name": "stdout",
     "output_type": "stream",
     "text": [
      "Training Set Accuracy\n",
      "0.8312\n",
      "\n",
      "\n",
      "Test Set Accuracy\n",
      "0.8203\n"
     ]
    }
   ],
   "source": [
    "\n",
    "print(\"Training Set Accuracy\")\n",
    "print( accuracy_score(y_train,Y_train_linear_SVC) )\n",
    "print(\"\\n\")\n",
    "\n",
    "print(\"Test Set Accuracy\")\n",
    "print(accuracy_score(y_test,Y_test_linear_SVC))"
   ]
  },
  {
   "cell_type": "markdown",
   "metadata": {},
   "source": [
    "Next up, we will try `SVC Classifier` with `rbf` kernel which is the default kernel\n"
   ]
  },
  {
   "cell_type": "code",
   "execution_count": 12,
   "metadata": {},
   "outputs": [],
   "source": [
    "SVC_model = SVC(gamma=\"scale\")\n",
    "SVC_model.fit(X_train_s[0:5000],y_train[0:5000])\n",
    "\n",
    "Y_train_SVC = SVC_model.predict(X_train_s)\n",
    "Y_test_SVC = SVC_model.predict(X_test_s)"
   ]
  },
  {
   "cell_type": "code",
   "execution_count": 13,
   "metadata": {},
   "outputs": [
    {
     "name": "stdout",
     "output_type": "stream",
     "text": [
      "Training Set Accuracy\n",
      "0.9269666666666667\n",
      "\n",
      "\n",
      "Test Set Accuracy\n",
      "0.9236\n"
     ]
    }
   ],
   "source": [
    "print(\"Training Set Accuracy\")\n",
    "print( accuracy_score(y_train,Y_train_SVC) )\n",
    "print(\"\\n\")\n",
    "\n",
    "print(\"Test Set Accuracy\")\n",
    "print(accuracy_score(y_test,Y_test_SVC))"
   ]
  },
  {
   "cell_type": "markdown",
   "metadata": {},
   "source": [
    "**IMPORTANT** : This is very cool, the fact that an implementation of SVC on a very small subset *m =5000* can give ~ 93% accuracy on both training and testing sets is amazing\n",
    "\n",
    "The **next step** is to use `Randomised Search` for hypperparameter tuning"
   ]
  },
  {
   "cell_type": "code",
   "execution_count": 24,
   "metadata": {},
   "outputs": [
    {
     "name": "stdout",
     "output_type": "stream",
     "text": [
      "Fitting 3 folds for each of 10 candidates, totalling 30 fits\n",
      "[CV] C=6.03865046648656, gamma=0.01719603761760927 ...................\n"
     ]
    },
    {
     "name": "stderr",
     "output_type": "stream",
     "text": [
      "[Parallel(n_jobs=1)]: Using backend SequentialBackend with 1 concurrent workers.\n"
     ]
    },
    {
     "name": "stdout",
     "output_type": "stream",
     "text": [
      "[CV] .... C=6.03865046648656, gamma=0.01719603761760927, total=  23.9s\n",
      "[CV] C=6.03865046648656, gamma=0.01719603761760927 ...................\n"
     ]
    },
    {
     "name": "stderr",
     "output_type": "stream",
     "text": [
      "[Parallel(n_jobs=1)]: Done   1 out of   1 | elapsed:   33.0s remaining:    0.0s\n"
     ]
    },
    {
     "name": "stdout",
     "output_type": "stream",
     "text": [
      "[CV] .... C=6.03865046648656, gamma=0.01719603761760927, total=  24.1s\n",
      "[CV] C=6.03865046648656, gamma=0.01719603761760927 ...................\n",
      "[CV] .... C=6.03865046648656, gamma=0.01719603761760927, total=  24.1s\n",
      "[CV] C=2.9361149420283263, gamma=0.03202909720476346 .................\n",
      "[CV] .. C=2.9361149420283263, gamma=0.03202909720476346, total=  24.3s\n",
      "[CV] C=2.9361149420283263, gamma=0.03202909720476346 .................\n",
      "[CV] .. C=2.9361149420283263, gamma=0.03202909720476346, total=  24.3s\n",
      "[CV] C=2.9361149420283263, gamma=0.03202909720476346 .................\n",
      "[CV] .. C=2.9361149420283263, gamma=0.03202909720476346, total=  24.5s\n",
      "[CV] C=9.382863952151029, gamma=0.013420976951142602 .................\n",
      "[CV] .. C=9.382863952151029, gamma=0.013420976951142602, total=  23.4s\n",
      "[CV] C=9.382863952151029, gamma=0.013420976951142602 .................\n",
      "[CV] .. C=9.382863952151029, gamma=0.013420976951142602, total=  23.7s\n",
      "[CV] C=9.382863952151029, gamma=0.013420976951142602 .................\n",
      "[CV] .. C=9.382863952151029, gamma=0.013420976951142602, total=  23.7s\n",
      "[CV] C=1.0621328593770554, gamma=0.0019109577280993152 ...............\n",
      "[CV]  C=1.0621328593770554, gamma=0.0019109577280993152, total=   9.8s\n",
      "[CV] C=1.0621328593770554, gamma=0.0019109577280993152 ...............\n",
      "[CV]  C=1.0621328593770554, gamma=0.0019109577280993152, total=  10.3s\n",
      "[CV] C=1.0621328593770554, gamma=0.0019109577280993152 ...............\n",
      "[CV]  C=1.0621328593770554, gamma=0.0019109577280993152, total=   9.7s\n",
      "[CV] C=8.135408208954914, gamma=0.05823014019176867 ..................\n",
      "[CV] ... C=8.135408208954914, gamma=0.05823014019176867, total=  24.9s\n",
      "[CV] C=8.135408208954914, gamma=0.05823014019176867 ..................\n",
      "[CV] ... C=8.135408208954914, gamma=0.05823014019176867, total=  25.0s\n",
      "[CV] C=8.135408208954914, gamma=0.05823014019176867 ..................\n",
      "[CV] ... C=8.135408208954914, gamma=0.05823014019176867, total=  25.1s\n",
      "[CV] C=8.661820274815291, gamma=0.0027890512113457593 ................\n",
      "[CV] . C=8.661820274815291, gamma=0.0027890512113457593, total=  12.1s\n",
      "[CV] C=8.661820274815291, gamma=0.0027890512113457593 ................\n",
      "[CV] . C=8.661820274815291, gamma=0.0027890512113457593, total=  13.4s\n",
      "[CV] C=8.661820274815291, gamma=0.0027890512113457593 ................\n",
      "[CV] . C=8.661820274815291, gamma=0.0027890512113457593, total=  12.0s\n",
      "[CV] C=5.267048372949148, gamma=0.002117027551408727 .................\n",
      "[CV] .. C=5.267048372949148, gamma=0.002117027551408727, total=  10.0s\n",
      "[CV] C=5.267048372949148, gamma=0.002117027551408727 .................\n",
      "[CV] .. C=5.267048372949148, gamma=0.002117027551408727, total=  10.9s\n",
      "[CV] C=5.267048372949148, gamma=0.002117027551408727 .................\n",
      "[CV] .. C=5.267048372949148, gamma=0.002117027551408727, total=  10.2s\n",
      "[CV] C=7.458136199241128, gamma=0.007309599931427819 .................\n",
      "[CV] .. C=7.458136199241128, gamma=0.007309599931427819, total=  20.8s\n",
      "[CV] C=7.458136199241128, gamma=0.007309599931427819 .................\n",
      "[CV] .. C=7.458136199241128, gamma=0.007309599931427819, total=  21.3s\n",
      "[CV] C=7.458136199241128, gamma=0.007309599931427819 .................\n",
      "[CV] .. C=7.458136199241128, gamma=0.007309599931427819, total=  21.0s\n",
      "[CV] C=10.239916382282688, gamma=0.0026239756802388485 ...............\n",
      "[CV]  C=10.239916382282688, gamma=0.0026239756802388485, total=  11.7s\n",
      "[CV] C=10.239916382282688, gamma=0.0026239756802388485 ...............\n",
      "[CV]  C=10.239916382282688, gamma=0.0026239756802388485, total=  12.9s\n",
      "[CV] C=10.239916382282688, gamma=0.0026239756802388485 ...............\n",
      "[CV]  C=10.239916382282688, gamma=0.0026239756802388485, total=  11.5s\n",
      "[CV] C=10.854573256363182, gamma=0.013188611409869315 ................\n",
      "[CV] . C=10.854573256363182, gamma=0.013188611409869315, total=  23.4s\n",
      "[CV] C=10.854573256363182, gamma=0.013188611409869315 ................\n",
      "[CV] . C=10.854573256363182, gamma=0.013188611409869315, total=  23.5s\n",
      "[CV] C=10.854573256363182, gamma=0.013188611409869315 ................\n",
      "[CV] . C=10.854573256363182, gamma=0.013188611409869315, total=  23.7s\n"
     ]
    },
    {
     "name": "stderr",
     "output_type": "stream",
     "text": [
      "[Parallel(n_jobs=1)]: Done  30 out of  30 | elapsed: 13.3min finished\n"
     ]
    },
    {
     "data": {
      "text/plain": [
       "RandomizedSearchCV(cv=3, error_score='raise-deprecating',\n",
       "          estimator=SVC(C=1.0, cache_size=200, class_weight=None, coef0=0.0,\n",
       "  decision_function_shape='ovr', degree=3, gamma='scale', kernel='rbf',\n",
       "  max_iter=-1, probability=False, random_state=None, shrinking=True,\n",
       "  tol=0.001, verbose=False),\n",
       "          fit_params=None, iid='warn', n_iter=10, n_jobs=None,\n",
       "          param_distributions={'gamma': <scipy.stats._distn_infrastructure.rv_frozen object at 0x1a2126e4e0>, 'C': <scipy.stats._distn_infrastructure.rv_frozen object at 0x1a2126e240>},\n",
       "          pre_dispatch='2*n_jobs', random_state=None, refit=True,\n",
       "          return_train_score='warn', scoring=None, verbose=2)"
      ]
     },
     "execution_count": 24,
     "metadata": {},
     "output_type": "execute_result"
    }
   ],
   "source": [
    "from sklearn.model_selection import RandomizedSearchCV\n",
    "from scipy.stats import reciprocal,uniform\n",
    "\n",
    "#step one: mention which parameters have to be tweaked\n",
    "param_distributions = {\"gamma\": reciprocal(0.001,0.1), \"C\": uniform(1,10)}\n",
    "\n",
    "#step two: mention the number of passes, governed by n_iter and cv\n",
    "rand_search_cv = RandomizedSearchCV(SVC_model,param_distributions, n_iter=10, cv = 3, verbose = 2)\n",
    "\n",
    "#step three; fit this model\n",
    "rand_search_cv.fit(X_train_s[0:5000],y_train[0:5000])"
   ]
  },
  {
   "cell_type": "markdown",
   "metadata": {},
   "source": [
    "Using `rand_search_cv.best_estimator_` to get the best possible model"
   ]
  },
  {
   "cell_type": "code",
   "execution_count": 25,
   "metadata": {},
   "outputs": [
    {
     "data": {
      "text/plain": [
       "SVC(C=5.267048372949148, cache_size=200, class_weight=None, coef0=0.0,\n",
       "  decision_function_shape='ovr', degree=3, gamma=0.002117027551408727,\n",
       "  kernel='rbf', max_iter=-1, probability=False, random_state=None,\n",
       "  shrinking=True, tol=0.001, verbose=False)"
      ]
     },
     "execution_count": 25,
     "metadata": {},
     "output_type": "execute_result"
    }
   ],
   "source": [
    "rand_search_cv.best_estimator_"
   ]
  },
  {
   "cell_type": "markdown",
   "metadata": {},
   "source": [
    "**Generating predictions and evaluating accuracy** corresponding to the \"best\" estimator for both training and testing sets"
   ]
  },
  {
   "cell_type": "code",
   "execution_count": 26,
   "metadata": {},
   "outputs": [],
   "source": [
    "Y_train_best_est = rand_search_cv.best_estimator_.predict(X_train_s)\n",
    "Y_test_best_est = rand_search_cv.best_estimator_.predict(X_test_s)"
   ]
  },
  {
   "cell_type": "code",
   "execution_count": 27,
   "metadata": {},
   "outputs": [
    {
     "name": "stdout",
     "output_type": "stream",
     "text": [
      "Training Set Accuracy\n",
      "0.9310333333333334\n",
      "\n",
      "\n",
      "Test Set Accuracy\n",
      "0.9269\n"
     ]
    }
   ],
   "source": [
    "print(\"Training Set Accuracy\")\n",
    "print( accuracy_score(y_train,Y_train_best_est) )\n",
    "print(\"\\n\")\n",
    "\n",
    "print(\"Test Set Accuracy\")\n",
    "print(accuracy_score(y_test,Y_test_best_est))"
   ]
  },
  {
   "cell_type": "markdown",
   "metadata": {},
   "source": [
    "**Summary**\n",
    "Randomised Search gives a better accuracy than the *vanilla* version."
   ]
  },
  {
   "cell_type": "markdown",
   "metadata": {},
   "source": [
    "***\n",
    "\n",
    "# 3. Training an SVM Rgressor on the `California Housing Prices` data-set\n",
    "\n",
    "Goal:\n",
    "1. Create a good model employing `LinearSVR` and `SVR`\n",
    "2. Finetune the `SVR` model using `Randomised Search`\n",
    "3. (optional) Implement `Grid Search`\n",
    "\n",
    "### Getting the Data, Splitting it into Training and Test Sets"
   ]
  },
  {
   "cell_type": "code",
   "execution_count": 29,
   "metadata": {},
   "outputs": [
    {
     "data": {
      "text/plain": [
       "(20640, 8)"
      ]
     },
     "execution_count": 29,
     "metadata": {},
     "output_type": "execute_result"
    }
   ],
   "source": [
    "from sklearn.datasets import fetch_california_housing\n",
    "\n",
    "housing = fetch_california_housing()\n",
    "X = housing[\"data\"]\n",
    "y = housing[\"target\"]\n",
    "\n",
    "X.shape"
   ]
  },
  {
   "cell_type": "code",
   "execution_count": 34,
   "metadata": {},
   "outputs": [
    {
     "name": "stdout",
     "output_type": "stream",
     "text": [
      ".. _california_housing_dataset:\n",
      "\n",
      "California Housing dataset\n",
      "--------------------------\n",
      "\n",
      "**Data Set Characteristics:**\n",
      "\n",
      "    :Number of Instances: 20640\n",
      "\n",
      "    :Number of Attributes: 8 numeric, predictive attributes and the target\n",
      "\n",
      "    :Attribute Information:\n",
      "        - MedInc        median income in block\n",
      "        - HouseAge      median house age in block\n",
      "        - AveRooms      average number of rooms\n",
      "        - AveBedrms     average number of bedrooms\n",
      "        - Population    block population\n",
      "        - AveOccup      average house occupancy\n",
      "        - Latitude      house block latitude\n",
      "        - Longitude     house block longitude\n",
      "\n",
      "    :Missing Attribute Values: None\n",
      "\n",
      "This dataset was obtained from the StatLib repository.\n",
      "http://lib.stat.cmu.edu/datasets/\n",
      "\n",
      "The target variable is the median house value for California districts.\n",
      "\n",
      "This dataset was derived from the 1990 U.S. census, using one row per census\n",
      "block group. A block group is the smallest geographical unit for which the U.S.\n",
      "Census Bureau publishes sample data (a block group typically has a population\n",
      "of 600 to 3,000 people).\n",
      "\n",
      "It can be downloaded/loaded using the\n",
      ":func:`sklearn.datasets.fetch_california_housing` function.\n",
      "\n",
      ".. topic:: References\n",
      "\n",
      "    - Pace, R. Kelley and Ronald Barry, Sparse Spatial Autoregressions,\n",
      "      Statistics and Probability Letters, 33 (1997) 291-297\n",
      "\n"
     ]
    }
   ],
   "source": [
    "print(housing.DESCR)"
   ]
  },
  {
   "cell_type": "code",
   "execution_count": 35,
   "metadata": {},
   "outputs": [],
   "source": [
    "from sklearn.model_selection import train_test_split\n",
    "\n",
    "X_train, X_test, y_train, y_test = train_test_split(X, y, test_size=0.2, random_state=42)"
   ]
  },
  {
   "cell_type": "code",
   "execution_count": 36,
   "metadata": {},
   "outputs": [],
   "source": [
    "#It is important to scale the data for applying SVM\n",
    "\n",
    "X_train_s = std_scaler.fit_transform(X_train)\n",
    "X_test_s = std_scaler.fit_transform(X_test)"
   ]
  },
  {
   "cell_type": "markdown",
   "metadata": {},
   "source": [
    "### Fitting Model"
   ]
  },
  {
   "cell_type": "code",
   "execution_count": 46,
   "metadata": {},
   "outputs": [
    {
     "name": "stderr",
     "output_type": "stream",
     "text": [
      "/anaconda3/lib/python3.7/site-packages/sklearn/svm/base.py:931: ConvergenceWarning: Liblinear failed to converge, increase the number of iterations.\n",
      "  \"the number of iterations.\", ConvergenceWarning)\n"
     ]
    }
   ],
   "source": [
    "from sklearn.svm import LinearSVR\n",
    "from sklearn.svm import SVR\n",
    "\n",
    "\n",
    "\n",
    "linear_svr_model = LinearSVR(random_state = 42, epsilon = 1)\n",
    "\n",
    "linear_svr_model.fit(X_train_s, y_train)\n",
    "\n",
    "Y_train_linear_svr = linear_svr_model.predict(X_train_s)\n",
    "Y_test_linear_svr = linear_svr_model.predict(X_test_s)\n",
    "\n",
    "\n",
    "from sklearn.metrics import mean_squared_error\n",
    "mse_train_linear_svr = mean_squared_error(y_train, Y_train_linear_svr)\n",
    "mse_test_linear_svr = mean_squared_error(y_test, Y_test_linear_svr)"
   ]
  },
  {
   "cell_type": "code",
   "execution_count": 47,
   "metadata": {},
   "outputs": [
    {
     "name": "stdout",
     "output_type": "stream",
     "text": [
      "Training Set MSE\n",
      "0.5595633542831504\n",
      "\n",
      "\n",
      "Test Set MSE\n",
      "0.5800105597796045\n"
     ]
    }
   ],
   "source": [
    "print(\"Training Set MSE\")\n",
    "print( mse_train_linear_svr )\n",
    "print(\"\\n\")\n",
    "\n",
    "print(\"Test Set MSE\")\n",
    "print(mse_test_linear_svr)"
   ]
  },
  {
   "cell_type": "code",
   "execution_count": 48,
   "metadata": {},
   "outputs": [],
   "source": [
    "svr_model = SVR()\n",
    "\n",
    "svr_model.fit(X_train_s, y_train)\n",
    "\n",
    "Y_train_svr = svr_model.predict(X_train_s)\n",
    "Y_test_svr = svr_model.predict(X_test_s)\n",
    "\n",
    "\n",
    "from sklearn.metrics import mean_squared_error\n",
    "mse_train_svr = mean_squared_error(y_train, Y_train_svr)\n",
    "mse_test_svr = mean_squared_error(y_test, Y_test_svr)"
   ]
  },
  {
   "cell_type": "code",
   "execution_count": 49,
   "metadata": {},
   "outputs": [
    {
     "name": "stdout",
     "output_type": "stream",
     "text": [
      "Training Set MSE\n",
      "0.33612151092674214\n",
      "\n",
      "\n",
      "Test Set MSE\n",
      "0.9246475842378048\n"
     ]
    }
   ],
   "source": [
    "print(\"Training Set MSE\")\n",
    "print( mse_train_svr )\n",
    "print(\"\\n\")\n",
    "\n",
    "print(\"Test Set MSE\")\n",
    "print(mse_test_svr)"
   ]
  },
  {
   "cell_type": "markdown",
   "metadata": {},
   "source": [
    "### Attempting Randomized Search"
   ]
  },
  {
   "cell_type": "code",
   "execution_count": 50,
   "metadata": {},
   "outputs": [
    {
     "name": "stdout",
     "output_type": "stream",
     "text": [
      "Fitting 3 folds for each of 10 candidates, totalling 30 fits\n",
      "[CV] C=4.745401188473625, gamma=0.07969454818643928 ..................\n"
     ]
    },
    {
     "name": "stderr",
     "output_type": "stream",
     "text": [
      "[Parallel(n_jobs=1)]: Using backend SequentialBackend with 1 concurrent workers.\n"
     ]
    },
    {
     "name": "stdout",
     "output_type": "stream",
     "text": [
      "[CV] ... C=4.745401188473625, gamma=0.07969454818643928, total=   6.0s\n",
      "[CV] C=4.745401188473625, gamma=0.07969454818643928 ..................\n"
     ]
    },
    {
     "name": "stderr",
     "output_type": "stream",
     "text": [
      "[Parallel(n_jobs=1)]: Done   1 out of   1 | elapsed:    7.9s remaining:    0.0s\n"
     ]
    },
    {
     "name": "stdout",
     "output_type": "stream",
     "text": [
      "[CV] ... C=4.745401188473625, gamma=0.07969454818643928, total=   5.8s\n",
      "[CV] C=4.745401188473625, gamma=0.07969454818643928 ..................\n",
      "[CV] ... C=4.745401188473625, gamma=0.07969454818643928, total=   6.2s\n",
      "[CV] C=8.31993941811405, gamma=0.015751320499779724 ..................\n",
      "[CV] ... C=8.31993941811405, gamma=0.015751320499779724, total=   5.4s\n",
      "[CV] C=8.31993941811405, gamma=0.015751320499779724 ..................\n",
      "[CV] ... C=8.31993941811405, gamma=0.015751320499779724, total=   5.2s\n",
      "[CV] C=8.31993941811405, gamma=0.015751320499779724 ..................\n",
      "[CV] ... C=8.31993941811405, gamma=0.015751320499779724, total=   5.3s\n",
      "[CV] C=2.560186404424365, gamma=0.002051110418843397 .................\n",
      "[CV] .. C=2.560186404424365, gamma=0.002051110418843397, total=   4.8s\n",
      "[CV] C=2.560186404424365, gamma=0.002051110418843397 .................\n",
      "[CV] .. C=2.560186404424365, gamma=0.002051110418843397, total=   5.0s\n",
      "[CV] C=2.560186404424365, gamma=0.002051110418843397 .................\n",
      "[CV] .. C=2.560186404424365, gamma=0.002051110418843397, total=   4.8s\n",
      "[CV] C=1.5808361216819946, gamma=0.05399484409787431 .................\n",
      "[CV] .. C=1.5808361216819946, gamma=0.05399484409787431, total=   4.8s\n",
      "[CV] C=1.5808361216819946, gamma=0.05399484409787431 .................\n",
      "[CV] .. C=1.5808361216819946, gamma=0.05399484409787431, total=   4.9s\n",
      "[CV] C=1.5808361216819946, gamma=0.05399484409787431 .................\n",
      "[CV] .. C=1.5808361216819946, gamma=0.05399484409787431, total=   4.8s\n",
      "[CV] C=7.011150117432088, gamma=0.026070247583707663 .................\n",
      "[CV] .. C=7.011150117432088, gamma=0.026070247583707663, total=   5.3s\n",
      "[CV] C=7.011150117432088, gamma=0.026070247583707663 .................\n",
      "[CV] .. C=7.011150117432088, gamma=0.026070247583707663, total=   5.4s\n",
      "[CV] C=7.011150117432088, gamma=0.026070247583707663 .................\n",
      "[CV] .. C=7.011150117432088, gamma=0.026070247583707663, total=   5.4s\n",
      "[CV] C=1.2058449429580245, gamma=0.0870602087830485 ..................\n",
      "[CV] ... C=1.2058449429580245, gamma=0.0870602087830485, total=   4.7s\n",
      "[CV] C=1.2058449429580245, gamma=0.0870602087830485 ..................\n",
      "[CV] ... C=1.2058449429580245, gamma=0.0870602087830485, total=   4.7s\n",
      "[CV] C=1.2058449429580245, gamma=0.0870602087830485 ..................\n",
      "[CV] ... C=1.2058449429580245, gamma=0.0870602087830485, total=   4.7s\n",
      "[CV] C=9.324426408004218, gamma=0.0026587543983272693 ................\n",
      "[CV] . C=9.324426408004218, gamma=0.0026587543983272693, total=   4.9s\n",
      "[CV] C=9.324426408004218, gamma=0.0026587543983272693 ................\n",
      "[CV] . C=9.324426408004218, gamma=0.0026587543983272693, total=   5.1s\n",
      "[CV] C=9.324426408004218, gamma=0.0026587543983272693 ................\n",
      "[CV] . C=9.324426408004218, gamma=0.0026587543983272693, total=   4.8s\n",
      "[CV] C=2.818249672071006, gamma=0.0023270677083837795 ................\n",
      "[CV] . C=2.818249672071006, gamma=0.0023270677083837795, total=   4.7s\n",
      "[CV] C=2.818249672071006, gamma=0.0023270677083837795 ................\n",
      "[CV] . C=2.818249672071006, gamma=0.0023270677083837795, total=   4.8s\n",
      "[CV] C=2.818249672071006, gamma=0.0023270677083837795 ................\n",
      "[CV] . C=2.818249672071006, gamma=0.0023270677083837795, total=   4.7s\n",
      "[CV] C=4.042422429595377, gamma=0.011207606211860567 .................\n",
      "[CV] .. C=4.042422429595377, gamma=0.011207606211860567, total=   4.9s\n",
      "[CV] C=4.042422429595377, gamma=0.011207606211860567 .................\n",
      "[CV] .. C=4.042422429595377, gamma=0.011207606211860567, total=   4.9s\n",
      "[CV] C=4.042422429595377, gamma=0.011207606211860567 .................\n",
      "[CV] .. C=4.042422429595377, gamma=0.011207606211860567, total=   4.9s\n",
      "[CV] C=5.319450186421157, gamma=0.003823475224675185 .................\n",
      "[CV] .. C=5.319450186421157, gamma=0.003823475224675185, total=   4.8s\n",
      "[CV] C=5.319450186421157, gamma=0.003823475224675185 .................\n",
      "[CV] .. C=5.319450186421157, gamma=0.003823475224675185, total=   4.8s\n",
      "[CV] C=5.319450186421157, gamma=0.003823475224675185 .................\n",
      "[CV] .. C=5.319450186421157, gamma=0.003823475224675185, total=   4.9s\n"
     ]
    },
    {
     "name": "stderr",
     "output_type": "stream",
     "text": [
      "[Parallel(n_jobs=1)]: Done  30 out of  30 | elapsed:  3.5min finished\n"
     ]
    },
    {
     "data": {
      "text/plain": [
       "RandomizedSearchCV(cv=3, error_score='raise-deprecating',\n",
       "          estimator=SVR(C=1.0, cache_size=200, coef0=0.0, degree=3, epsilon=0.1,\n",
       "  gamma='auto_deprecated', kernel='rbf', max_iter=-1, shrinking=True,\n",
       "  tol=0.001, verbose=False),\n",
       "          fit_params=None, iid='warn', n_iter=10, n_jobs=None,\n",
       "          param_distributions={'gamma': <scipy.stats._distn_infrastructure.rv_frozen object at 0x1a211ecef0>, 'C': <scipy.stats._distn_infrastructure.rv_frozen object at 0x1a211ec940>},\n",
       "          pre_dispatch='2*n_jobs', random_state=42, refit=True,\n",
       "          return_train_score='warn', scoring=None, verbose=2)"
      ]
     },
     "execution_count": 50,
     "metadata": {},
     "output_type": "execute_result"
    }
   ],
   "source": [
    "from sklearn.svm import SVR\n",
    "from sklearn.model_selection import RandomizedSearchCV\n",
    "from scipy.stats import reciprocal, uniform\n",
    "\n",
    "param_distributions = {\"gamma\": reciprocal(0.001, 0.1), \"C\": uniform(1, 10)}\n",
    "rnd_search_cv = RandomizedSearchCV(SVR(), param_distributions, n_iter=10, verbose=2, cv=3, random_state=42)\n",
    "rnd_search_cv.fit(X_train_s, y_train)"
   ]
  },
  {
   "cell_type": "code",
   "execution_count": 51,
   "metadata": {},
   "outputs": [
    {
     "data": {
      "text/plain": [
       "SVR(C=4.745401188473625, cache_size=200, coef0=0.0, degree=3, epsilon=0.1,\n",
       "  gamma=0.07969454818643928, kernel='rbf', max_iter=-1, shrinking=True,\n",
       "  tol=0.001, verbose=False)"
      ]
     },
     "execution_count": 51,
     "metadata": {},
     "output_type": "execute_result"
    }
   ],
   "source": [
    "rnd_search_cv.best_estimator_"
   ]
  },
  {
   "cell_type": "code",
   "execution_count": 54,
   "metadata": {},
   "outputs": [],
   "source": [
    "Y_train_rnd_srch = rnd_search_cv.best_estimator_.predict(X_train_s)\n",
    "Y_test_rnd_srch = rnd_search_cv.best_estimator_.predict(X_test_s)"
   ]
  },
  {
   "cell_type": "code",
   "execution_count": 55,
   "metadata": {},
   "outputs": [],
   "source": [
    "mse_train_rnd_srch = mean_squared_error(y_train, Y_train_rnd_srch)\n",
    "mse_test_rnd_srch = mean_squared_error(y_test, Y_test_rnd_srch)"
   ]
  },
  {
   "cell_type": "code",
   "execution_count": 56,
   "metadata": {},
   "outputs": [
    {
     "name": "stdout",
     "output_type": "stream",
     "text": [
      "Training Set MSE\n",
      "0.3280453999995988\n",
      "\n",
      "\n",
      "Test Set MSE\n",
      "1.224712529941543\n"
     ]
    }
   ],
   "source": [
    "print(\"Training Set MSE\")\n",
    "print( mse_train_rnd_srch )\n",
    "print(\"\\n\")\n",
    "\n",
    "print(\"Test Set MSE\")\n",
    "print(mse_test_rnd_srch)"
   ]
  },
  {
   "cell_type": "code",
   "execution_count": null,
   "metadata": {},
   "outputs": [],
   "source": []
  }
 ],
 "metadata": {
  "kernelspec": {
   "display_name": "Python 3",
   "language": "python",
   "name": "python3"
  },
  "language_info": {
   "codemirror_mode": {
    "name": "ipython",
    "version": 3
   },
   "file_extension": ".py",
   "mimetype": "text/x-python",
   "name": "python",
   "nbconvert_exporter": "python",
   "pygments_lexer": "ipython3",
   "version": "3.7.2"
  },
  "toc": {
   "base_numbering": 1,
   "nav_menu": {},
   "number_sections": false,
   "sideBar": true,
   "skip_h1_title": false,
   "title_cell": "Table of Contents",
   "title_sidebar": "Contents",
   "toc_cell": false,
   "toc_position": {},
   "toc_section_display": true,
   "toc_window_display": false
  }
 },
 "nbformat": 4,
 "nbformat_minor": 2
}
