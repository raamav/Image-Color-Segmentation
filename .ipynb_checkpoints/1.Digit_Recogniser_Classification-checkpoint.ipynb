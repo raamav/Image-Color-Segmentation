{
 "cells": [
  {
   "cell_type": "markdown",
   "metadata": {},
   "source": [
    "\n",
    "\n",
    "### Digit Recognizer (MNIST) Introduction\n",
    "\n",
    "[The MNIST](http://yann.lecun.com/exdb/mnist/) is a large public database comprising about ~70,000 handwritten digits. The task then is to use machine learning approaches to detect these digits.\n",
    "\n",
    "This database provides a great training ground for building and testing algorithms for image processing [more information](https://en.wikipedia.org/wiki/MNIST_database). \n",
    "\n",
    "This notebook focuses on using machine learning techniques for image classification starting with the *Stochastic Gradient Descent (SGD)* to implementing *Support Vector Machine Classifiers (SVM C)* to using ensemble techniques like *Random Forest*\n",
    "\n",
    "Additionally, there are 2 versions of the algorithms that have been implemented:\n",
    "1. A binary classifier that detects if the handwritten digit is number `3` or not.\n",
    "2. A 'multi-class' implementation that identifies the handwritten digit.\n",
    "\n",
    "<br>\n",
    "\n",
    "PS:\n",
    "* Further [reading](https://datascience.stackexchange.com/questions/36450/what-is-the-difference-between-gradient-descent-and-stochastic-gradient-descent) on Stochastic Gradient Descent and how its different (*and more efficient*) than the standard Gradient Descent Algorithm\n",
    "\n",
    "\n",
    "***\n",
    "\n",
    "### Getting the Data and Initial Exploration"
   ]
  },
  {
   "cell_type": "code",
   "execution_count": 1,
   "metadata": {},
   "outputs": [],
   "source": [
    "# Initial Housekeeping\n",
    "\n",
    "#Housekeeping \n",
    "\n",
    "# To support both python 2 and python 3\n",
    "from __future__ import division, print_function, unicode_literals\n",
    "\n",
    "# Common imports\n",
    "import numpy as np\n",
    "import os\n",
    "\n",
    "# to make this notebook's output stable across runs\n",
    "np.random.seed(42)\n",
    "\n",
    "# To plot pretty figures\n",
    "%matplotlib inline\n",
    "import matplotlib as mpl\n",
    "import matplotlib.pyplot as plt\n",
    "mpl.rc('axes', labelsize=14)\n",
    "mpl.rc('xtick', labelsize=12)\n",
    "mpl.rc('ytick', labelsize=12)\n",
    "\n",
    "# Where to save the figures\n",
    "PROJECT_ROOT_DIR = \".\"\n",
    "CHAPTER_ID = \"3_classification\"\n",
    "\n",
    "# A simple function that helps save images\n",
    "def save_fig(fig_id, tight_layout=True):\n",
    "    path = os.path.join(PROJECT_ROOT_DIR, \"images\", CHAPTER_ID, fig_id + \".png\")\n",
    "    print(\"Saving figure\", fig_id)\n",
    "    if tight_layout:\n",
    "        plt.tight_layout()\n",
    "    plt.savefig(path, format='png', dpi=300)"
   ]
  },
  {
   "cell_type": "markdown",
   "metadata": {},
   "source": [
    "#### Getting the Data"
   ]
  },
  {
   "cell_type": "code",
   "execution_count": 30,
   "metadata": {},
   "outputs": [],
   "source": [
    "# Being a commonly used dataset, its a part of the Scikit Learn\n",
    "\n",
    "from sklearn.datasets import fetch_openml\n",
    "mnist = fetch_openml ('mnist_784',version =1,cache = True)"
   ]
  },
  {
   "cell_type": "markdown",
   "metadata": {},
   "source": [
    "\n",
    "In any **machine learning** implmentation the typical *first steps* to be followed after getting the data are:\n",
    "1. Dividing the dataset into the predictors (**`X`**; *a matrix of size `m * n`* ) and the labels (**`y`**; *an N dimensional vector*)\n",
    "2. Data is then divided into `training` and `testing` sets either  through `Stratefied Random Sampling` or via `Random Sampling` (typically) depending on whether the data has a leading predictor or not\n",
    "\n",
    "The images are of size 28 * 28, and thus the dataset has 784 features or predictors (`N = 784`)"
   ]
  },
  {
   "cell_type": "code",
   "execution_count": 31,
   "metadata": {},
   "outputs": [
    {
     "name": "stdout",
     "output_type": "stream",
     "text": [
      "Shape of X  (70000, 784)\n",
      "Shape of y  (70000,)\n",
      "<class 'numpy.ndarray'>\n"
     ]
    }
   ],
   "source": [
    "mnist.keys()\n",
    "#mnist['DESCR']\n",
    "\n",
    "#splitting the data into training and testing samples\n",
    "X = mnist[\"data\"]\n",
    "y = mnist[\"target\"]\n",
    "\n",
    "print(\"Shape of X \", X.shape) #(70000,784)\n",
    "print(\"Shape of y \", y.shape) # (70000,)\n",
    "\n",
    "print(type(X))\n",
    "\n",
    "#converting y to integer, at present it is string\n",
    "\n",
    "y = y.astype(np.uint8)"
   ]
  },
  {
   "cell_type": "markdown",
   "metadata": {},
   "source": [
    "MNIST downloaded from the library Scikit-learn is pre-formatted such that the *first* 60,000 rows can be used to train the model (**`training set`**) while the *next* 10,000 rows can be used to test the model performance (**`test set`**)"
   ]
  },
  {
   "cell_type": "code",
   "execution_count": 32,
   "metadata": {},
   "outputs": [
    {
     "name": "stdout",
     "output_type": "stream",
     "text": [
      "Shape of training set predictor matrix  (60000, 784)\n",
      "Shape of test set predictor matrix  (10000, 784)\n"
     ]
    }
   ],
   "source": [
    "# Splitting the data into training and testing sets\n",
    "\n",
    "\n",
    "X_train = X[:60000] \n",
    "y_train = y[:60000]\n",
    "\n",
    "X_test = X[60000:]\n",
    "y_test = y[60000:]\n",
    "\n",
    "print(\"Shape of training set predictor matrix \", X_train.shape)\n",
    "print(\"Shape of test set predictor matrix \", X_test.shape)\n",
    "      "
   ]
  },
  {
   "cell_type": "markdown",
   "metadata": {},
   "source": [
    "#### Exploring the Data\n",
    "\n",
    "Visualizing a 'sample' digit from the dataset"
   ]
  },
  {
   "cell_type": "code",
   "execution_count": 33,
   "metadata": {},
   "outputs": [
    {
     "data": {
      "image/png": "[encoded data removed]",
      "text/plain": [
       "<Figure size 432x288 with 1 Axes>"
      ]
     },
     "metadata": {
      "needs_background": "light"
     },
     "output_type": "display_data"
    }
   ],
   "source": [
    "# defining a function for plotting the imaage\n",
    "\n",
    "def plot_digit(data):\n",
    "    image  = data.reshape(28,28)\n",
    "    plt.imshow(image, interpolation = \"nearest\",cmap = mpl.cm.binary)\n",
    "    plt.axis(\"off\")\n",
    "    \n",
    "some_data = X_train[25000]\n",
    "\n",
    "plot_digit(some_data)\n",
    "    "
   ]
  },
  {
   "cell_type": "code",
   "execution_count": 98,
   "metadata": {},
   "outputs": [
    {
     "data": {
      "image/png": "[encoded data removed]",
      "text/plain": [
       "<Figure size 432x288 with 49 Axes>"
      ]
     },
     "metadata": {
      "needs_background": "light"
     },
     "output_type": "display_data"
    }
   ],
   "source": [
    "#plotting more images\n",
    "\n",
    "for i in range(1,50):\n",
    "    plt.subplot(7, 7, i)\n",
    "    plot_digit(X_train[4999+i])"
   ]
  },
  {
   "cell_type": "markdown",
   "metadata": {},
   "source": [
    "### 'Binary' Classifier to detect digit `3`\n",
    "\n",
    "#### Preparing the Data\n",
    "\n",
    "For implementing the binary classifier, the labels have to be made binary. \n",
    "\n",
    "Also, the `SGD Classifier` [converges faster](https://scikit-learn.org/stable/modules/generated/sklearn.linear_model.SGDClassifier.html) when the data is `standardized` (*i.e. the data is transformed in a way that mean = 0 and standard deviation = 1*)\n"
   ]
  },
  {
   "cell_type": "code",
   "execution_count": 35,
   "metadata": {},
   "outputs": [
    {
     "name": "stdout",
     "output_type": "stream",
     "text": [
      "checking if it looks all good:  True\n"
     ]
    }
   ],
   "source": [
    "y_train_3 = (y_train == 3)\n",
    "y_test_3 = (y_test == 3)\n",
    "\n",
    "print(\"checking if it looks all good: \", y_train_3[25000])"
   ]
  },
  {
   "cell_type": "markdown",
   "metadata": {},
   "source": [
    "The next step is to implement `StandardScaler` for scaling up the data"
   ]
  },
  {
   "cell_type": "code",
   "execution_count": 76,
   "metadata": {},
   "outputs": [],
   "source": [
    "from sklearn.preprocessing import StandardScaler\n",
    "import numpy as np\n",
    "\n",
    "std_scaler = StandardScaler()\n",
    "\n",
    "X_train_prep = std_scaler.fit_transform(X_train)\n",
    "\n",
    "\n",
    "#print(\"Mean & SD of pre-scaled version of training set: \", np.mean(X_train[:,5]), np.std(X_train[:,5]))\n",
    "#print(\"Mean & SD of scaled version of training set: \", np.mean(X_train_prep[:,5]), np.std(X_train_prep[:,5]))\n",
    "\n",
    "# X_train[1]\n",
    "# X_train_prep[1]"
   ]
  },
  {
   "cell_type": "markdown",
   "metadata": {},
   "source": [
    "We now have the data in place. The data has also been scaled to ensure that `Gradient Descent` converges faster.\n",
    "\n",
    "The next step is to train the binary classification models and to evaluate their performance.\n",
    "\n",
    "#### Training the Models and Evaluating Performance\n",
    "\n",
    "Starting off with the **Stochastic Gradient Descent (SGD) Classifier**\n",
    "\n",
    "##### SDG Classifier\n",
    "Further [reading](https://datascience.stackexchange.com/questions/36450/what-is-the-difference-between-gradient-descent-and-stochastic-gradient-descent) on SGD"
   ]
  },
  {
   "cell_type": "code",
   "execution_count": 85,
   "metadata": {},
   "outputs": [
    {
     "name": "stderr",
     "output_type": "stream",
     "text": [
      "/anaconda3/lib/python3.7/site-packages/sklearn/linear_model/stochastic_gradient.py:166: FutureWarning: max_iter and tol parameters have been added in SGDClassifier in 0.19. If both are left unset, they default to max_iter=5 and tol=None. If tol is not None, max_iter defaults to max_iter=1000. From 0.21, default max_iter will be 1000, and default tol will be 1e-3.\n",
      "  FutureWarning)\n"
     ]
    }
   ],
   "source": [
    "from sklearn.linear_model import SGDClassifier\n",
    "\n",
    "#Training Model\n",
    "sgd_model_3 = SGDClassifier(random_state = 42)\n",
    "sgd_model_3.fit(X_train_prep, y_train_3)\n",
    "\n",
    "#training set predictions\n",
    "Y_train_sgd_predict_3 = sgd_model_3.predict(X_train_prep)"
   ]
  },
  {
   "cell_type": "markdown",
   "metadata": {},
   "source": [
    "`Precision`, `Recall` and `F1` are some of the important ways of measuring the performance of classification models:\n",
    "1. `Precision` denotes the % accuracy of the cases that been detected as \"positive\". More concretely, it is `True Positive / (False Positive + True Positive)`\n",
    "2. `Recall` on the other hand measures the % of psotive cases (y=1) that have been successfully identified by the model. More concretely, it is `True Positive/ (True Negative + True Positive)`\n",
    "3. `F1` is the harmonic mean of the `Precision` and `Recall` measures. It can be used as a summary statistic which can be used to compare between models"
   ]
  },
  {
   "cell_type": "code",
   "execution_count": 87,
   "metadata": {},
   "outputs": [
    {
     "name": "stdout",
     "output_type": "stream",
     "text": [
      "model performance scores:  \n",
      "\n",
      "Precision =  0.9191270860077022\n",
      "Recall =  0.8174849127385418\n",
      "F1 =  0.8653314917127073\n"
     ]
    }
   ],
   "source": [
    "#defining a neat function to calculate these scores\n",
    "\n",
    "from sklearn.metrics import precision_score, recall_score, f1_score\n",
    "\n",
    "def model_performance_scores(train,predicted):\n",
    "    precision_kpi = precision_score(train,predicted)\n",
    "    recall_kpi = recall_score(train, predicted)\n",
    "    f1_kpi = f1_score(train,predicted)\n",
    "    \n",
    "    print(\"model performance scores: \",\"\\n\")\n",
    "    print(\"Precision = \", precision_kpi)\n",
    "    print(\"Recall = \", recall_kpi)\n",
    "    print(\"F1 = \", f1_kpi)    \n",
    "    #print(\"\\n\")\n",
    "\n",
    "#in-sample model accuracy\n",
    "model_performance_scores(y_train_3,Y_train_sgd_predict_3)"
   ]
  },
  {
   "cell_type": "markdown",
   "metadata": {},
   "source": [
    "A model is *bound to* perform well when its performance is evaluated on the same set that its trained on. \n",
    "\n",
    "A better way to test the model is via [Cross Validation (CV](https://towardsdatascience.com/cross-validation-in-machine-learning-72924a69872f). Post CV, the peformance of the model will be evaluated on the `test` set."
   ]
  },
  {
   "cell_type": "code",
   "execution_count": 90,
   "metadata": {},
   "outputs": [
    {
     "name": "stderr",
     "output_type": "stream",
     "text": [
      "/anaconda3/lib/python3.7/site-packages/sklearn/linear_model/stochastic_gradient.py:166: FutureWarning: max_iter and tol parameters have been added in SGDClassifier in 0.19. If both are left unset, they default to max_iter=5 and tol=None. If tol is not None, max_iter defaults to max_iter=1000. From 0.21, default max_iter will be 1000, and default tol will be 1e-3.\n",
      "  FutureWarning)\n",
      "/anaconda3/lib/python3.7/site-packages/sklearn/linear_model/stochastic_gradient.py:166: FutureWarning: max_iter and tol parameters have been added in SGDClassifier in 0.19. If both are left unset, they default to max_iter=5 and tol=None. If tol is not None, max_iter defaults to max_iter=1000. From 0.21, default max_iter will be 1000, and default tol will be 1e-3.\n",
      "  FutureWarning)\n",
      "/anaconda3/lib/python3.7/site-packages/sklearn/linear_model/stochastic_gradient.py:166: FutureWarning: max_iter and tol parameters have been added in SGDClassifier in 0.19. If both are left unset, they default to max_iter=5 and tol=None. If tol is not None, max_iter defaults to max_iter=1000. From 0.21, default max_iter will be 1000, and default tol will be 1e-3.\n",
      "  FutureWarning)\n",
      "/anaconda3/lib/python3.7/site-packages/sklearn/linear_model/stochastic_gradient.py:166: FutureWarning: max_iter and tol parameters have been added in SGDClassifier in 0.19. If both are left unset, they default to max_iter=5 and tol=None. If tol is not None, max_iter defaults to max_iter=1000. From 0.21, default max_iter will be 1000, and default tol will be 1e-3.\n",
      "  FutureWarning)\n",
      "/anaconda3/lib/python3.7/site-packages/sklearn/linear_model/stochastic_gradient.py:166: FutureWarning: max_iter and tol parameters have been added in SGDClassifier in 0.19. If both are left unset, they default to max_iter=5 and tol=None. If tol is not None, max_iter defaults to max_iter=1000. From 0.21, default max_iter will be 1000, and default tol will be 1e-3.\n",
      "  FutureWarning)\n"
     ]
    },
    {
     "data": {
      "text/plain": [
       "0.9725167068707179"
      ]
     },
     "execution_count": 90,
     "metadata": {},
     "output_type": "execute_result"
    }
   ],
   "source": [
    "#implementing cross-validation\n",
    "\n",
    "from sklearn.model_selection import cross_val_score\n",
    "cross_val = cross_val_score(sgd_model_3, X_train_prep, y_train_3, cv = 5, scoring = \"accuracy\")\n",
    "\n",
    "cross_val.mean()"
   ]
  },
  {
   "cell_type": "code",
   "execution_count": 92,
   "metadata": {},
   "outputs": [
    {
     "name": "stderr",
     "output_type": "stream",
     "text": [
      "/anaconda3/lib/python3.7/site-packages/sklearn/linear_model/stochastic_gradient.py:166: FutureWarning: max_iter and tol parameters have been added in SGDClassifier in 0.19. If both are left unset, they default to max_iter=5 and tol=None. If tol is not None, max_iter defaults to max_iter=1000. From 0.21, default max_iter will be 1000, and default tol will be 1e-3.\n",
      "  FutureWarning)\n",
      "/anaconda3/lib/python3.7/site-packages/sklearn/linear_model/stochastic_gradient.py:166: FutureWarning: max_iter and tol parameters have been added in SGDClassifier in 0.19. If both are left unset, they default to max_iter=5 and tol=None. If tol is not None, max_iter defaults to max_iter=1000. From 0.21, default max_iter will be 1000, and default tol will be 1e-3.\n",
      "  FutureWarning)\n",
      "/anaconda3/lib/python3.7/site-packages/sklearn/linear_model/stochastic_gradient.py:166: FutureWarning: max_iter and tol parameters have been added in SGDClassifier in 0.19. If both are left unset, they default to max_iter=5 and tol=None. If tol is not None, max_iter defaults to max_iter=1000. From 0.21, default max_iter will be 1000, and default tol will be 1e-3.\n",
      "  FutureWarning)\n",
      "/anaconda3/lib/python3.7/site-packages/sklearn/linear_model/stochastic_gradient.py:166: FutureWarning: max_iter and tol parameters have been added in SGDClassifier in 0.19. If both are left unset, they default to max_iter=5 and tol=None. If tol is not None, max_iter defaults to max_iter=1000. From 0.21, default max_iter will be 1000, and default tol will be 1e-3.\n",
      "  FutureWarning)\n",
      "/anaconda3/lib/python3.7/site-packages/sklearn/linear_model/stochastic_gradient.py:166: FutureWarning: max_iter and tol parameters have been added in SGDClassifier in 0.19. If both are left unset, they default to max_iter=5 and tol=None. If tol is not None, max_iter defaults to max_iter=1000. From 0.21, default max_iter will be 1000, and default tol will be 1e-3.\n",
      "  FutureWarning)\n"
     ]
    },
    {
     "name": "stdout",
     "output_type": "stream",
     "text": [
      "model performance scores:  \n",
      "\n",
      "Precision =  0.9105899596921949\n",
      "Recall =  0.8106344805088892\n",
      "F1 =  0.8577098973164207\n"
     ]
    }
   ],
   "source": [
    "#generating predictions via cross-validation\n",
    "\n",
    "from sklearn.model_selection import cross_val_predict\n",
    "Y_train_sgd_3_cv_predict = cross_val_predict(sgd_model_3, X_train_prep, y_train_3, cv=5)\n",
    "\n",
    "#calculating precision, recall and F1\n",
    "model_performance_scores( y_train_3, Y_train_sgd_3_cv_predict)"
   ]
  },
  {
   "cell_type": "markdown",
   "metadata": {},
   "source": [
    "Using `cross validation`, we find that the accuracy of the model has *reduced slightly*.\n",
    "\n",
    "The final step from a SGD Classifier standpoint id to evaluate the performance of the model on the test set. Usually, this is best *barometer* of the model performance."
   ]
  },
  {
   "cell_type": "code",
   "execution_count": 100,
   "metadata": {},
   "outputs": [
    {
     "name": "stdout",
     "output_type": "stream",
     "text": [
      "model performance scores:  \n",
      "\n",
      "Precision =  0.9028511087645196\n",
      "Recall =  0.8465346534653465\n",
      "F1 =  0.8737864077669903\n"
     ]
    }
   ],
   "source": [
    "#generating predictions on test set\n",
    "X_test_prep = std_scaler.fit_transform(X_test)\n",
    "Y_test_sgd_3 = sgd_model_3.predict(X_test_prep)\n",
    "\n",
    "model_performance_scores(y_test_3,Y_test_sgd_3)"
   ]
  },
  {
   "cell_type": "markdown",
   "metadata": {},
   "source": [
    "The performance of the model on the `test set` proides a more realistic evaluation of the performance of the model.\n",
    "\n",
    "**SGD Verdict**\n",
    "<br>\n",
    "The `Precision` is 0.90, while the `Recall` is 0.85. The `F1` score is 0.87\n",
    "\n",
    "A couple of other classfication algorithsm will be tried next.\n",
    "\n",
    "\n",
    "#####  Random Forest Classifier"
   ]
  },
  {
   "cell_type": "code",
   "execution_count": 104,
   "metadata": {},
   "outputs": [
    {
     "data": {
      "text/plain": [
       "RandomForestClassifier(bootstrap=True, class_weight=None, criterion='gini',\n",
       "            max_depth=None, max_features='auto', max_leaf_nodes=None,\n",
       "            min_impurity_decrease=0.0, min_impurity_split=None,\n",
       "            min_samples_leaf=1, min_samples_split=2,\n",
       "            min_weight_fraction_leaf=0.0, n_estimators=10, n_jobs=None,\n",
       "            oob_score=False, random_state=42, verbose=0, warm_start=False)"
      ]
     },
     "execution_count": 104,
     "metadata": {},
     "output_type": "execute_result"
    }
   ],
   "source": [
    "from sklearn.ensemble import RandomForestClassifier\n",
    "\n",
    "forest_model_3 = RandomForestClassifier(n_estimators = 10, random_state = 42)\n",
    "forest_model_3.fit(X_train_prep,y_train_3)"
   ]
  },
  {
   "cell_type": "code",
   "execution_count": 106,
   "metadata": {},
   "outputs": [
    {
     "name": "stdout",
     "output_type": "stream",
     "text": [
      "model performance scores:  \n",
      "\n",
      "Precision =  0.9871382636655949\n",
      "Recall =  0.8011743598107975\n",
      "F1 =  0.884487260286306\n"
     ]
    }
   ],
   "source": [
    "#generating predictions using cross vaidation\n",
    "Y_train_forest_3_cv_predict = cross_val_predict(forest_model_3, X_train_prep, y_train_3, cv=5)\n",
    "\n",
    "#calculating precision, recall and F1\n",
    "model_performance_scores( y_train_3, Y_train_forest_3_cv_predict)"
   ]
  },
  {
   "cell_type": "markdown",
   "metadata": {},
   "source": [
    "Measurinng the performance on the `test` setg"
   ]
  },
  {
   "cell_type": "code",
   "execution_count": 108,
   "metadata": {},
   "outputs": [
    {
     "name": "stdout",
     "output_type": "stream",
     "text": [
      "model performance scores:  \n",
      "\n",
      "Precision =  0.9902557856272838\n",
      "Recall =  0.804950495049505\n",
      "F1 =  0.8880393227744402\n"
     ]
    }
   ],
   "source": [
    "#generating predictions on test set\n",
    "\n",
    "Y_test_forest_3 = forest_model_3.predict(X_test_prep)\n",
    "\n",
    "model_performance_scores(y_test_3,Y_test_forest_3)"
   ]
  },
  {
   "cell_type": "markdown",
   "metadata": {},
   "source": [
    "**Random Forest Verdict**\n",
    "<br>\n",
    "The `Precision` is an awesome 0.99, while the `Recall` is a measly 0.85. The `F1` score is 0.89\n",
    "\n",
    "\n",
    "##### Understanding Mis-classified Cases\n",
    "\n",
    "Understanding mis-classified cases is a good way of understanding how the algorithhm can further be improved. There are 2 kinds of errors `False Positives` and `False Negatives`, both of which shall be analysed.\n",
    "\n",
    "<br>\n",
    "\n",
    "###### Analysis of False Positive Cases"
   ]
  },
  {
   "cell_type": "code",
   "execution_count": 118,
   "metadata": {},
   "outputs": [
    {
     "data": {
      "text/plain": [
       "(92, 784)"
      ]
     },
     "execution_count": 118,
     "metadata": {},
     "output_type": "execute_result"
    }
   ],
   "source": [
    "#Further analysis on 'False Positive' cases - SGD - Test Set\n",
    "\n",
    "FP_sgd_test = X_test[(Y_test_sgd_3 == True) & (y_test_3 == False)]\n",
    "\n",
    "FP_sgd_test.shape # m = 92\n"
   ]
  },
  {
   "cell_type": "markdown",
   "metadata": {},
   "source": [
    "There are 92 instances in the test set that SGD has incorectly labeled as digit `3`. Plotting them:"
   ]
  },
  {
   "cell_type": "code",
   "execution_count": 120,
   "metadata": {},
   "outputs": [
    {
     "data": {
      "image/png": "[encoded data removed]",
      "text/plain": [
       "<Figure size 432x288 with 64 Axes>"
      ]
     },
     "metadata": {
      "needs_background": "light"
     },
     "output_type": "display_data"
    }
   ],
   "source": [
    "for i in range(1,65):\n",
    "    plt.subplot(8, 8, i)\n",
    "    plot_digit(FP_sgd_test[i])"
   ]
  },
  {
   "cell_type": "markdown",
   "metadata": {},
   "source": [
    "Checking to see if the `False Positive` cases in the `Random Forest` Model  are less *obvious* than this.\n",
    "\n"
   ]
  },
  {
   "cell_type": "code",
   "execution_count": 123,
   "metadata": {},
   "outputs": [
    {
     "name": "stdout",
     "output_type": "stream",
     "text": [
      "Number of FP instances, Random Forest, Test Set  (8, 784)\n"
     ]
    },
    {
     "data": {
      "image/png": "[encoded data removed]",
      "text/plain": [
       "<Figure size 432x288 with 8 Axes>"
      ]
     },
     "metadata": {
      "needs_background": "light"
     },
     "output_type": "display_data"
    }
   ],
   "source": [
    "#Further analysis on 'False Positive' cases - Random Forest - Test Set\n",
    "\n",
    "FP_forest_test = X_test[(Y_test_forest_3 == True) & (y_test_3 == False)]\n",
    "print(\"Number of FP instances, Random Forest, Test Set \",FP_forest_test.shape) # m = 92\n",
    "\n",
    "#Plotting\n",
    "for i in range(1,9):\n",
    "    plt.subplot(8, 8, i)\n",
    "    plot_digit(FP_sgd_test[i])"
   ]
  },
  {
   "cell_type": "markdown",
   "metadata": {},
   "source": [
    "**SUMMARY**: The `False Positive` cases in Random Forest, other than being fewer in number are *more ambigious* than the ones in the case of `SGD Classifier`\n",
    "\n",
    "Now, over to the analysis of False Negative Cases\n",
    "\n",
    "\n",
    "###### Analysis of False Negative Cases"
   ]
  },
  {
   "cell_type": "code",
   "execution_count": 125,
   "metadata": {},
   "outputs": [
    {
     "name": "stdout",
     "output_type": "stream",
     "text": [
      "Number of FP instances, SGD, Test Set  (155, 784)\n"
     ]
    },
    {
     "data": {
      "image/png": "[encoded data removed]",
      "text/plain": [
       "<Figure size 432x288 with 64 Axes>"
      ]
     },
     "metadata": {
      "needs_background": "light"
     },
     "output_type": "display_data"
    }
   ],
   "source": [
    "#SGD\n",
    "FN_sgd_test = X_test[(Y_test_sgd_3 == False) & (y_test_3 == True)]\n",
    "print(\"Number of FP instances, SGD, Test Set \",FN_sgd_test.shape) # m = 92\n",
    "\n",
    "#Plotting\n",
    "for i in range(1,65):\n",
    "    plt.subplot(8, 8, i)\n",
    "    plot_digit(FN_sgd_test[i])"
   ]
  },
  {
   "cell_type": "markdown",
   "metadata": {},
   "source": [
    "These all look like `3` with the exception of a few; checking how 'Random Forest' has performed at this."
   ]
  },
  {
   "cell_type": "code",
   "execution_count": 126,
   "metadata": {},
   "outputs": [
    {
     "name": "stdout",
     "output_type": "stream",
     "text": [
      "Number of FP instances, SGD, Test Set  (197, 784)\n"
     ]
    },
    {
     "data": {
      "image/png": "[encoded data removed]",
      "text/plain": [
       "<Figure size 432x288 with 64 Axes>"
      ]
     },
     "metadata": {
      "needs_background": "light"
     },
     "output_type": "display_data"
    }
   ],
   "source": [
    "#Random Forest\n",
    "FN_forest_test = X_test[(Y_test_forest_3 == False) & (y_test_3 == True)]\n",
    "print(\"Number of FP instances, SGD, Test Set \",FN_forest_test.shape) # m = 92\n",
    "\n",
    "#Plotting\n",
    "for i in range(1,65):\n",
    "    plt.subplot(8, 8, i)\n",
    "    plot_digit(FN_forest_test[i])"
   ]
  },
  {
   "cell_type": "markdown",
   "metadata": {},
   "source": [
    "**SUMMARY:**\n",
    "1. Random Forest makes fewer `False Positive` labelings as compared to SGD\n",
    "2. In terms of making `False Negative` errors, both models perform equally\n",
    "\n",
    "\n",
    "***"
   ]
  },
  {
   "cell_type": "markdown",
   "metadata": {},
   "source": [
    "### Multi-class Classification for MNIST\n",
    "\n",
    "Two algoritms will be implemented in the multi-class classification version of the MNIST:\n",
    "* SGD Classifier\n",
    "* Random Forest Classifier\n",
    "\n",
    "Implementing a multi-class classifier is actually quite straightforward.\n",
    "\n",
    "#### Stochastic Gradient Descent\n",
    "\n",
    "`SGD` is a binary classfier. For a multi-class classification scenario, SGD uses the `One vs. All` strategy. Using the `decision_function()` method, it is possible to get decision scores for all the classes."
   ]
  },
  {
   "cell_type": "code",
   "execution_count": 144,
   "metadata": {},
   "outputs": [
    {
     "name": "stderr",
     "output_type": "stream",
     "text": [
      "/anaconda3/lib/python3.7/site-packages/sklearn/linear_model/stochastic_gradient.py:166: FutureWarning: max_iter and tol parameters have been added in SGDClassifier in 0.19. If both are left unset, they default to max_iter=5 and tol=None. If tol is not None, max_iter defaults to max_iter=1000. From 0.21, default max_iter will be 1000, and default tol will be 1e-3.\n",
      "  FutureWarning)\n",
      "/anaconda3/lib/python3.7/site-packages/sklearn/linear_model/stochastic_gradient.py:166: FutureWarning: max_iter and tol parameters have been added in SGDClassifier in 0.19. If both are left unset, they default to max_iter=5 and tol=None. If tol is not None, max_iter defaults to max_iter=1000. From 0.21, default max_iter will be 1000, and default tol will be 1e-3.\n",
      "  FutureWarning)\n",
      "/anaconda3/lib/python3.7/site-packages/sklearn/linear_model/stochastic_gradient.py:166: FutureWarning: max_iter and tol parameters have been added in SGDClassifier in 0.19. If both are left unset, they default to max_iter=5 and tol=None. If tol is not None, max_iter defaults to max_iter=1000. From 0.21, default max_iter will be 1000, and default tol will be 1e-3.\n",
      "  FutureWarning)\n",
      "/anaconda3/lib/python3.7/site-packages/sklearn/linear_model/stochastic_gradient.py:166: FutureWarning: max_iter and tol parameters have been added in SGDClassifier in 0.19. If both are left unset, they default to max_iter=5 and tol=None. If tol is not None, max_iter defaults to max_iter=1000. From 0.21, default max_iter will be 1000, and default tol will be 1e-3.\n",
      "  FutureWarning)\n",
      "/anaconda3/lib/python3.7/site-packages/sklearn/linear_model/stochastic_gradient.py:166: FutureWarning: max_iter and tol parameters have been added in SGDClassifier in 0.19. If both are left unset, they default to max_iter=5 and tol=None. If tol is not None, max_iter defaults to max_iter=1000. From 0.21, default max_iter will be 1000, and default tol will be 1e-3.\n",
      "  FutureWarning)\n",
      "/anaconda3/lib/python3.7/site-packages/sklearn/linear_model/stochastic_gradient.py:166: FutureWarning: max_iter and tol parameters have been added in SGDClassifier in 0.19. If both are left unset, they default to max_iter=5 and tol=None. If tol is not None, max_iter defaults to max_iter=1000. From 0.21, default max_iter will be 1000, and default tol will be 1e-3.\n",
      "  FutureWarning)\n"
     ]
    }
   ],
   "source": [
    "sgd_model = SGDClassifier(random_state = 42)\n",
    "\n",
    "sgd_model.fit(X_train_prep,y_train)\n",
    "\n",
    "#generating predictions using cross vaidation\n",
    "Y_train_sgd_cv_predict = cross_val_predict(sgd_model, X_train_prep, y_train, cv=5)\n"
   ]
  },
  {
   "cell_type": "code",
   "execution_count": 139,
   "metadata": {},
   "outputs": [
    {
     "name": "stdout",
     "output_type": "stream",
     "text": [
      "the shape of the predictor  (60000,)\n"
     ]
    },
    {
     "data": {
      "text/html": [
       "<div>\n",
       "<style scoped>\n",
       "    .dataframe tbody tr th:only-of-type {\n",
       "        vertical-align: middle;\n",
       "    }\n",
       "\n",
       "    .dataframe tbody tr th {\n",
       "        vertical-align: top;\n",
       "    }\n",
       "\n",
       "    .dataframe thead th {\n",
       "        text-align: right;\n",
       "    }\n",
       "</style>\n",
       "<table border=\"1\" class=\"dataframe\">\n",
       "  <thead>\n",
       "    <tr style=\"text-align: right;\">\n",
       "      <th></th>\n",
       "      <th>0</th>\n",
       "      <th>1</th>\n",
       "      <th>2</th>\n",
       "      <th>3</th>\n",
       "      <th>4</th>\n",
       "      <th>5</th>\n",
       "      <th>6</th>\n",
       "      <th>7</th>\n",
       "      <th>8</th>\n",
       "      <th>9</th>\n",
       "    </tr>\n",
       "  </thead>\n",
       "  <tbody>\n",
       "    <tr>\n",
       "      <th>0</th>\n",
       "      <td>5733</td>\n",
       "      <td>2</td>\n",
       "      <td>19</td>\n",
       "      <td>8</td>\n",
       "      <td>9</td>\n",
       "      <td>52</td>\n",
       "      <td>46</td>\n",
       "      <td>10</td>\n",
       "      <td>41</td>\n",
       "      <td>3</td>\n",
       "    </tr>\n",
       "    <tr>\n",
       "      <th>1</th>\n",
       "      <td>1</td>\n",
       "      <td>6478</td>\n",
       "      <td>43</td>\n",
       "      <td>25</td>\n",
       "      <td>6</td>\n",
       "      <td>42</td>\n",
       "      <td>6</td>\n",
       "      <td>10</td>\n",
       "      <td>119</td>\n",
       "      <td>12</td>\n",
       "    </tr>\n",
       "    <tr>\n",
       "      <th>2</th>\n",
       "      <td>57</td>\n",
       "      <td>35</td>\n",
       "      <td>5314</td>\n",
       "      <td>106</td>\n",
       "      <td>80</td>\n",
       "      <td>29</td>\n",
       "      <td>89</td>\n",
       "      <td>55</td>\n",
       "      <td>177</td>\n",
       "      <td>16</td>\n",
       "    </tr>\n",
       "    <tr>\n",
       "      <th>3</th>\n",
       "      <td>51</td>\n",
       "      <td>36</td>\n",
       "      <td>135</td>\n",
       "      <td>5342</td>\n",
       "      <td>3</td>\n",
       "      <td>236</td>\n",
       "      <td>33</td>\n",
       "      <td>56</td>\n",
       "      <td>147</td>\n",
       "      <td>92</td>\n",
       "    </tr>\n",
       "    <tr>\n",
       "      <th>4</th>\n",
       "      <td>23</td>\n",
       "      <td>25</td>\n",
       "      <td>33</td>\n",
       "      <td>10</td>\n",
       "      <td>5354</td>\n",
       "      <td>10</td>\n",
       "      <td>59</td>\n",
       "      <td>32</td>\n",
       "      <td>91</td>\n",
       "      <td>205</td>\n",
       "    </tr>\n",
       "    <tr>\n",
       "      <th>5</th>\n",
       "      <td>77</td>\n",
       "      <td>38</td>\n",
       "      <td>33</td>\n",
       "      <td>181</td>\n",
       "      <td>79</td>\n",
       "      <td>4609</td>\n",
       "      <td>103</td>\n",
       "      <td>25</td>\n",
       "      <td>186</td>\n",
       "      <td>90</td>\n",
       "    </tr>\n",
       "    <tr>\n",
       "      <th>6</th>\n",
       "      <td>33</td>\n",
       "      <td>25</td>\n",
       "      <td>42</td>\n",
       "      <td>2</td>\n",
       "      <td>39</td>\n",
       "      <td>95</td>\n",
       "      <td>5628</td>\n",
       "      <td>7</td>\n",
       "      <td>47</td>\n",
       "      <td>0</td>\n",
       "    </tr>\n",
       "    <tr>\n",
       "      <th>7</th>\n",
       "      <td>29</td>\n",
       "      <td>22</td>\n",
       "      <td>71</td>\n",
       "      <td>30</td>\n",
       "      <td>51</td>\n",
       "      <td>11</td>\n",
       "      <td>6</td>\n",
       "      <td>5800</td>\n",
       "      <td>19</td>\n",
       "      <td>226</td>\n",
       "    </tr>\n",
       "    <tr>\n",
       "      <th>8</th>\n",
       "      <td>51</td>\n",
       "      <td>158</td>\n",
       "      <td>68</td>\n",
       "      <td>148</td>\n",
       "      <td>11</td>\n",
       "      <td>153</td>\n",
       "      <td>52</td>\n",
       "      <td>24</td>\n",
       "      <td>5060</td>\n",
       "      <td>126</td>\n",
       "    </tr>\n",
       "    <tr>\n",
       "      <th>9</th>\n",
       "      <td>44</td>\n",
       "      <td>30</td>\n",
       "      <td>25</td>\n",
       "      <td>83</td>\n",
       "      <td>162</td>\n",
       "      <td>43</td>\n",
       "      <td>2</td>\n",
       "      <td>208</td>\n",
       "      <td>94</td>\n",
       "      <td>5258</td>\n",
       "    </tr>\n",
       "  </tbody>\n",
       "</table>\n",
       "</div>"
      ],
      "text/plain": [
       "      0     1     2     3     4     5     6     7     8     9\n",
       "0  5733     2    19     8     9    52    46    10    41     3\n",
       "1     1  6478    43    25     6    42     6    10   119    12\n",
       "2    57    35  5314   106    80    29    89    55   177    16\n",
       "3    51    36   135  5342     3   236    33    56   147    92\n",
       "4    23    25    33    10  5354    10    59    32    91   205\n",
       "5    77    38    33   181    79  4609   103    25   186    90\n",
       "6    33    25    42     2    39    95  5628     7    47     0\n",
       "7    29    22    71    30    51    11     6  5800    19   226\n",
       "8    51   158    68   148    11   153    52    24  5060   126\n",
       "9    44    30    25    83   162    43     2   208    94  5258"
      ]
     },
     "execution_count": 139,
     "metadata": {},
     "output_type": "execute_result"
    }
   ],
   "source": [
    "#Evaluating Performance\n",
    "print(\"the shape of the predictor \",Y_train_sgd_cv_predict.shape) #this is a multiclass output\n",
    "\n",
    "from sklearn.metrics import confusion_matrix\n",
    "import pandas as pd\n",
    "\n",
    "cm_train_sgd_cv = confusion_matrix(y_train,Y_train_sgd_cv_predict)\n",
    "\n",
    "cm_train_sgd_cv_df = pd.DataFrame(cm_train_sgd_cv, columns = [0,1,2,3,4,5,6,7,8,9])\n",
    "\n",
    "cm_train_sgd_cv_df #well done, this looks much neater\n",
    "\n"
   ]
  },
  {
   "cell_type": "markdown",
   "metadata": {},
   "source": [
    "It is curious that 119 `1's` have been miscategorized as `8's`. Calls for further investigation."
   ]
  },
  {
   "cell_type": "code",
   "execution_count": 143,
   "metadata": {},
   "outputs": [
    {
     "name": "stdout",
     "output_type": "stream",
     "text": [
      "Number of FP instances, SGD, Test Set  (119, 784)\n"
     ]
    },
    {
     "data": {
      "image/png": "[encoded data removed]",
      "text/plain": [
       "<Figure size 432x288 with 49 Axes>"
      ]
     },
     "metadata": {
      "needs_background": "light"
     },
     "output_type": "display_data"
    }
   ],
   "source": [
    "#SGD\n",
    "FN_sgd_train = X_train[(Y_train_sgd_cv_predict == 8) & (y_train == 1)]\n",
    "print(\"Number of FP instances, SGD, Test Set \",FN_sgd_train.shape) # m = 119\n",
    "\n",
    "#Plotting\n",
    "for i in range(1,50):\n",
    "    plt.subplot(7, 7, i)\n",
    "    plot_digit(FN_sgd_train[i])"
   ]
  },
  {
   "cell_type": "markdown",
   "metadata": {},
   "source": [
    "Very interesting to note that a **thick or an ink-smudged** `1` is detected as an `8`"
   ]
  },
  {
   "cell_type": "markdown",
   "metadata": {},
   "source": [
    "#### Random Forest Classifier\n",
    "\n",
    "Unlike `SGD Classifier`, `Random Forest Classifier` natively supports multi-class."
   ]
  },
  {
   "cell_type": "code",
   "execution_count": 147,
   "metadata": {},
   "outputs": [],
   "source": [
    "forest_model = RandomForestClassifier(n_estimators = 50,random_state = 42)\n",
    "\n",
    "forest_model.fit(X_train_prep,y_train)\n",
    "\n",
    "#generating predictions using cross vaidation\n",
    "Y_train_forest_cv_predict = cross_val_predict(forest_model, X_train_prep, y_train, cv=5)\n"
   ]
  },
  {
   "cell_type": "code",
   "execution_count": 148,
   "metadata": {},
   "outputs": [
    {
     "name": "stdout",
     "output_type": "stream",
     "text": [
      "the shape of the predictor  (60000,)\n"
     ]
    },
    {
     "data": {
      "text/html": [
       "<div>\n",
       "<style scoped>\n",
       "    .dataframe tbody tr th:only-of-type {\n",
       "        vertical-align: middle;\n",
       "    }\n",
       "\n",
       "    .dataframe tbody tr th {\n",
       "        vertical-align: top;\n",
       "    }\n",
       "\n",
       "    .dataframe thead th {\n",
       "        text-align: right;\n",
       "    }\n",
       "</style>\n",
       "<table border=\"1\" class=\"dataframe\">\n",
       "  <thead>\n",
       "    <tr style=\"text-align: right;\">\n",
       "      <th></th>\n",
       "      <th>0</th>\n",
       "      <th>1</th>\n",
       "      <th>2</th>\n",
       "      <th>3</th>\n",
       "      <th>4</th>\n",
       "      <th>5</th>\n",
       "      <th>6</th>\n",
       "      <th>7</th>\n",
       "      <th>8</th>\n",
       "      <th>9</th>\n",
       "    </tr>\n",
       "  </thead>\n",
       "  <tbody>\n",
       "    <tr>\n",
       "      <th>0</th>\n",
       "      <td>5842</td>\n",
       "      <td>1</td>\n",
       "      <td>10</td>\n",
       "      <td>2</td>\n",
       "      <td>7</td>\n",
       "      <td>5</td>\n",
       "      <td>20</td>\n",
       "      <td>2</td>\n",
       "      <td>30</td>\n",
       "      <td>4</td>\n",
       "    </tr>\n",
       "    <tr>\n",
       "      <th>1</th>\n",
       "      <td>1</td>\n",
       "      <td>6644</td>\n",
       "      <td>29</td>\n",
       "      <td>14</td>\n",
       "      <td>13</td>\n",
       "      <td>5</td>\n",
       "      <td>6</td>\n",
       "      <td>11</td>\n",
       "      <td>14</td>\n",
       "      <td>5</td>\n",
       "    </tr>\n",
       "    <tr>\n",
       "      <th>2</th>\n",
       "      <td>28</td>\n",
       "      <td>11</td>\n",
       "      <td>5751</td>\n",
       "      <td>32</td>\n",
       "      <td>29</td>\n",
       "      <td>4</td>\n",
       "      <td>18</td>\n",
       "      <td>34</td>\n",
       "      <td>42</td>\n",
       "      <td>9</td>\n",
       "    </tr>\n",
       "    <tr>\n",
       "      <th>3</th>\n",
       "      <td>8</td>\n",
       "      <td>7</td>\n",
       "      <td>92</td>\n",
       "      <td>5802</td>\n",
       "      <td>3</td>\n",
       "      <td>72</td>\n",
       "      <td>7</td>\n",
       "      <td>45</td>\n",
       "      <td>64</td>\n",
       "      <td>31</td>\n",
       "    </tr>\n",
       "    <tr>\n",
       "      <th>4</th>\n",
       "      <td>11</td>\n",
       "      <td>11</td>\n",
       "      <td>13</td>\n",
       "      <td>1</td>\n",
       "      <td>5653</td>\n",
       "      <td>0</td>\n",
       "      <td>22</td>\n",
       "      <td>10</td>\n",
       "      <td>13</td>\n",
       "      <td>108</td>\n",
       "    </tr>\n",
       "    <tr>\n",
       "      <th>5</th>\n",
       "      <td>22</td>\n",
       "      <td>11</td>\n",
       "      <td>12</td>\n",
       "      <td>70</td>\n",
       "      <td>13</td>\n",
       "      <td>5184</td>\n",
       "      <td>42</td>\n",
       "      <td>7</td>\n",
       "      <td>38</td>\n",
       "      <td>22</td>\n",
       "    </tr>\n",
       "    <tr>\n",
       "      <th>6</th>\n",
       "      <td>25</td>\n",
       "      <td>10</td>\n",
       "      <td>5</td>\n",
       "      <td>1</td>\n",
       "      <td>11</td>\n",
       "      <td>38</td>\n",
       "      <td>5813</td>\n",
       "      <td>0</td>\n",
       "      <td>15</td>\n",
       "      <td>0</td>\n",
       "    </tr>\n",
       "    <tr>\n",
       "      <th>7</th>\n",
       "      <td>9</td>\n",
       "      <td>27</td>\n",
       "      <td>66</td>\n",
       "      <td>7</td>\n",
       "      <td>35</td>\n",
       "      <td>1</td>\n",
       "      <td>0</td>\n",
       "      <td>6031</td>\n",
       "      <td>15</td>\n",
       "      <td>74</td>\n",
       "    </tr>\n",
       "    <tr>\n",
       "      <th>8</th>\n",
       "      <td>11</td>\n",
       "      <td>34</td>\n",
       "      <td>36</td>\n",
       "      <td>46</td>\n",
       "      <td>26</td>\n",
       "      <td>49</td>\n",
       "      <td>33</td>\n",
       "      <td>9</td>\n",
       "      <td>5554</td>\n",
       "      <td>53</td>\n",
       "    </tr>\n",
       "    <tr>\n",
       "      <th>9</th>\n",
       "      <td>22</td>\n",
       "      <td>12</td>\n",
       "      <td>13</td>\n",
       "      <td>77</td>\n",
       "      <td>91</td>\n",
       "      <td>24</td>\n",
       "      <td>5</td>\n",
       "      <td>53</td>\n",
       "      <td>42</td>\n",
       "      <td>5610</td>\n",
       "    </tr>\n",
       "  </tbody>\n",
       "</table>\n",
       "</div>"
      ],
      "text/plain": [
       "      0     1     2     3     4     5     6     7     8     9\n",
       "0  5842     1    10     2     7     5    20     2    30     4\n",
       "1     1  6644    29    14    13     5     6    11    14     5\n",
       "2    28    11  5751    32    29     4    18    34    42     9\n",
       "3     8     7    92  5802     3    72     7    45    64    31\n",
       "4    11    11    13     1  5653     0    22    10    13   108\n",
       "5    22    11    12    70    13  5184    42     7    38    22\n",
       "6    25    10     5     1    11    38  5813     0    15     0\n",
       "7     9    27    66     7    35     1     0  6031    15    74\n",
       "8    11    34    36    46    26    49    33     9  5554    53\n",
       "9    22    12    13    77    91    24     5    53    42  5610"
      ]
     },
     "execution_count": 148,
     "metadata": {},
     "output_type": "execute_result"
    }
   ],
   "source": [
    "#Evaluating Performance\n",
    "print(\"the shape of the predictor \",Y_train_forest_cv_predict.shape) #this is a multiclass output\n",
    "\n",
    "cm_train_forest_cv = confusion_matrix(y_train,Y_train_forest_cv_predict)\n",
    "\n",
    "cm_train_forest_cv_df = pd.DataFrame(cm_train_forest_cv, columns = [0,1,2,3,4,5,6,7,8,9])\n",
    "\n",
    "cm_train_forest_cv_df #well done, this looks much neater"
   ]
  },
  {
   "cell_type": "markdown",
   "metadata": {},
   "source": [
    "Its immediately apparent that the number of entries that are mis-classified is **considerably lesser** than what it was in case of `SGD`\n",
    "\n",
    "Its interesting to note that `4` has been mis-classified as `9` on 108 occasions. Zooming in a bit into this to understand this *visually*."
   ]
  },
  {
   "cell_type": "code",
   "execution_count": 149,
   "metadata": {},
   "outputs": [
    {
     "name": "stdout",
     "output_type": "stream",
     "text": [
      "Number of mis-classifications of '4' as '9', Random Forest, Training Set  (108, 784)\n"
     ]
    },
    {
     "data": {
      "image/png": "[encoded data removed]",
      "text/plain": [
       "<Figure size 432x288 with 49 Axes>"
      ]
     },
     "metadata": {
      "needs_background": "light"
     },
     "output_type": "display_data"
    }
   ],
   "source": [
    "#RF\n",
    "FN_forest_train = X_train[(Y_train_forest_cv_predict == 9) & (y_train == 4)]\n",
    "print(\"Number of mis-classifications of '4' as '9', Random Forest, Training Set \",FN_forest_train.shape) # m = 108\n",
    "\n",
    "#Plotting\n",
    "for i in range(1,50):\n",
    "    plt.subplot(7, 7, i)\n",
    "    plot_digit(FN_forest_train[i])"
   ]
  },
  {
   "cell_type": "markdown",
   "metadata": {},
   "source": [
    "A `4` that has been scribbled real quickly does resemble a `9`\n",
    "\n",
    "#### Evaluating Performance on Test Set\n",
    "\n",
    "##### SGD Classifier"
   ]
  },
  {
   "cell_type": "code",
   "execution_count": 151,
   "metadata": {},
   "outputs": [
    {
     "data": {
      "text/html": [
       "<div>\n",
       "<style scoped>\n",
       "    .dataframe tbody tr th:only-of-type {\n",
       "        vertical-align: middle;\n",
       "    }\n",
       "\n",
       "    .dataframe tbody tr th {\n",
       "        vertical-align: top;\n",
       "    }\n",
       "\n",
       "    .dataframe thead th {\n",
       "        text-align: right;\n",
       "    }\n",
       "</style>\n",
       "<table border=\"1\" class=\"dataframe\">\n",
       "  <thead>\n",
       "    <tr style=\"text-align: right;\">\n",
       "      <th></th>\n",
       "      <th>0</th>\n",
       "      <th>1</th>\n",
       "      <th>2</th>\n",
       "      <th>3</th>\n",
       "      <th>4</th>\n",
       "      <th>5</th>\n",
       "      <th>6</th>\n",
       "      <th>7</th>\n",
       "      <th>8</th>\n",
       "      <th>9</th>\n",
       "    </tr>\n",
       "  </thead>\n",
       "  <tbody>\n",
       "    <tr>\n",
       "      <th>0</th>\n",
       "      <td>961</td>\n",
       "      <td>0</td>\n",
       "      <td>1</td>\n",
       "      <td>1</td>\n",
       "      <td>0</td>\n",
       "      <td>6</td>\n",
       "      <td>5</td>\n",
       "      <td>3</td>\n",
       "      <td>2</td>\n",
       "      <td>1</td>\n",
       "    </tr>\n",
       "    <tr>\n",
       "      <th>1</th>\n",
       "      <td>0</td>\n",
       "      <td>1095</td>\n",
       "      <td>6</td>\n",
       "      <td>2</td>\n",
       "      <td>0</td>\n",
       "      <td>4</td>\n",
       "      <td>4</td>\n",
       "      <td>1</td>\n",
       "      <td>22</td>\n",
       "      <td>1</td>\n",
       "    </tr>\n",
       "    <tr>\n",
       "      <th>2</th>\n",
       "      <td>11</td>\n",
       "      <td>4</td>\n",
       "      <td>912</td>\n",
       "      <td>21</td>\n",
       "      <td>13</td>\n",
       "      <td>4</td>\n",
       "      <td>13</td>\n",
       "      <td>9</td>\n",
       "      <td>42</td>\n",
       "      <td>3</td>\n",
       "    </tr>\n",
       "    <tr>\n",
       "      <th>3</th>\n",
       "      <td>6</td>\n",
       "      <td>1</td>\n",
       "      <td>20</td>\n",
       "      <td>902</td>\n",
       "      <td>0</td>\n",
       "      <td>32</td>\n",
       "      <td>5</td>\n",
       "      <td>8</td>\n",
       "      <td>22</td>\n",
       "      <td>14</td>\n",
       "    </tr>\n",
       "    <tr>\n",
       "      <th>4</th>\n",
       "      <td>2</td>\n",
       "      <td>3</td>\n",
       "      <td>7</td>\n",
       "      <td>0</td>\n",
       "      <td>898</td>\n",
       "      <td>2</td>\n",
       "      <td>9</td>\n",
       "      <td>6</td>\n",
       "      <td>10</td>\n",
       "      <td>45</td>\n",
       "    </tr>\n",
       "    <tr>\n",
       "      <th>5</th>\n",
       "      <td>9</td>\n",
       "      <td>4</td>\n",
       "      <td>1</td>\n",
       "      <td>41</td>\n",
       "      <td>13</td>\n",
       "      <td>755</td>\n",
       "      <td>18</td>\n",
       "      <td>7</td>\n",
       "      <td>30</td>\n",
       "      <td>14</td>\n",
       "    </tr>\n",
       "    <tr>\n",
       "      <th>6</th>\n",
       "      <td>13</td>\n",
       "      <td>3</td>\n",
       "      <td>9</td>\n",
       "      <td>1</td>\n",
       "      <td>8</td>\n",
       "      <td>22</td>\n",
       "      <td>896</td>\n",
       "      <td>1</td>\n",
       "      <td>5</td>\n",
       "      <td>0</td>\n",
       "    </tr>\n",
       "    <tr>\n",
       "      <th>7</th>\n",
       "      <td>4</td>\n",
       "      <td>6</td>\n",
       "      <td>23</td>\n",
       "      <td>4</td>\n",
       "      <td>5</td>\n",
       "      <td>1</td>\n",
       "      <td>0</td>\n",
       "      <td>945</td>\n",
       "      <td>1</td>\n",
       "      <td>39</td>\n",
       "    </tr>\n",
       "    <tr>\n",
       "      <th>8</th>\n",
       "      <td>11</td>\n",
       "      <td>9</td>\n",
       "      <td>8</td>\n",
       "      <td>19</td>\n",
       "      <td>8</td>\n",
       "      <td>37</td>\n",
       "      <td>12</td>\n",
       "      <td>9</td>\n",
       "      <td>840</td>\n",
       "      <td>21</td>\n",
       "    </tr>\n",
       "    <tr>\n",
       "      <th>9</th>\n",
       "      <td>6</td>\n",
       "      <td>6</td>\n",
       "      <td>3</td>\n",
       "      <td>13</td>\n",
       "      <td>21</td>\n",
       "      <td>9</td>\n",
       "      <td>0</td>\n",
       "      <td>23</td>\n",
       "      <td>11</td>\n",
       "      <td>917</td>\n",
       "    </tr>\n",
       "  </tbody>\n",
       "</table>\n",
       "</div>"
      ],
      "text/plain": [
       "     0     1    2    3    4    5    6    7    8    9\n",
       "0  961     0    1    1    0    6    5    3    2    1\n",
       "1    0  1095    6    2    0    4    4    1   22    1\n",
       "2   11     4  912   21   13    4   13    9   42    3\n",
       "3    6     1   20  902    0   32    5    8   22   14\n",
       "4    2     3    7    0  898    2    9    6   10   45\n",
       "5    9     4    1   41   13  755   18    7   30   14\n",
       "6   13     3    9    1    8   22  896    1    5    0\n",
       "7    4     6   23    4    5    1    0  945    1   39\n",
       "8   11     9    8   19    8   37   12    9  840   21\n",
       "9    6     6    3   13   21    9    0   23   11  917"
      ]
     },
     "execution_count": 151,
     "metadata": {},
     "output_type": "execute_result"
    }
   ],
   "source": [
    "Y_test_sgd = sgd_model.predict(X_test_prep)\n",
    "\n",
    "cm_test_sgd = confusion_matrix(y_test,Y_test_sgd)\n",
    "\n",
    "cm_test_sgd_df = pd.DataFrame(cm_test_sgd, columns = [0,1,2,3,4,5,6,7,8,9])\n",
    "\n",
    "cm_test_sgd_df #well done, this looks much neater"
   ]
  },
  {
   "cell_type": "markdown",
   "metadata": {},
   "source": [
    "##### Random Forest Classifier"
   ]
  },
  {
   "cell_type": "code",
   "execution_count": 152,
   "metadata": {},
   "outputs": [
    {
     "data": {
      "text/html": [
       "<div>\n",
       "<style scoped>\n",
       "    .dataframe tbody tr th:only-of-type {\n",
       "        vertical-align: middle;\n",
       "    }\n",
       "\n",
       "    .dataframe tbody tr th {\n",
       "        vertical-align: top;\n",
       "    }\n",
       "\n",
       "    .dataframe thead th {\n",
       "        text-align: right;\n",
       "    }\n",
       "</style>\n",
       "<table border=\"1\" class=\"dataframe\">\n",
       "  <thead>\n",
       "    <tr style=\"text-align: right;\">\n",
       "      <th></th>\n",
       "      <th>0</th>\n",
       "      <th>1</th>\n",
       "      <th>2</th>\n",
       "      <th>3</th>\n",
       "      <th>4</th>\n",
       "      <th>5</th>\n",
       "      <th>6</th>\n",
       "      <th>7</th>\n",
       "      <th>8</th>\n",
       "      <th>9</th>\n",
       "    </tr>\n",
       "  </thead>\n",
       "  <tbody>\n",
       "    <tr>\n",
       "      <th>0</th>\n",
       "      <td>971</td>\n",
       "      <td>0</td>\n",
       "      <td>1</td>\n",
       "      <td>0</td>\n",
       "      <td>0</td>\n",
       "      <td>1</td>\n",
       "      <td>4</td>\n",
       "      <td>1</td>\n",
       "      <td>2</td>\n",
       "      <td>0</td>\n",
       "    </tr>\n",
       "    <tr>\n",
       "      <th>1</th>\n",
       "      <td>0</td>\n",
       "      <td>1118</td>\n",
       "      <td>2</td>\n",
       "      <td>4</td>\n",
       "      <td>0</td>\n",
       "      <td>6</td>\n",
       "      <td>2</td>\n",
       "      <td>0</td>\n",
       "      <td>3</td>\n",
       "      <td>0</td>\n",
       "    </tr>\n",
       "    <tr>\n",
       "      <th>2</th>\n",
       "      <td>9</td>\n",
       "      <td>0</td>\n",
       "      <td>979</td>\n",
       "      <td>11</td>\n",
       "      <td>2</td>\n",
       "      <td>0</td>\n",
       "      <td>5</td>\n",
       "      <td>7</td>\n",
       "      <td>19</td>\n",
       "      <td>0</td>\n",
       "    </tr>\n",
       "    <tr>\n",
       "      <th>3</th>\n",
       "      <td>2</td>\n",
       "      <td>0</td>\n",
       "      <td>9</td>\n",
       "      <td>958</td>\n",
       "      <td>0</td>\n",
       "      <td>21</td>\n",
       "      <td>0</td>\n",
       "      <td>4</td>\n",
       "      <td>15</td>\n",
       "      <td>1</td>\n",
       "    </tr>\n",
       "    <tr>\n",
       "      <th>4</th>\n",
       "      <td>2</td>\n",
       "      <td>0</td>\n",
       "      <td>1</td>\n",
       "      <td>1</td>\n",
       "      <td>936</td>\n",
       "      <td>5</td>\n",
       "      <td>10</td>\n",
       "      <td>0</td>\n",
       "      <td>11</td>\n",
       "      <td>16</td>\n",
       "    </tr>\n",
       "    <tr>\n",
       "      <th>5</th>\n",
       "      <td>8</td>\n",
       "      <td>0</td>\n",
       "      <td>2</td>\n",
       "      <td>13</td>\n",
       "      <td>0</td>\n",
       "      <td>857</td>\n",
       "      <td>3</td>\n",
       "      <td>1</td>\n",
       "      <td>8</td>\n",
       "      <td>0</td>\n",
       "    </tr>\n",
       "    <tr>\n",
       "      <th>6</th>\n",
       "      <td>15</td>\n",
       "      <td>3</td>\n",
       "      <td>2</td>\n",
       "      <td>0</td>\n",
       "      <td>7</td>\n",
       "      <td>9</td>\n",
       "      <td>916</td>\n",
       "      <td>0</td>\n",
       "      <td>6</td>\n",
       "      <td>0</td>\n",
       "    </tr>\n",
       "    <tr>\n",
       "      <th>7</th>\n",
       "      <td>8</td>\n",
       "      <td>8</td>\n",
       "      <td>32</td>\n",
       "      <td>8</td>\n",
       "      <td>3</td>\n",
       "      <td>9</td>\n",
       "      <td>0</td>\n",
       "      <td>939</td>\n",
       "      <td>8</td>\n",
       "      <td>13</td>\n",
       "    </tr>\n",
       "    <tr>\n",
       "      <th>8</th>\n",
       "      <td>6</td>\n",
       "      <td>0</td>\n",
       "      <td>5</td>\n",
       "      <td>10</td>\n",
       "      <td>5</td>\n",
       "      <td>9</td>\n",
       "      <td>3</td>\n",
       "      <td>1</td>\n",
       "      <td>933</td>\n",
       "      <td>2</td>\n",
       "    </tr>\n",
       "    <tr>\n",
       "      <th>9</th>\n",
       "      <td>9</td>\n",
       "      <td>4</td>\n",
       "      <td>4</td>\n",
       "      <td>17</td>\n",
       "      <td>18</td>\n",
       "      <td>21</td>\n",
       "      <td>0</td>\n",
       "      <td>2</td>\n",
       "      <td>16</td>\n",
       "      <td>918</td>\n",
       "    </tr>\n",
       "  </tbody>\n",
       "</table>\n",
       "</div>"
      ],
      "text/plain": [
       "     0     1    2    3    4    5    6    7    8    9\n",
       "0  971     0    1    0    0    1    4    1    2    0\n",
       "1    0  1118    2    4    0    6    2    0    3    0\n",
       "2    9     0  979   11    2    0    5    7   19    0\n",
       "3    2     0    9  958    0   21    0    4   15    1\n",
       "4    2     0    1    1  936    5   10    0   11   16\n",
       "5    8     0    2   13    0  857    3    1    8    0\n",
       "6   15     3    2    0    7    9  916    0    6    0\n",
       "7    8     8   32    8    3    9    0  939    8   13\n",
       "8    6     0    5   10    5    9    3    1  933    2\n",
       "9    9     4    4   17   18   21    0    2   16  918"
      ]
     },
     "execution_count": 152,
     "metadata": {},
     "output_type": "execute_result"
    }
   ],
   "source": [
    "Y_test_forest = forest_model.predict(X_test_prep)\n",
    "\n",
    "cm_test_forest = confusion_matrix(y_test,Y_test_forest)\n",
    "\n",
    "cm_test_forest_df = pd.DataFrame(cm_test_forest, columns = [0,1,2,3,4,5,6,7,8,9])\n",
    "\n",
    "cm_test_forest_df #well done, this looks much neater"
   ]
  },
  {
   "cell_type": "markdown",
   "metadata": {},
   "source": [
    "Random Forest performs exttremely well on the **test set**.\n",
    "\n",
    "Interestingly `9` seems to have highest number of categories across which it is misclassified. Its misclassified as `3`,`4` and `5`.\n",
    "\n",
    "Quickly zooming into the **21** instances when `9` is misclassified as `5`"
   ]
  },
  {
   "cell_type": "code",
   "execution_count": 156,
   "metadata": {},
   "outputs": [
    {
     "name": "stdout",
     "output_type": "stream",
     "text": [
      "Number of mis-classifications of '9' as '5', RF, Test Set  (21, 784)\n"
     ]
    },
    {
     "data": {
      "image/png": "[encoded data removed]",
      "text/plain": [
       "<Figure size 432x288 with 20 Axes>"
      ]
     },
     "metadata": {
      "needs_background": "light"
     },
     "output_type": "display_data"
    }
   ],
   "source": [
    "#RF\n",
    "FN_forest_test = X_test[(Y_test_forest == 5) & (y_test == 9)]\n",
    "print(\"Number of mis-classifications of '9' as '5', RF, Test Set \",FN_forest_test.shape) # m = 108\n",
    "\n",
    "#Plotting\n",
    "for i in range(1,21):\n",
    "    plt.subplot(5, 5, i)\n",
    "    plot_digit(FN_forest_test[i])"
   ]
  },
  {
   "cell_type": "markdown",
   "metadata": {},
   "source": [
    "\n",
    "\n",
    "\n",
    "***"
   ]
  }
 ],
 "metadata": {
  "kernelspec": {
   "display_name": "Python 3",
   "language": "python",
   "name": "python3"
  },
  "language_info": {
   "codemirror_mode": {
    "name": "ipython",
    "version": 3
   },
   "file_extension": ".py",
   "mimetype": "text/x-python",
   "name": "python",
   "nbconvert_exporter": "python",
   "pygments_lexer": "ipython3",
   "version": "3.7.2"
  },
  "toc": {
   "base_numbering": 1,
   "nav_menu": {},
   "number_sections": true,
   "sideBar": true,
   "skip_h1_title": false,
   "title_cell": "Table of Contents",
   "title_sidebar": "Contents",
   "toc_cell": false,
   "toc_position": {},
   "toc_section_display": true,
   "toc_window_display": false
  }
 },
 "nbformat": 4,
 "nbformat_minor": 2
}
